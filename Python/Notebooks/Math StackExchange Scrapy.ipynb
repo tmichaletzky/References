{
 "cells": [
  {
   "cell_type": "code",
   "execution_count": 82,
   "id": "cubic-contest",
   "metadata": {},
   "outputs": [],
   "source": [
    "import scrapy\n",
    "import time\n",
    "import sys, json\n",
    "import socket\n",
    "import requests\n",
    "\n",
    "from scrapy.crawler import CrawlerProcess\n",
    "\n",
    "from IPython.core.display import HTML\n",
    "HTML(\"<style>.container { width:90% !important; }</style>\")\n",
    "\n",
    "import turicreate as tc\n",
    "import pandas as pd\n",
    "\n",
    "from collections import Counter\n",
    "\n",
    "import pprint\n",
    "pp = pprint.PrettyPrinter(indent=4)"
   ]
  },
  {
   "cell_type": "markdown",
   "id": "viral-boundary",
   "metadata": {},
   "source": [
    "# Scrapy"
   ]
  },
  {
   "cell_type": "code",
   "execution_count": 2,
   "id": "surgical-vessel",
   "metadata": {},
   "outputs": [],
   "source": [
    "class MathstackSpider(scrapy.Spider):\n",
    "    name = 'mathstack'\n",
    "    allowed_domains = ['math.stackexchange.com']\n",
    "    start_urls = ['https://math.stackexchange.com/questions?tab=votes']\n",
    "    \n",
    "    custom_settings = {\n",
    "        #'ITEM_PIPELINES': {'__main__.ExtractFirstLine': 1},\n",
    "        'FEED_FORMAT':'csv',\n",
    "        'FEED_URI': 'mathstack.csv'\n",
    "    }\n",
    "    \n",
    "    def parse(self, response):\n",
    "        for entry in response.css('div.question-summary'):\n",
    "            #url = entry.css('a.question-hyperlink::attr(href)').get()\n",
    "            title = entry.css('a.question-hyperlink::text').get()\n",
    "            user = entry.css('div.user-details a::text').get()\n",
    "            tags = entry.css('a.post-tag::text').getall()\n",
    "            #time = entry.css('span.relativetime::attr(title)').get()\n",
    "            \n",
    "        for stat in response.css('div.statscontainer'):\n",
    "            votes = stat.css('span.vote-count-post ::text').get()\n",
    "            answers = stat.css('div.status.answered::text').get()\n",
    "            views = stat.css('div.views ::text').get()\n",
    "            \n",
    "        \n",
    "            \n",
    "        yield{\n",
    "            #    'url': response.urljoin(url),\n",
    "                'title': title,\n",
    "                'user': user,\n",
    "                'tags': tags,\n",
    "            #   'time': time,\n",
    "                'votes': votes,\n",
    "                'answers': answers,\n",
    "                'views': views\n",
    "            }        \n",
    "\n",
    "        next_page = response.css('div.s-pagination.pager.fl a.s-pagination--item.js-pagination-item::attr(href)').getall()[-1]\n",
    "        if next_page is not None:\n",
    "            next_page = response.urljoin(next_page)\n",
    "            yield scrapy.Request(next_page, callback=self.parse)"
   ]
  },
  {
   "cell_type": "code",
   "execution_count": 23,
   "id": "fatal-violation",
   "metadata": {
    "scrolled": true
   },
   "outputs": [],
   "source": [
    "#Won't work\n",
    "\n",
    "#process = CrawlerProcess()\n",
    "#process.crawl(MathstackSpider)\n",
    "#process.start()"
   ]
  },
  {
   "cell_type": "markdown",
   "id": "little-austria",
   "metadata": {},
   "source": [
    "# Data analyse"
   ]
  },
  {
   "cell_type": "code",
   "execution_count": 56,
   "id": "alpha-motel",
   "metadata": {},
   "outputs": [
    {
     "data": {
      "text/html": [
       "<pre>Finished parsing file /home/tmichaletzky/mathstack/mathstack.csv</pre>"
      ],
      "text/plain": [
       "Finished parsing file /home/tmichaletzky/mathstack/mathstack.csv"
      ]
     },
     "metadata": {},
     "output_type": "display_data"
    },
    {
     "data": {
      "text/html": [
       "<pre>Parsing completed. Parsed 100 lines in 0.063509 secs.</pre>"
      ],
      "text/plain": [
       "Parsing completed. Parsed 100 lines in 0.063509 secs."
      ]
     },
     "metadata": {},
     "output_type": "display_data"
    },
    {
     "data": {
      "text/html": [
       "<pre>These column type hints were not used: X8</pre>"
      ],
      "text/plain": [
       "These column type hints were not used: X8"
      ]
     },
     "metadata": {},
     "output_type": "display_data"
    },
    {
     "data": {
      "text/html": [
       "<pre>Unable to interpret \"calculus\" as a integer\n",
       "Parse failed at token ending at: \n",
       "\tJason,Trig substitution, why can we ignore the absolute value?,calculus,\u001b[1;31m^\u001b[0m17,,4k,\n",
       "Successfully parsed 3 tokens: \n",
       "\t0: Jason\n",
       "\t1: Trig substitution\n",
       "\t2: why can we ... ute value?</pre>"
      ],
      "text/plain": [
       "Unable to interpret \"calculus\" as a integer\n",
       "Parse failed at token ending at: \n",
       "\tJason,Trig substitution, why can we ignore the absolute value?,calculus,\u001b[1;31m^\u001b[0m17,,4k,\n",
       "Successfully parsed 3 tokens: \n",
       "\t0: Jason\n",
       "\t1: Trig substitution\n",
       "\t2: why can we ... ute value?"
      ]
     },
     "metadata": {},
     "output_type": "display_data"
    },
    {
     "data": {
      "text/html": [
       "<pre>Unable to interpret \"number-theory\" as a integer\n",
       "Parse failed at token ending at: \n",
       "\ttaserian,Mistaken counterexample to FLT, where's the mistake?,number-theory,\u001b[1;31m^\u001b[0m17,,2k,\n",
       "Successfully parsed 3 tokens: \n",
       "\t0: taserian\n",
       "\t1: Mistaken c ... ple to FLT\n",
       "\t2: where's the mistake?</pre>"
      ],
      "text/plain": [
       "Unable to interpret \"number-theory\" as a integer\n",
       "Parse failed at token ending at: \n",
       "\ttaserian,Mistaken counterexample to FLT, where's the mistake?,number-theory,\u001b[1;31m^\u001b[0m17,,2k,\n",
       "Successfully parsed 3 tokens: \n",
       "\t0: taserian\n",
       "\t1: Mistaken c ... ple to FLT\n",
       "\t2: where's the mistake?"
      ]
     },
     "metadata": {},
     "output_type": "display_data"
    },
    {
     "data": {
      "text/html": [
       "<pre>2 lines failed to parse correctly</pre>"
      ],
      "text/plain": [
       "2 lines failed to parse correctly"
      ]
     },
     "metadata": {},
     "output_type": "display_data"
    },
    {
     "data": {
      "text/html": [
       "<pre>Finished parsing file /home/tmichaletzky/mathstack/mathstack.csv</pre>"
      ],
      "text/plain": [
       "Finished parsing file /home/tmichaletzky/mathstack/mathstack.csv"
      ]
     },
     "metadata": {},
     "output_type": "display_data"
    },
    {
     "data": {
      "text/html": [
       "<pre>Parsing completed. Parsed 936 lines in 0.060649 secs.</pre>"
      ],
      "text/plain": [
       "Parsing completed. Parsed 936 lines in 0.060649 secs."
      ]
     },
     "metadata": {},
     "output_type": "display_data"
    }
   ],
   "source": [
    "data = tc.SFrame.read_csv('mathstack.csv', column_type_hints={'votes':int, 'answers': int, 'views': int, 'tags': object})"
   ]
  },
  {
   "cell_type": "code",
   "execution_count": 57,
   "id": "moral-marine",
   "metadata": {},
   "outputs": [
    {
     "data": {
      "text/html": [
       "<div style=\"max-height:1000px;max-width:1500px;overflow:auto;\"><table frame=\"box\" rules=\"cols\">\n",
       "    <tr>\n",
       "        <th style=\"padding-left: 1em; padding-right: 1em; text-align: center\">user</th>\n",
       "        <th style=\"padding-left: 1em; padding-right: 1em; text-align: center\">title</th>\n",
       "        <th style=\"padding-left: 1em; padding-right: 1em; text-align: center\">tags</th>\n",
       "        <th style=\"padding-left: 1em; padding-right: 1em; text-align: center\">votes</th>\n",
       "        <th style=\"padding-left: 1em; padding-right: 1em; text-align: center\">answers</th>\n",
       "        <th style=\"padding-left: 1em; padding-right: 1em; text-align: center\">views</th>\n",
       "    </tr>\n",
       "    <tr>\n",
       "        <td style=\"padding-left: 1em; padding-right: 1em; text-align: center; vertical-align: top\">Alice</td>\n",
       "        <td style=\"padding-left: 1em; padding-right: 1em; text-align: center; vertical-align: top\">Why does this innovative<br>method of subtraction ...</td>\n",
       "        <td style=\"padding-left: 1em; padding-right: 1em; text-align: center; vertical-align: top\">arithmetic</td>\n",
       "        <td style=\"padding-left: 1em; padding-right: 1em; text-align: center; vertical-align: top\">291</td>\n",
       "        <td style=\"padding-left: 1em; padding-right: 1em; text-align: center; vertical-align: top\">None</td>\n",
       "        <td style=\"padding-left: 1em; padding-right: 1em; text-align: center; vertical-align: top\">35</td>\n",
       "    </tr>\n",
       "    <tr>\n",
       "        <td style=\"padding-left: 1em; padding-right: 1em; text-align: center; vertical-align: top\">t.b.</td>\n",
       "        <td style=\"padding-left: 1em; padding-right: 1em; text-align: center; vertical-align: top\">Does the open mapping<br>theorem imply the Baire ...</td>\n",
       "        <td style=\"padding-left: 1em; padding-right: 1em; text-align: center; vertical-align: top\">functional-analysis,set-<br>theory,banach- ...</td>\n",
       "        <td style=\"padding-left: 1em; padding-right: 1em; text-align: center; vertical-align: top\">221</td>\n",
       "        <td style=\"padding-left: 1em; padding-right: 1em; text-align: center; vertical-align: top\">None</td>\n",
       "        <td style=\"padding-left: 1em; padding-right: 1em; text-align: center; vertical-align: top\">9</td>\n",
       "    </tr>\n",
       "    <tr>\n",
       "        <td style=\"padding-left: 1em; padding-right: 1em; text-align: center; vertical-align: top\">\\n        7 revs, 6 users<br>50% ...</td>\n",
       "        <td style=\"padding-left: 1em; padding-right: 1em; text-align: center; vertical-align: top\">What is a good complex<br>analysis textbook, ...</td>\n",
       "        <td style=\"padding-left: 1em; padding-right: 1em; text-align: center; vertical-align: top\">complex-<br>analysis,reference- ...</td>\n",
       "        <td style=\"padding-left: 1em; padding-right: 1em; text-align: center; vertical-align: top\">178</td>\n",
       "        <td style=\"padding-left: 1em; padding-right: 1em; text-align: center; vertical-align: top\">None</td>\n",
       "        <td style=\"padding-left: 1em; padding-right: 1em; text-align: center; vertical-align: top\">110</td>\n",
       "    </tr>\n",
       "    <tr>\n",
       "        <td style=\"padding-left: 1em; padding-right: 1em; text-align: center; vertical-align: top\">Robert Z</td>\n",
       "        <td style=\"padding-left: 1em; padding-right: 1em; text-align: center; vertical-align: top\">The Hole in One Pizza</td>\n",
       "        <td style=\"padding-left: 1em; padding-right: 1em; text-align: center; vertical-align: top\">euclidean-<br>geometry,recreational- ...</td>\n",
       "        <td style=\"padding-left: 1em; padding-right: 1em; text-align: center; vertical-align: top\">156</td>\n",
       "        <td style=\"padding-left: 1em; padding-right: 1em; text-align: center; vertical-align: top\">None</td>\n",
       "        <td style=\"padding-left: 1em; padding-right: 1em; text-align: center; vertical-align: top\">8</td>\n",
       "    </tr>\n",
       "    <tr>\n",
       "        <td style=\"padding-left: 1em; padding-right: 1em; text-align: center; vertical-align: top\">Jim</td>\n",
       "        <td style=\"padding-left: 1em; padding-right: 1em; text-align: center; vertical-align: top\">What&#x27;s 4 times more<br>likely than 80%? ...</td>\n",
       "        <td style=\"padding-left: 1em; padding-right: 1em; text-align: center; vertical-align: top\">probability</td>\n",
       "        <td style=\"padding-left: 1em; padding-right: 1em; text-align: center; vertical-align: top\">143</td>\n",
       "        <td style=\"padding-left: 1em; padding-right: 1em; text-align: center; vertical-align: top\">None</td>\n",
       "        <td style=\"padding-left: 1em; padding-right: 1em; text-align: center; vertical-align: top\">28</td>\n",
       "    </tr>\n",
       "    <tr>\n",
       "        <td style=\"padding-left: 1em; padding-right: 1em; text-align: center; vertical-align: top\">Nathan Osman</td>\n",
       "        <td style=\"padding-left: 1em; padding-right: 1em; text-align: center; vertical-align: top\">Sum of First $n$ Squares<br>Equals ...</td>\n",
       "        <td style=\"padding-left: 1em; padding-right: 1em; text-align: center; vertical-align: top\">sequences-and-<br>series,discrete- ...</td>\n",
       "        <td style=\"padding-left: 1em; padding-right: 1em; text-align: center; vertical-align: top\">128</td>\n",
       "        <td style=\"padding-left: 1em; padding-right: 1em; text-align: center; vertical-align: top\">None</td>\n",
       "        <td style=\"padding-left: 1em; padding-right: 1em; text-align: center; vertical-align: top\">69</td>\n",
       "    </tr>\n",
       "    <tr>\n",
       "        <td style=\"padding-left: 1em; padding-right: 1em; text-align: center; vertical-align: top\">Tomas Wolf</td>\n",
       "        <td style=\"padding-left: 1em; padding-right: 1em; text-align: center; vertical-align: top\">Infiniteness of non-twin<br>primes. ...</td>\n",
       "        <td style=\"padding-left: 1em; padding-right: 1em; text-align: center; vertical-align: top\">elementary-number-<br>theory,prime- ...</td>\n",
       "        <td style=\"padding-left: 1em; padding-right: 1em; text-align: center; vertical-align: top\">119</td>\n",
       "        <td style=\"padding-left: 1em; padding-right: 1em; text-align: center; vertical-align: top\">None</td>\n",
       "        <td style=\"padding-left: 1em; padding-right: 1em; text-align: center; vertical-align: top\">12</td>\n",
       "    </tr>\n",
       "    <tr>\n",
       "        <td style=\"padding-left: 1em; padding-right: 1em; text-align: center; vertical-align: top\">IBS</td>\n",
       "        <td style=\"padding-left: 1em; padding-right: 1em; text-align: center; vertical-align: top\">How to find the Galois<br>group of a polynomial? ...</td>\n",
       "        <td style=\"padding-left: 1em; padding-right: 1em; text-align: center; vertical-align: top\">abstract-algebra,field-<br>theory,galois-theory ...</td>\n",
       "        <td style=\"padding-left: 1em; padding-right: 1em; text-align: center; vertical-align: top\">111</td>\n",
       "        <td style=\"padding-left: 1em; padding-right: 1em; text-align: center; vertical-align: top\">None</td>\n",
       "        <td style=\"padding-left: 1em; padding-right: 1em; text-align: center; vertical-align: top\">38</td>\n",
       "    </tr>\n",
       "    <tr>\n",
       "        <td style=\"padding-left: 1em; padding-right: 1em; text-align: center; vertical-align: top\">Adam Freymiller</td>\n",
       "        <td style=\"padding-left: 1em; padding-right: 1em; text-align: center; vertical-align: top\">If I flip a coin 1000<br>times in a row and it ...</td>\n",
       "        <td style=\"padding-left: 1em; padding-right: 1em; text-align: center; vertical-align: top\">probability,statistics,ex<br>perimental-mathematics ...</td>\n",
       "        <td style=\"padding-left: 1em; padding-right: 1em; text-align: center; vertical-align: top\">106</td>\n",
       "        <td style=\"padding-left: 1em; padding-right: 1em; text-align: center; vertical-align: top\">None</td>\n",
       "        <td style=\"padding-left: 1em; padding-right: 1em; text-align: center; vertical-align: top\">32</td>\n",
       "    </tr>\n",
       "    <tr>\n",
       "        <td style=\"padding-left: 1em; padding-right: 1em; text-align: center; vertical-align: top\">JackOfAll</td>\n",
       "        <td style=\"padding-left: 1em; padding-right: 1em; text-align: center; vertical-align: top\">Don&#x27;t see the point of<br>the Fundamental Theorem ...</td>\n",
       "        <td style=\"padding-left: 1em; padding-right: 1em; text-align: center; vertical-align: top\">calculus</td>\n",
       "        <td style=\"padding-left: 1em; padding-right: 1em; text-align: center; vertical-align: top\">98</td>\n",
       "        <td style=\"padding-left: 1em; padding-right: 1em; text-align: center; vertical-align: top\">None</td>\n",
       "        <td style=\"padding-left: 1em; padding-right: 1em; text-align: center; vertical-align: top\">16</td>\n",
       "    </tr>\n",
       "</table>\n",
       "<table frame=\"box\" rules=\"cols\">\n",
       "    <tr>\n",
       "        <th style=\"padding-left: 1em; padding-right: 1em; text-align: center\">time</th>\n",
       "        <th style=\"padding-left: 1em; padding-right: 1em; text-align: center\">X8</th>\n",
       "    </tr>\n",
       "    <tr>\n",
       "        <td style=\"padding-left: 1em; padding-right: 1em; text-align: center; vertical-align: top\">2018-02-26 19:52:31Z</td>\n",
       "        <td style=\"padding-left: 1em; padding-right: 1em; text-align: center; vertical-align: top\"></td>\n",
       "    </tr>\n",
       "    <tr>\n",
       "        <td style=\"padding-left: 1em; padding-right: 1em; text-align: center; vertical-align: top\">2012-05-19 03:33:48Z</td>\n",
       "        <td style=\"padding-left: 1em; padding-right: 1em; text-align: center; vertical-align: top\"></td>\n",
       "    </tr>\n",
       "    <tr>\n",
       "        <td style=\"padding-left: 1em; padding-right: 1em; text-align: center; vertical-align: top\"></td>\n",
       "        <td style=\"padding-left: 1em; padding-right: 1em; text-align: center; vertical-align: top\"></td>\n",
       "    </tr>\n",
       "    <tr>\n",
       "        <td style=\"padding-left: 1em; padding-right: 1em; text-align: center; vertical-align: top\">2017-09-29 11:12:16Z</td>\n",
       "        <td style=\"padding-left: 1em; padding-right: 1em; text-align: center; vertical-align: top\"></td>\n",
       "    </tr>\n",
       "    <tr>\n",
       "        <td style=\"padding-left: 1em; padding-right: 1em; text-align: center; vertical-align: top\">2013-08-12 11:35:24Z</td>\n",
       "        <td style=\"padding-left: 1em; padding-right: 1em; text-align: center; vertical-align: top\"></td>\n",
       "    </tr>\n",
       "    <tr>\n",
       "        <td style=\"padding-left: 1em; padding-right: 1em; text-align: center; vertical-align: top\">2011-06-27 23:05:57Z</td>\n",
       "        <td style=\"padding-left: 1em; padding-right: 1em; text-align: center; vertical-align: top\"></td>\n",
       "    </tr>\n",
       "    <tr>\n",
       "        <td style=\"padding-left: 1em; padding-right: 1em; text-align: center; vertical-align: top\">2013-12-20 18:18:14Z</td>\n",
       "        <td style=\"padding-left: 1em; padding-right: 1em; text-align: center; vertical-align: top\"></td>\n",
       "    </tr>\n",
       "    <tr>\n",
       "        <td style=\"padding-left: 1em; padding-right: 1em; text-align: center; vertical-align: top\">2011-06-17 13:40:26Z</td>\n",
       "        <td style=\"padding-left: 1em; padding-right: 1em; text-align: center; vertical-align: top\"></td>\n",
       "    </tr>\n",
       "    <tr>\n",
       "        <td style=\"padding-left: 1em; padding-right: 1em; text-align: center; vertical-align: top\">2015-07-02 01:51:18Z</td>\n",
       "        <td style=\"padding-left: 1em; padding-right: 1em; text-align: center; vertical-align: top\"></td>\n",
       "    </tr>\n",
       "    <tr>\n",
       "        <td style=\"padding-left: 1em; padding-right: 1em; text-align: center; vertical-align: top\">2014-12-11 00:08:47Z</td>\n",
       "        <td style=\"padding-left: 1em; padding-right: 1em; text-align: center; vertical-align: top\"></td>\n",
       "    </tr>\n",
       "</table>\n",
       "[10 rows x 8 columns]<br/>\n",
       "</div>"
      ],
      "text/plain": [
       "Columns:\n",
       "\tuser\tstr\n",
       "\ttitle\tstr\n",
       "\ttags\tNoneType\n",
       "\tvotes\tint\n",
       "\tanswers\tint\n",
       "\tviews\tint\n",
       "\ttime\tstr\n",
       "\tX8\tstr\n",
       "\n",
       "Rows: 10\n",
       "\n",
       "Data:\n",
       "+-------------------------------+-------------------------------+\n",
       "|              user             |             title             |\n",
       "+-------------------------------+-------------------------------+\n",
       "|             Alice             | Why does this innovative m... |\n",
       "|              t.b.             | Does the open mapping theo... |\n",
       "| \\n        7 revs, 6 users 50% | What is a good complex ana... |\n",
       "|            Robert Z           |     The Hole in One Pizza     |\n",
       "|              Jim              | What's 4 times more likely... |\n",
       "|          Nathan Osman         | Sum of First $n$ Squares E... |\n",
       "|           Tomas Wolf          | Infiniteness of non-twin p... |\n",
       "|              IBS              | How to find the Galois gro... |\n",
       "|        Adam Freymiller        | If I flip a coin 1000 time... |\n",
       "|           JackOfAll           | Don't see the point of the... |\n",
       "+-------------------------------+-------------------------------+\n",
       "+-------------------------------+-------+---------+-------+----------------------+\n",
       "|              tags             | votes | answers | views |         time         |\n",
       "+-------------------------------+-------+---------+-------+----------------------+\n",
       "|           arithmetic          |  291  |   None  |   35  | 2018-02-26 19:52:31Z |\n",
       "| functional-analysis,set-th... |  221  |   None  |   9   | 2012-05-19 03:33:48Z |\n",
       "| complex-analysis,reference... |  178  |   None  |  110  |                      |\n",
       "| euclidean-geometry,recreat... |  156  |   None  |   8   | 2017-09-29 11:12:16Z |\n",
       "|          probability          |  143  |   None  |   28  | 2013-08-12 11:35:24Z |\n",
       "| sequences-and-series,discr... |  128  |   None  |   69  | 2011-06-27 23:05:57Z |\n",
       "| elementary-number-theory,p... |  119  |   None  |   12  | 2013-12-20 18:18:14Z |\n",
       "| abstract-algebra,field-the... |  111  |   None  |   38  | 2011-06-17 13:40:26Z |\n",
       "| probability,statistics,exp... |  106  |   None  |   32  | 2015-07-02 01:51:18Z |\n",
       "|            calculus           |   98  |   None  |   16  | 2014-12-11 00:08:47Z |\n",
       "+-------------------------------+-------+---------+-------+----------------------+\n",
       "+----+\n",
       "| X8 |\n",
       "+----+\n",
       "|    |\n",
       "|    |\n",
       "|    |\n",
       "|    |\n",
       "|    |\n",
       "|    |\n",
       "|    |\n",
       "|    |\n",
       "|    |\n",
       "|    |\n",
       "+----+\n",
       "[10 rows x 8 columns]"
      ]
     },
     "execution_count": 57,
     "metadata": {},
     "output_type": "execute_result"
    }
   ],
   "source": [
    "data.head()"
   ]
  },
  {
   "cell_type": "code",
   "execution_count": 32,
   "id": "effective-departure",
   "metadata": {
    "scrolled": true
   },
   "outputs": [
    {
     "data": {
      "text/html": [
       "<pre>Materializing SFrame</pre>"
      ],
      "text/plain": [
       "Materializing SFrame"
      ]
     },
     "metadata": {},
     "output_type": "display_data"
    },
    {
     "data": {
      "text/html": [
       "<pre>Warning: Skipping column 'tags'. Unable to show columns of type 'undefined'; only [int, float, str] can be shown.</pre>"
      ],
      "text/plain": [
       "Warning: Skipping column 'tags'. Unable to show columns of type 'undefined'; only [int, float, str] can be shown."
      ]
     },
     "metadata": {},
     "output_type": "display_data"
    },
    {
     "data": {
      "text/html": [
       "<pre>Further warnings of unsupported type will be suppressed.</pre>"
      ],
      "text/plain": [
       "Further warnings of unsupported type will be suppressed."
      ]
     },
     "metadata": {},
     "output_type": "display_data"
    },
    {
     "data": {
      "text/html": [
       "<html>                 <body>                     <iframe style=\"border:0;margin:0\" width=\"1000\" height=\"2400\" srcdoc='<html lang=\"en\">                         <head>                             <script src=\"https://cdnjs.cloudflare.com/ajax/libs/vega/5.4.0/vega.js\"></script>                             <script src=\"https://cdnjs.cloudflare.com/ajax/libs/vega-embed/4.0.0/vega-embed.js\"></script>                             <script src=\"https://cdnjs.cloudflare.com/ajax/libs/vega-tooltip/0.5.1/vega-tooltip.min.js\"></script>                             <link rel=\"stylesheet\" type=\"text/css\" href=\"https://cdnjs.cloudflare.com/ajax/libs/vega-tooltip/0.5.1/vega-tooltip.min.css\">                             <style>                             .vega-actions > a{                                 color:white;                                 text-decoration: none;                                 font-family: \"Arial\";                                 cursor:pointer;                                 padding:5px;                                 background:#AAAAAA;                                 border-radius:4px;                                 padding-left:10px;                                 padding-right:10px;                                 margin-right:5px;                             }                             .vega-actions{                                 margin-top:20px;                                 text-align:center                             }                            .vega-actions > a{                                 background:#999999;                            }                             </style>                         </head>                         <body>                             <div id=\"vis\">                             </div>                             <script>                                 var vega_json = \"{\\\"$schema\\\": \\\"https://vega.github.io/schema/vega/v4.json\\\", \\\"metadata\\\": {\\\"bubbleOpts\\\": {\\\"showAllFields\\\": false, \\\"fields\\\": [{\\\"field\\\": \\\"left\\\"}, {\\\"field\\\": \\\"right\\\"}, {\\\"field\\\": \\\"count\\\"}, {\\\"field\\\": \\\"label\\\"}]}}, \\\"width\\\": 800, \\\"height\\\": 2180, \\\"padding\\\": 8, \\\"data\\\": [{\\\"name\\\": \\\"pts_store\\\"}, {\\\"name\\\": \\\"source_2\\\", \\\"values\\\": [{\\\"a\\\": 0, \\\"title\\\": \\\"user\\\", \\\"num_row\\\": 936, \\\"type\\\": \\\"str\\\", \\\"num_unique\\\": 818, \\\"num_missing\\\": 0, \\\"categorical\\\": [{\\\"label\\\": \\\"\\\", \\\"label_idx\\\": 0, \\\"count\\\": 47, \\\"percentage\\\": \\\"5.02137%\\\"}, {\\\"label\\\": \\\"user 1591719\\\", \\\"label_idx\\\": 1, \\\"count\\\": 6, \\\"percentage\\\": \\\"0.641026%\\\"}, {\\\"label\\\": \\\"MJD\\\", \\\"label_idx\\\": 2, \\\"count\\\": 4, \\\"percentage\\\": \\\"0.42735%\\\"}, {\\\"label\\\": \\\"goblin GONE\\\", \\\"label_idx\\\": 3, \\\"count\\\": 4, \\\"percentage\\\": \\\"0.42735%\\\"}, {\\\"label\\\": \\\"\\\\u011b\\\\u0155\\\\u00eb\\\\u013a\\\\u00ed\\\\u00fc\\\\u0119\\\\u0155\\\\u0358  \\\\u202f\\\\u011b\\\\u0163\\\\u011b\\\\u00eb\\\\u0155\\\", \\\"label_idx\\\": 4, \\\"count\\\": 4, \\\"percentage\\\": \\\"0.42735%\\\"}, {\\\"label\\\": \\\"Franklin Pezzuti Dyer\\\", \\\"label_idx\\\": 5, \\\"count\\\": 3, \\\"percentage\\\": \\\"0.320513%\\\"}, {\\\"label\\\": \\\"Marso\\\", \\\"label_idx\\\": 6, \\\"count\\\": 3, \\\"percentage\\\": \\\"0.320513%\\\"}, {\\\"label\\\": \\\"Random Variable\\\", \\\"label_idx\\\": 7, \\\"count\\\": 3, \\\"percentage\\\": \\\"0.320513%\\\"}, {\\\"label\\\": \\\"Tito Piezas III\\\", \\\"label_idx\\\": 8, \\\"count\\\": 3, \\\"percentage\\\": \\\"0.320513%\\\"}, {\\\"label\\\": \\\"Vepir\\\", \\\"label_idx\\\": 9, \\\"count\\\": 3, \\\"percentage\\\": \\\"0.320513%\\\"}, {\\\"label\\\": \\\"Other (808 labels)\\\", \\\"label_idx\\\": 10, \\\"count\\\": 856, \\\"percentage\\\": \\\"91.453%\\\"}], \\\"numeric\\\": []}, {\\\"a\\\": 1, \\\"title\\\": \\\"title\\\", \\\"num_row\\\": 936, \\\"type\\\": \\\"str\\\", \\\"num_unique\\\": 936, \\\"num_missing\\\": 0, \\\"categorical\\\": [{\\\"label\\\": \\\"$(\\\\\\\\beth_{\\\\\\\\omega})^\\\\\\\\omega=\\\\\\\\beth_{\\\\\\\\omega+1}$\\\", \\\"label_idx\\\": 0, \\\"count\\\": 1, \\\"percentage\\\": \\\"0.106838%\\\"}, {\\\"label\\\": \\\"$2^x - a$ touches $\\\\\\\\log_2(x)$\\\", \\\"label_idx\\\": 1, \\\"count\\\": 1, \\\"percentage\\\": \\\"0.106838%\\\"}, {\\\"label\\\": \\\"$P(z)=0$ iff $Q(z)=0$, $P(z)=1$ iff $Q(z)=1$. Prove that $P(x)=Q(x)$ for all $x$\\\", \\\"label_idx\\\": 2, \\\"count\\\": 1, \\\"percentage\\\": \\\"0.106838%\\\"}, {\\\"label\\\": \\\"$S=1+10+100+100+10000+\\\\u2026 = -1/9$? How is that\\\", \\\"label_idx\\\": 3, \\\"count\\\": 1, \\\"percentage\\\": \\\"0.106838%\\\"}, {\\\"label\\\": \\\"$\\\\\\\\exists x \\\\\\\\in R$ and $\\\\\\\\exists n \\\\\\\\in\\\\\\\\mathbb{N}$ such that $x^{n+1} = x^n \\\\\\\\implies x^2 = x$\\\", \\\"label_idx\\\": 4, \\\"count\\\": 1, \\\"percentage\\\": \\\"0.106838%\\\"}, {\\\"label\\\": \\\"$\\\\\\\\int \\\\\\\\frac{1}{f\\\\u2019(x)}$ diverges\\\", \\\"label_idx\\\": 5, \\\"count\\\": 1, \\\"percentage\\\": \\\"0.106838%\\\"}, {\\\"label\\\": \\\"$\\\\\\\\int_0^\\\\\\\\infty \\\\\\\\frac{1}{1+x^ 9} \\\\\\\\, dx$\\\", \\\"label_idx\\\": 6, \\\"count\\\": 1, \\\"percentage\\\": \\\"0.106838%\\\"}, {\\\"label\\\": \\\"$\\\\\\\\lfloor \\\\\\\\sqrt n+\\\\\\\\sqrt {n+1}+\\\\\\\\sqrt{n+2}+\\\\\\\\sqrt{n+3}+\\\\\\\\sqrt{n+4}\\\\\\\\rfloor=\\\\\\\\lfloor\\\\\\\\sqrt {25n+49}\\\\\\\\rfloor$ is true?\\\", \\\"label_idx\\\": 7, \\\"count\\\": 1, \\\"percentage\\\": \\\"0.106838%\\\"}, {\\\"label\\\": \\\"$\\\\\\\\lim_{n\\\\\\\\to\\\\\\\\infty} f(t/n)=0$ for every $t$ implies $\\\\\\\\lim_{t\\\\\\\\to0^+}f(t)=0$ (???)\\\", \\\"label_idx\\\": 8, \\\"count\\\": 1, \\\"percentage\\\": \\\"0.106838%\\\"}, {\\\"label\\\": \\\"$\\\\\\\\lim_{x\\\\\\\\to0} \\\\\\\\frac{x-\\\\\\\\sin x}{x-\\\\\\\\tan x}$ without using L&apos;Hopital\\\", \\\"label_idx\\\": 9, \\\"count\\\": 1, \\\"percentage\\\": \\\"0.106838%\\\"}, {\\\"label\\\": \\\"Other (926 labels)\\\", \\\"label_idx\\\": 10, \\\"count\\\": 926, \\\"percentage\\\": \\\"98.9316%\\\"}], \\\"numeric\\\": []}, {\\\"a\\\": 2, \\\"title\\\": \\\"votes\\\", \\\"num_row\\\": 936, \\\"type\\\": \\\"integer\\\", \\\"num_unique\\\": 76, \\\"num_missing\\\": 0, \\\"mean\\\": 16.926282, \\\"min\\\": 8.0, \\\"max\\\": 291.0, \\\"median\\\": 11.0, \\\"stdev\\\": 19.286856, \\\"numeric\\\": [{\\\"left\\\": 0, \\\"right\\\": 15, \\\"count\\\": 633}, {\\\"left\\\": 15, \\\"right\\\": 30, \\\"count\\\": 213}, {\\\"left\\\": 30, \\\"right\\\": 45, \\\"count\\\": 48}, {\\\"left\\\": 45, \\\"right\\\": 60, \\\"count\\\": 18}, {\\\"left\\\": 60, \\\"right\\\": 75, \\\"count\\\": 8}, {\\\"left\\\": 75, \\\"right\\\": 90, \\\"count\\\": 4}, {\\\"left\\\": 90, \\\"right\\\": 105, \\\"count\\\": 3}, {\\\"left\\\": 105, \\\"right\\\": 120, \\\"count\\\": 3}, {\\\"left\\\": 120, \\\"right\\\": 135, \\\"count\\\": 1}, {\\\"left\\\": 135, \\\"right\\\": 150, \\\"count\\\": 1}, {\\\"left\\\": 150, \\\"right\\\": 165, \\\"count\\\": 1}, {\\\"left\\\": 165, \\\"right\\\": 180, \\\"count\\\": 1}, {\\\"left\\\": 180, \\\"right\\\": 195, \\\"count\\\": 0}, {\\\"left\\\": 195, \\\"right\\\": 210, \\\"count\\\": 0}, {\\\"left\\\": 210, \\\"right\\\": 225, \\\"count\\\": 1}, {\\\"left\\\": 225, \\\"right\\\": 240, \\\"count\\\": 0}, {\\\"left\\\": 240, \\\"right\\\": 255, \\\"count\\\": 0}, {\\\"left\\\": 255, \\\"right\\\": 270, \\\"count\\\": 0}, {\\\"left\\\": 270, \\\"right\\\": 285, \\\"count\\\": 0}, {\\\"left\\\": 285, \\\"right\\\": 300, \\\"count\\\": 1}, {\\\"start\\\": 0, \\\"stop\\\": 300, \\\"step\\\": 15}], \\\"categorical\\\": []}, {\\\"a\\\": 3, \\\"title\\\": \\\"answers\\\", \\\"num_row\\\": 936, \\\"type\\\": \\\"integer\\\", \\\"num_unique\\\": 1, \\\"num_missing\\\": 936, \\\"mean\\\": 0.0, \\\"min\\\": 0.0, \\\"max\\\": 0.0, \\\"median\\\": 0.0, \\\"stdev\\\": 0.0, \\\"numeric\\\": [{\\\"left\\\": -9, \\\"right\\\": -8, \\\"count\\\": 0}, {\\\"left\\\": -8, \\\"right\\\": -7, \\\"count\\\": 0}, {\\\"left\\\": -7, \\\"right\\\": -6, \\\"count\\\": 0}, {\\\"left\\\": -6, \\\"right\\\": -5, \\\"count\\\": 0}, {\\\"left\\\": -5, \\\"right\\\": -4, \\\"count\\\": 0}, {\\\"left\\\": -4, \\\"right\\\": -3, \\\"count\\\": 0}, {\\\"left\\\": -3, \\\"right\\\": -2, \\\"count\\\": 0}, {\\\"left\\\": -2, \\\"right\\\": -1, \\\"count\\\": 0}, {\\\"left\\\": -1, \\\"right\\\": 0, \\\"count\\\": 0}, {\\\"left\\\": 0, \\\"right\\\": 1, \\\"count\\\": 0}, {\\\"left\\\": 1, \\\"right\\\": 2, \\\"count\\\": 0}, {\\\"left\\\": 2, \\\"right\\\": 3, \\\"count\\\": 0}, {\\\"left\\\": 3, \\\"right\\\": 4, \\\"count\\\": 0}, {\\\"left\\\": 4, \\\"right\\\": 5, \\\"count\\\": 0}, {\\\"left\\\": 5, \\\"right\\\": 6, \\\"count\\\": 0}, {\\\"left\\\": 6, \\\"right\\\": 7, \\\"count\\\": 0}, {\\\"left\\\": 7, \\\"right\\\": 8, \\\"count\\\": 0}, {\\\"left\\\": 8, \\\"right\\\": 9, \\\"count\\\": 0}, {\\\"left\\\": 9, \\\"right\\\": 10, \\\"count\\\": 0}, {\\\"left\\\": 10, \\\"right\\\": 11, \\\"count\\\": 0}, {\\\"missing\\\": true, \\\"count\\\": 936}, {\\\"start\\\": -9, \\\"stop\\\": 11, \\\"step\\\": 1}], \\\"categorical\\\": []}, {\\\"a\\\": 4, \\\"title\\\": \\\"views\\\", \\\"num_row\\\": 936, \\\"type\\\": \\\"integer\\\", \\\"num_unique\\\": 363, \\\"num_missing\\\": 0, \\\"mean\\\": 189.186966, \\\"min\\\": 1.0, \\\"max\\\": 998.0, \\\"median\\\": 16.0, \\\"stdev\\\": 265.812105, \\\"numeric\\\": [{\\\"left\\\": 0, \\\"right\\\": 50, \\\"count\\\": 535}, {\\\"left\\\": 50, \\\"right\\\": 100, \\\"count\\\": 16}, {\\\"left\\\": 100, \\\"right\\\": 150, \\\"count\\\": 22}, {\\\"left\\\": 150, \\\"right\\\": 200, \\\"count\\\": 36}, {\\\"left\\\": 200, \\\"right\\\": 250, \\\"count\\\": 43}, {\\\"left\\\": 250, \\\"right\\\": 300, \\\"count\\\": 32}, {\\\"left\\\": 300, \\\"right\\\": 350, \\\"count\\\": 31}, {\\\"left\\\": 350, \\\"right\\\": 400, \\\"count\\\": 34}, {\\\"left\\\": 400, \\\"right\\\": 450, \\\"count\\\": 27}, {\\\"left\\\": 450, \\\"right\\\": 500, \\\"count\\\": 19}, {\\\"left\\\": 500, \\\"right\\\": 550, \\\"count\\\": 24}, {\\\"left\\\": 550, \\\"right\\\": 600, \\\"count\\\": 18}, {\\\"left\\\": 600, \\\"right\\\": 650, \\\"count\\\": 13}, {\\\"left\\\": 650, \\\"right\\\": 700, \\\"count\\\": 19}, {\\\"left\\\": 700, \\\"right\\\": 750, \\\"count\\\": 14}, {\\\"left\\\": 750, \\\"right\\\": 800, \\\"count\\\": 6}, {\\\"left\\\": 800, \\\"right\\\": 850, \\\"count\\\": 11}, {\\\"left\\\": 850, \\\"right\\\": 900, \\\"count\\\": 12}, {\\\"left\\\": 900, \\\"right\\\": 950, \\\"count\\\": 7}, {\\\"left\\\": 950, \\\"right\\\": 1000, \\\"count\\\": 17}, {\\\"start\\\": 0, \\\"stop\\\": 1000, \\\"step\\\": 50}], \\\"categorical\\\": []}, {\\\"a\\\": 5, \\\"title\\\": \\\"time\\\", \\\"num_row\\\": 936, \\\"type\\\": \\\"str\\\", \\\"num_unique\\\": 921, \\\"num_missing\\\": 0, \\\"categorical\\\": [{\\\"label\\\": \\\"\\\", \\\"label_idx\\\": 0, \\\"count\\\": 16, \\\"percentage\\\": \\\"1.7094%\\\"}, {\\\"label\\\": \\\"2010-07-21 01:27:27Z\\\", \\\"label_idx\\\": 1, \\\"count\\\": 1, \\\"percentage\\\": \\\"0.106838%\\\"}, {\\\"label\\\": \\\"2010-07-22 00:02:34Z\\\", \\\"label_idx\\\": 2, \\\"count\\\": 1, \\\"percentage\\\": \\\"0.106838%\\\"}, {\\\"label\\\": \\\"2010-07-27 22:55:17Z\\\", \\\"label_idx\\\": 3, \\\"count\\\": 1, \\\"percentage\\\": \\\"0.106838%\\\"}, {\\\"label\\\": \\\"2010-08-02 20:58:02Z\\\", \\\"label_idx\\\": 4, \\\"count\\\": 1, \\\"percentage\\\": \\\"0.106838%\\\"}, {\\\"label\\\": \\\"2010-08-12 13:23:30Z\\\", \\\"label_idx\\\": 5, \\\"count\\\": 1, \\\"percentage\\\": \\\"0.106838%\\\"}, {\\\"label\\\": \\\"2010-08-13 17:33:04Z\\\", \\\"label_idx\\\": 6, \\\"count\\\": 1, \\\"percentage\\\": \\\"0.106838%\\\"}, {\\\"label\\\": \\\"2010-08-14 11:22:11Z\\\", \\\"label_idx\\\": 7, \\\"count\\\": 1, \\\"percentage\\\": \\\"0.106838%\\\"}, {\\\"label\\\": \\\"2010-08-16 01:10:52Z\\\", \\\"label_idx\\\": 8, \\\"count\\\": 1, \\\"percentage\\\": \\\"0.106838%\\\"}, {\\\"label\\\": \\\"2010-08-24 13:39:23Z\\\", \\\"label_idx\\\": 9, \\\"count\\\": 1, \\\"percentage\\\": \\\"0.106838%\\\"}, {\\\"label\\\": \\\"Other (911 labels)\\\", \\\"label_idx\\\": 10, \\\"count\\\": 911, \\\"percentage\\\": \\\"97.3291%\\\"}], \\\"numeric\\\": []}, {\\\"a\\\": 6, \\\"title\\\": \\\"X8\\\", \\\"num_row\\\": 936, \\\"type\\\": \\\"str\\\", \\\"num_unique\\\": 3, \\\"num_missing\\\": 0, \\\"categorical\\\": [{\\\"label\\\": \\\"\\\", \\\"label_idx\\\": 0, \\\"count\\\": 934, \\\"percentage\\\": \\\"99.7863%\\\"}, {\\\"label\\\": \\\"2013-09-25 16:39:31Z\\\", \\\"label_idx\\\": 1, \\\"count\\\": 1, \\\"percentage\\\": \\\"0.106838%\\\"}, {\\\"label\\\": \\\"2015-01-25 02:31:30Z\\\", \\\"label_idx\\\": 2, \\\"count\\\": 1, \\\"percentage\\\": \\\"0.106838%\\\"}], \\\"numeric\\\": []}]}, {\\\"name\\\": \\\"data_2\\\", \\\"source\\\": \\\"source_2\\\", \\\"transform\\\": [{\\\"type\\\": \\\"formula\\\", \\\"expr\\\": \\\"20\\\", \\\"as\\\": \\\"c_x_axis_back\\\"}, {\\\"type\\\": \\\"formula\\\", \\\"expr\\\": \\\"toNumber(datum[\\\\\\\"a\\\\\\\"])*300+66\\\", \\\"as\\\": \\\"c_main_background\\\"}, {\\\"type\\\": \\\"formula\\\", \\\"expr\\\": \\\"toNumber(datum[\\\\\\\"a\\\\\\\"])*300+43\\\", \\\"as\\\": \\\"c_top_bar\\\"}, {\\\"type\\\": \\\"formula\\\", \\\"expr\\\": \\\"toNumber(datum[\\\\\\\"a\\\\\\\"])*300+59\\\", \\\"as\\\": \\\"c_top_title\\\"}, {\\\"type\\\": \\\"formula\\\", \\\"expr\\\": \\\"toNumber(datum[\\\\\\\"a\\\\\\\"])*300+58\\\", \\\"as\\\": \\\"c_top_type\\\"}, {\\\"type\\\": \\\"formula\\\", \\\"expr\\\": \\\"toNumber(datum[\\\\\\\"a\\\\\\\"])*300+178\\\", \\\"as\\\": \\\"c_rule\\\"}, {\\\"type\\\": \\\"formula\\\", \\\"expr\\\": \\\"toNumber(datum[\\\\\\\"a\\\\\\\"])*300+106\\\", \\\"as\\\": \\\"c_num_rows\\\"}, {\\\"type\\\": \\\"formula\\\", \\\"expr\\\": \\\"toNumber(datum[\\\\\\\"a\\\\\\\"])*300+130\\\", \\\"as\\\": \\\"c_num_unique\\\"}, {\\\"type\\\": \\\"formula\\\", \\\"expr\\\": \\\"toNumber(datum[\\\\\\\"a\\\\\\\"])*300+154\\\", \\\"as\\\": \\\"c_missing\\\"}, {\\\"type\\\": \\\"formula\\\", \\\"expr\\\": \\\"toNumber(datum[\\\\\\\"a\\\\\\\"])*300+105\\\", \\\"as\\\": \\\"c_num_rows_val\\\"}, {\\\"type\\\": \\\"formula\\\", \\\"expr\\\": \\\"toNumber(datum[\\\\\\\"a\\\\\\\"])*300+130\\\", \\\"as\\\": \\\"c_num_unique_val\\\"}, {\\\"type\\\": \\\"formula\\\", \\\"expr\\\": \\\"toNumber(datum[\\\\\\\"a\\\\\\\"])*300+154\\\", \\\"as\\\": \\\"c_missing_val\\\"}, {\\\"type\\\": \\\"formula\\\", \\\"expr\\\": \\\"toNumber(datum[\\\\\\\"a\\\\\\\"])*300+195\\\", \\\"as\\\": \\\"c_frequent_items\\\"}, {\\\"type\\\": \\\"formula\\\", \\\"expr\\\": \\\"toNumber(datum[\\\\\\\"a\\\\\\\"])*300+218\\\", \\\"as\\\": \\\"c_first_item\\\"}, {\\\"type\\\": \\\"formula\\\", \\\"expr\\\": \\\"toNumber(datum[\\\\\\\"a\\\\\\\"])*300+235\\\", \\\"as\\\": \\\"c_second_item\\\"}, {\\\"type\\\": \\\"formula\\\", \\\"expr\\\": \\\"toNumber(datum[\\\\\\\"a\\\\\\\"])*300+252\\\", \\\"as\\\": \\\"c_third_item\\\"}, {\\\"type\\\": \\\"formula\\\", \\\"expr\\\": \\\"toNumber(datum[\\\\\\\"a\\\\\\\"])*300+269\\\", \\\"as\\\": \\\"c_fourth_item\\\"}, {\\\"type\\\": \\\"formula\\\", \\\"expr\\\": \\\"toNumber(datum[\\\\\\\"a\\\\\\\"])*300+286\\\", \\\"as\\\": \\\"c_fifth_item\\\"}, {\\\"type\\\": \\\"formula\\\", \\\"expr\\\": \\\"toNumber(datum[\\\\\\\"a\\\\\\\"])*300+200\\\", \\\"as\\\": \\\"c_mean\\\"}, {\\\"type\\\": \\\"formula\\\", \\\"expr\\\": \\\"toNumber(datum[\\\\\\\"a\\\\\\\"])*300+220\\\", \\\"as\\\": \\\"c_min\\\"}, {\\\"type\\\": \\\"formula\\\", \\\"expr\\\": \\\"toNumber(datum[\\\\\\\"a\\\\\\\"])*300+240\\\", \\\"as\\\": \\\"c_max\\\"}, {\\\"type\\\": \\\"formula\\\", \\\"expr\\\": \\\"toNumber(datum[\\\\\\\"a\\\\\\\"])*300+260\\\", \\\"as\\\": \\\"c_median\\\"}, {\\\"type\\\": \\\"formula\\\", \\\"expr\\\": \\\"toNumber(datum[\\\\\\\"a\\\\\\\"])*300+280\\\", \\\"as\\\": \\\"c_stdev\\\"}, {\\\"type\\\": \\\"formula\\\", \\\"expr\\\": \\\"toNumber(datum[\\\\\\\"a\\\\\\\"])*300+198\\\", \\\"as\\\": \\\"c_mean_val\\\"}, {\\\"type\\\": \\\"formula\\\", \\\"expr\\\": \\\"toNumber(datum[\\\\\\\"a\\\\\\\"])*300+218\\\", \\\"as\\\": \\\"c_min_val\\\"}, {\\\"type\\\": \\\"formula\\\", \\\"expr\\\": \\\"toNumber(datum[\\\\\\\"a\\\\\\\"])*300+238\\\", \\\"as\\\": \\\"c_max_val\\\"}, {\\\"type\\\": \\\"formula\\\", \\\"expr\\\": \\\"toNumber(datum[\\\\\\\"a\\\\\\\"])*300+258\\\", \\\"as\\\": \\\"c_median_val\\\"}, {\\\"type\\\": \\\"formula\\\", \\\"expr\\\": \\\"toNumber(datum[\\\\\\\"a\\\\\\\"])*300+278\\\", \\\"as\\\": \\\"c_stdev_val\\\"}, {\\\"type\\\": \\\"formula\\\", \\\"expr\\\": \\\"toNumber(datum[\\\\\\\"a\\\\\\\"])*300+106\\\", \\\"as\\\": \\\"graph_offset\\\"}, {\\\"type\\\": \\\"formula\\\", \\\"expr\\\": \\\"toNumber(datum[\\\\\\\"a\\\\\\\"])*300+132\\\", \\\"as\\\": \\\"graph_offset_categorical\\\"}, {\\\"type\\\": \\\"formula\\\", \\\"expr\\\": \\\"(toString(datum[\\\\\\\"type\\\\\\\"]) == \\\\\\\"integer\\\\\\\" || toString(datum[\\\\\\\"type\\\\\\\"]) == \\\\\\\"float\\\\\\\")?false:true\\\", \\\"as\\\": \\\"c_clip_val\\\"}, {\\\"type\\\": \\\"formula\\\", \\\"expr\\\": \\\"(toString(datum[\\\\\\\"type\\\\\\\"]) == \\\\\\\"integer\\\\\\\" || toString(datum[\\\\\\\"type\\\\\\\"]) == \\\\\\\"float\\\\\\\")?250:0\\\", \\\"as\\\": \\\"c_width_numeric_val\\\"}, {\\\"type\\\": \\\"formula\\\", \\\"expr\\\": \\\"(toString(datum[\\\\\\\"type\\\\\\\"]) == \\\\\\\"str\\\\\\\")?false:true\\\", \\\"as\\\": \\\"c_clip_val_cat\\\"}, {\\\"type\\\": \\\"formula\\\", \\\"expr\\\": \\\"(toString(datum[\\\\\\\"type\\\\\\\"]) == \\\\\\\"str\\\\\\\")?250:0\\\", \\\"as\\\": \\\"c_width_numeric_val_cat\\\"}]}], \\\"marks\\\": [{\\\"encode\\\": {\\\"enter\\\": {\\\"x\\\": {\\\"value\\\": 0}, \\\"width\\\": {\\\"value\\\": 734}, \\\"y\\\": {\\\"value\\\": 0}, \\\"height\\\": {\\\"value\\\": 366}, \\\"clip\\\": {\\\"value\\\": 0}, \\\"fill\\\": {\\\"value\\\": \\\"#ffffff\\\"}, \\\"fillOpacity\\\": {\\\"value\\\": 0}, \\\"stroke\\\": {\\\"value\\\": \\\"#000000\\\"}, \\\"strokeWidth\\\": {\\\"value\\\": 0}}}, \\\"marks\\\": [{\\\"encode\\\": {\\\"enter\\\": {\\\"x\\\": {\\\"value\\\": 0}, \\\"width\\\": {\\\"value\\\": 734}, \\\"y\\\": {\\\"value\\\": 0}, \\\"height\\\": {\\\"value\\\": 366}, \\\"clip\\\": {\\\"value\\\": 0}, \\\"fill\\\": {\\\"value\\\": \\\"#ffffff\\\"}, \\\"fillOpacity\\\": {\\\"value\\\": 0}, \\\"stroke\\\": {\\\"value\\\": \\\"#000000\\\"}, \\\"strokeWidth\\\": {\\\"value\\\": 0}}}, \\\"scales\\\": [], \\\"axes\\\": [], \\\"marks\\\": [{\\\"from\\\": {\\\"data\\\": \\\"data_2\\\"}, \\\"encode\\\": {\\\"enter\\\": {\\\"x\\\": {\\\"value\\\": 33}, \\\"width\\\": {\\\"value\\\": 700}, \\\"y\\\": {\\\"value\\\": 66}, \\\"height\\\": {\\\"value\\\": 250}, \\\"fill\\\": {\\\"value\\\": \\\"#FEFEFE\\\"}, \\\"fillOpacity\\\": {\\\"value\\\": 1}, \\\"stroke\\\": {\\\"value\\\": \\\"#DEDEDE\\\"}, \\\"strokeWidth\\\": {\\\"value\\\": 0.5}}, \\\"update\\\": {\\\"x\\\": {\\\"signal\\\": \\\"datum[\\\\\\\"c_x_axis_back\\\\\\\"]\\\"}, \\\"y\\\": {\\\"field\\\": \\\"c_main_background\\\"}}}, \\\"type\\\": \\\"rect\\\"}, {\\\"from\\\": {\\\"data\\\": \\\"data_2\\\"}, \\\"encode\\\": {\\\"enter\\\": {\\\"x\\\": {\\\"value\\\": 33}, \\\"width\\\": {\\\"value\\\": 700}, \\\"y\\\": {\\\"value\\\": 43}, \\\"height\\\": {\\\"value\\\": 30}, \\\"fill\\\": {\\\"value\\\": \\\"#F5F5F5\\\"}, \\\"fillOpacity\\\": {\\\"value\\\": 1}, \\\"stroke\\\": {\\\"value\\\": \\\"#DEDEDE\\\"}, \\\"strokeWidth\\\": {\\\"value\\\": 0.5}}, \\\"update\\\": {\\\"x\\\": {\\\"signal\\\": \\\"datum[\\\\\\\"c_x_axis_back\\\\\\\"]\\\"}, \\\"y\\\": {\\\"field\\\": \\\"c_top_bar\\\"}}}, \\\"type\\\": \\\"rect\\\"}, {\\\"from\\\": {\\\"data\\\": \\\"data_2\\\"}, \\\"encode\\\": {\\\"enter\\\": {\\\"x\\\": {\\\"value\\\": 720}, \\\"y\\\": {\\\"value\\\": 58}, \\\"text\\\": {\\\"signal\\\": \\\"&apos;&apos;+datum[\\\\\\\"type\\\\\\\"]\\\"}, \\\"align\\\": {\\\"value\\\": \\\"right\\\"}, \\\"baseline\\\": {\\\"value\\\": \\\"middle\\\"}, \\\"dx\\\": {\\\"value\\\": 0, \\\"offset\\\": 0}, \\\"dy\\\": {\\\"value\\\": 0, \\\"offset\\\": 0}, \\\"angle\\\": {\\\"value\\\": 0}, \\\"font\\\": {\\\"value\\\": \\\"AvenirNext-Medium\\\"}, \\\"fontSize\\\": {\\\"value\\\": 12}, \\\"fontWeight\\\": {\\\"value\\\": \\\"normal\\\"}, \\\"fontStyle\\\": {\\\"value\\\": \\\"normal\\\"}, \\\"fill\\\": {\\\"value\\\": \\\"#595859\\\"}}, \\\"update\\\": {\\\"x\\\": {\\\"signal\\\": \\\"datum[\\\\\\\"c_x_axis_back\\\\\\\"]+687\\\"}, \\\"y\\\": {\\\"field\\\": \\\"c_top_type\\\"}}}, \\\"type\\\": \\\"text\\\"}, {\\\"from\\\": {\\\"data\\\": \\\"data_2\\\"}, \\\"encode\\\": {\\\"enter\\\": {\\\"x\\\": {\\\"value\\\": 44}, \\\"y\\\": {\\\"value\\\": 59}, \\\"text\\\": {\\\"signal\\\": \\\"&apos;&apos;+datum[\\\\\\\"title\\\\\\\"]\\\"}, \\\"align\\\": {\\\"value\\\": \\\"left\\\"}, \\\"baseline\\\": {\\\"value\\\": \\\"middle\\\"}, \\\"dx\\\": {\\\"value\\\": 0, \\\"offset\\\": 0}, \\\"dy\\\": {\\\"value\\\": 0, \\\"offset\\\": 0}, \\\"angle\\\": {\\\"value\\\": 0}, \\\"font\\\": {\\\"value\\\": \\\"AvenirNext-Medium\\\"}, \\\"fontSize\\\": {\\\"value\\\": 15}, \\\"fontWeight\\\": {\\\"value\\\": \\\"normal\\\"}, \\\"fontStyle\\\": {\\\"value\\\": \\\"normal\\\"}, \\\"fill\\\": {\\\"value\\\": \\\"#9B9B9B\\\"}}, \\\"update\\\": {\\\"x\\\": {\\\"signal\\\": \\\"datum[\\\\\\\"c_x_axis_back\\\\\\\"]+11\\\"}, \\\"y\\\": {\\\"field\\\": \\\"c_top_title\\\"}}}, \\\"type\\\": \\\"text\\\"}, {\\\"from\\\": {\\\"data\\\": \\\"data_2\\\"}, \\\"encode\\\": {\\\"enter\\\": {\\\"x\\\": {\\\"value\\\": 500}, \\\"y\\\": {\\\"value\\\": 178}, \\\"stroke\\\": {\\\"value\\\": \\\"#EDEDEB\\\"}, \\\"strokeWidth\\\": {\\\"value\\\": 1}, \\\"strokeCap\\\": {\\\"value\\\": \\\"butt\\\"}, \\\"x2\\\": {\\\"value\\\": 720}, \\\"y2\\\": {\\\"value\\\": 178}}, \\\"update\\\": {\\\"x\\\": {\\\"signal\\\": \\\"datum[\\\\\\\"c_x_axis_back\\\\\\\"]+467\\\"}, \\\"x2\\\": {\\\"signal\\\": \\\"datum[\\\\\\\"c_x_axis_back\\\\\\\"]+687\\\"}, \\\"y\\\": {\\\"field\\\": \\\"c_rule\\\"}, \\\"y2\\\": {\\\"field\\\": \\\"c_rule\\\"}}}, \\\"type\\\": \\\"rule\\\"}, {\\\"from\\\": {\\\"data\\\": \\\"data_2\\\"}, \\\"encode\\\": {\\\"enter\\\": {\\\"x\\\": {\\\"value\\\": 500}, \\\"y\\\": {\\\"value\\\": 106}, \\\"text\\\": {\\\"value\\\": \\\"Num. Rows:\\\"}, \\\"align\\\": {\\\"value\\\": \\\"left\\\"}, \\\"baseline\\\": {\\\"value\\\": \\\"middle\\\"}, \\\"dx\\\": {\\\"value\\\": 0, \\\"offset\\\": 0}, \\\"dy\\\": {\\\"value\\\": 0, \\\"offset\\\": 0}, \\\"angle\\\": {\\\"value\\\": 0}, \\\"font\\\": {\\\"value\\\": \\\"AvenirNext-Medium\\\"}, \\\"fontSize\\\": {\\\"value\\\": 12}, \\\"fontWeight\\\": {\\\"value\\\": \\\"normal\\\"}, \\\"fontStyle\\\": {\\\"value\\\": \\\"normal\\\"}, \\\"fill\\\": {\\\"value\\\": \\\"#4A4A4A\\\"}}, \\\"update\\\": {\\\"x\\\": {\\\"signal\\\": \\\"datum[\\\\\\\"c_x_axis_back\\\\\\\"]+467\\\"}, \\\"y\\\": {\\\"field\\\": \\\"c_num_rows\\\"}}}, \\\"type\\\": \\\"text\\\"}, {\\\"from\\\": {\\\"data\\\": \\\"data_2\\\"}, \\\"encode\\\": {\\\"enter\\\": {\\\"x\\\": {\\\"value\\\": 500}, \\\"y\\\": {\\\"value\\\": 130}, \\\"text\\\": {\\\"value\\\": \\\"Num. Unique:\\\"}, \\\"align\\\": {\\\"value\\\": \\\"left\\\"}, \\\"baseline\\\": {\\\"value\\\": \\\"middle\\\"}, \\\"dx\\\": {\\\"value\\\": 0, \\\"offset\\\": 0}, \\\"dy\\\": {\\\"value\\\": 0, \\\"offset\\\": 0}, \\\"angle\\\": {\\\"value\\\": 0}, \\\"font\\\": {\\\"value\\\": \\\"AvenirNext-Medium\\\"}, \\\"fontSize\\\": {\\\"value\\\": 12}, \\\"fontWeight\\\": {\\\"value\\\": \\\"normal\\\"}, \\\"fontStyle\\\": {\\\"value\\\": \\\"normal\\\"}, \\\"fill\\\": {\\\"value\\\": \\\"#4A4A4A\\\"}}, \\\"update\\\": {\\\"x\\\": {\\\"signal\\\": \\\"datum[\\\\\\\"c_x_axis_back\\\\\\\"]+467\\\"}, \\\"y\\\": {\\\"field\\\": \\\"c_num_unique\\\"}}}, \\\"type\\\": \\\"text\\\"}, {\\\"from\\\": {\\\"data\\\": \\\"data_2\\\"}, \\\"encode\\\": {\\\"enter\\\": {\\\"x\\\": {\\\"value\\\": 500}, \\\"y\\\": {\\\"value\\\": 154}, \\\"text\\\": {\\\"value\\\": \\\"Missing:\\\"}, \\\"align\\\": {\\\"value\\\": \\\"left\\\"}, \\\"baseline\\\": {\\\"value\\\": \\\"middle\\\"}, \\\"dx\\\": {\\\"value\\\": 0, \\\"offset\\\": 0}, \\\"dy\\\": {\\\"value\\\": 0, \\\"offset\\\": 0}, \\\"angle\\\": {\\\"value\\\": 0}, \\\"font\\\": {\\\"value\\\": \\\"AvenirNext-Medium\\\"}, \\\"fontSize\\\": {\\\"value\\\": 12}, \\\"fontWeight\\\": {\\\"value\\\": \\\"normal\\\"}, \\\"fontStyle\\\": {\\\"value\\\": \\\"normal\\\"}, \\\"fill\\\": {\\\"value\\\": \\\"#4A4A4A\\\"}}, \\\"update\\\": {\\\"x\\\": {\\\"signal\\\": \\\"datum[\\\\\\\"c_x_axis_back\\\\\\\"]+467\\\"}, \\\"y\\\": {\\\"field\\\": \\\"c_missing\\\"}}}, \\\"type\\\": \\\"text\\\"}, {\\\"from\\\": {\\\"data\\\": \\\"data_2\\\"}, \\\"encode\\\": {\\\"enter\\\": {\\\"x\\\": {\\\"value\\\": 700}, \\\"y\\\": {\\\"value\\\": 105}, \\\"text\\\": {\\\"signal\\\": \\\"toString(format(datum[\\\\\\\"num_row\\\\\\\"], \\\\\\\",\\\\\\\"))\\\"}, \\\"align\\\": {\\\"value\\\": \\\"right\\\"}, \\\"baseline\\\": {\\\"value\\\": \\\"middle\\\"}, \\\"dx\\\": {\\\"value\\\": 0, \\\"offset\\\": 0}, \\\"dy\\\": {\\\"value\\\": 0, \\\"offset\\\": 0}, \\\"angle\\\": {\\\"value\\\": 0}, \\\"font\\\": {\\\"value\\\": \\\"AvenirNext-Medium\\\"}, \\\"fontSize\\\": {\\\"value\\\": 12}, \\\"fontWeight\\\": {\\\"value\\\": \\\"normal\\\"}, \\\"fontStyle\\\": {\\\"value\\\": \\\"normal\\\"}, \\\"fill\\\": {\\\"value\\\": \\\"#5A5A5A\\\"}}, \\\"update\\\": {\\\"x\\\": {\\\"signal\\\": \\\"datum[\\\\\\\"c_x_axis_back\\\\\\\"]+667\\\"}, \\\"y\\\": {\\\"field\\\": \\\"c_num_rows_val\\\"}}}, \\\"type\\\": \\\"text\\\"}, {\\\"from\\\": {\\\"data\\\": \\\"data_2\\\"}, \\\"encode\\\": {\\\"enter\\\": {\\\"x\\\": {\\\"value\\\": 700}, \\\"y\\\": {\\\"value\\\": 130}, \\\"text\\\": {\\\"signal\\\": \\\"toString(format(datum[\\\\\\\"num_unique\\\\\\\"], \\\\\\\",\\\\\\\"))\\\"}, \\\"align\\\": {\\\"value\\\": \\\"right\\\"}, \\\"baseline\\\": {\\\"value\\\": \\\"middle\\\"}, \\\"dx\\\": {\\\"value\\\": 0, \\\"offset\\\": 0}, \\\"dy\\\": {\\\"value\\\": 0, \\\"offset\\\": 0}, \\\"angle\\\": {\\\"value\\\": 0}, \\\"font\\\": {\\\"value\\\": \\\"AvenirNext-Medium\\\"}, \\\"fontSize\\\": {\\\"value\\\": 12}, \\\"fontWeight\\\": {\\\"value\\\": \\\"normal\\\"}, \\\"fontStyle\\\": {\\\"value\\\": \\\"normal\\\"}, \\\"fill\\\": {\\\"value\\\": \\\"#5A5A5A\\\"}}, \\\"update\\\": {\\\"x\\\": {\\\"signal\\\": \\\"datum[\\\\\\\"c_x_axis_back\\\\\\\"]+667\\\"}, \\\"y\\\": {\\\"field\\\": \\\"c_num_unique_val\\\"}}}, \\\"type\\\": \\\"text\\\"}, {\\\"from\\\": {\\\"data\\\": \\\"data_2\\\"}, \\\"encode\\\": {\\\"enter\\\": {\\\"x\\\": {\\\"value\\\": 700}, \\\"y\\\": {\\\"value\\\": 154}, \\\"text\\\": {\\\"signal\\\": \\\"toString(format(datum[\\\\\\\"num_missing\\\\\\\"], \\\\\\\",\\\\\\\"))\\\"}, \\\"align\\\": {\\\"value\\\": \\\"right\\\"}, \\\"baseline\\\": {\\\"value\\\": \\\"middle\\\"}, \\\"dx\\\": {\\\"value\\\": 0, \\\"offset\\\": 0}, \\\"dy\\\": {\\\"value\\\": 0, \\\"offset\\\": 0}, \\\"angle\\\": {\\\"value\\\": 0}, \\\"font\\\": {\\\"value\\\": \\\"AvenirNext-Medium\\\"}, \\\"fontSize\\\": {\\\"value\\\": 12}, \\\"fontWeight\\\": {\\\"value\\\": \\\"normal\\\"}, \\\"fontStyle\\\": {\\\"value\\\": \\\"normal\\\"}, \\\"fill\\\": {\\\"value\\\": \\\"#5A5A5A\\\"}}, \\\"update\\\": {\\\"x\\\": {\\\"signal\\\": \\\"datum[\\\\\\\"c_x_axis_back\\\\\\\"]+667\\\"}, \\\"y\\\": {\\\"field\\\": \\\"c_missing_val\\\"}}}, \\\"type\\\": \\\"text\\\"}, {\\\"from\\\": {\\\"data\\\": \\\"data_2\\\"}, \\\"encode\\\": {\\\"enter\\\": {\\\"x\\\": {\\\"value\\\": 500}, \\\"y\\\": {\\\"value\\\": 200}, \\\"text\\\": {\\\"signal\\\": \\\"(toString(datum[\\\\\\\"type\\\\\\\"]) == \\\\\\\"str\\\\\\\")? \\\\\\\"Frequent Items\\\\\\\":\\\\\\\"\\\\\\\"\\\"}, \\\"align\\\": {\\\"value\\\": \\\"left\\\"}, \\\"baseline\\\": {\\\"value\\\": \\\"middle\\\"}, \\\"dx\\\": {\\\"value\\\": 0, \\\"offset\\\": 0}, \\\"dy\\\": {\\\"value\\\": 0, \\\"offset\\\": 0}, \\\"angle\\\": {\\\"value\\\": 0}, \\\"clip\\\": {\\\"value\\\": true}, \\\"font\\\": {\\\"value\\\": \\\"AvenirNext-Medium\\\"}, \\\"fontSize\\\": {\\\"value\\\": 11}, \\\"fontWeight\\\": {\\\"value\\\": \\\"bold\\\"}, \\\"fontStyle\\\": {\\\"value\\\": \\\"normal\\\"}, \\\"fill\\\": {\\\"value\\\": \\\"#4A4A4A\\\"}}, \\\"update\\\": {\\\"x\\\": {\\\"signal\\\": \\\"datum[\\\\\\\"c_x_axis_back\\\\\\\"]+467\\\"}, \\\"y\\\": {\\\"field\\\": \\\"c_frequent_items\\\"}}}, \\\"type\\\": \\\"text\\\"}, {\\\"from\\\": {\\\"data\\\": \\\"data_2\\\"}, \\\"encode\\\": {\\\"enter\\\": {\\\"x\\\": {\\\"value\\\": 520}, \\\"y\\\": {\\\"value\\\": 200}, \\\"text\\\": {\\\"signal\\\": \\\"((datum[\\\\\\\"categorical\\\\\\\"].length >= 1) &amp;&amp; (toString(datum[\\\\\\\"type\\\\\\\"]) == \\\\\\\"str\\\\\\\"))? toString(datum[\\\\\\\"categorical\\\\\\\"][0][\\\\\\\"label\\\\\\\"]):\\\\\\\"\\\\\\\"\\\"}, \\\"align\\\": {\\\"value\\\": \\\"left\\\"}, \\\"baseline\\\": {\\\"value\\\": \\\"middle\\\"}, \\\"dx\\\": {\\\"value\\\": 0, \\\"offset\\\": 0}, \\\"dy\\\": {\\\"value\\\": 0, \\\"offset\\\": 0}, \\\"angle\\\": {\\\"value\\\": 0}, \\\"clip\\\": {\\\"value\\\": true}, \\\"font\\\": {\\\"value\\\": \\\"AvenirNext-Medium\\\"}, \\\"fontSize\\\": {\\\"value\\\": 11}, \\\"fontWeight\\\": {\\\"value\\\": \\\"normal\\\"}, \\\"fontStyle\\\": {\\\"value\\\": \\\"normal\\\"}, \\\"fill\\\": {\\\"value\\\": \\\"#4A4A4A\\\"}}, \\\"update\\\": {\\\"x\\\": {\\\"signal\\\": \\\"datum[\\\\\\\"c_x_axis_back\\\\\\\"]+487\\\"}, \\\"y\\\": {\\\"field\\\": \\\"c_first_item\\\"}}}, \\\"type\\\": \\\"text\\\"}, {\\\"from\\\": {\\\"data\\\": \\\"data_2\\\"}, \\\"encode\\\": {\\\"enter\\\": {\\\"x\\\": {\\\"value\\\": 520}, \\\"y\\\": {\\\"value\\\": 200}, \\\"text\\\": {\\\"signal\\\": \\\"((datum[\\\\\\\"categorical\\\\\\\"].length >= 2) &amp;&amp; (toString(datum[\\\\\\\"type\\\\\\\"]) == \\\\\\\"str\\\\\\\"))? toString(datum[\\\\\\\"categorical\\\\\\\"][1][\\\\\\\"label\\\\\\\"]):\\\\\\\"\\\\\\\"\\\"}, \\\"align\\\": {\\\"value\\\": \\\"left\\\"}, \\\"baseline\\\": {\\\"value\\\": \\\"middle\\\"}, \\\"dx\\\": {\\\"value\\\": 0, \\\"offset\\\": 0}, \\\"dy\\\": {\\\"value\\\": 0, \\\"offset\\\": 0}, \\\"angle\\\": {\\\"value\\\": 0}, \\\"clip\\\": {\\\"value\\\": true}, \\\"font\\\": {\\\"value\\\": \\\"AvenirNext-Medium\\\"}, \\\"fontSize\\\": {\\\"value\\\": 11}, \\\"fontWeight\\\": {\\\"value\\\": \\\"normal\\\"}, \\\"fontStyle\\\": {\\\"value\\\": \\\"normal\\\"}, \\\"fill\\\": {\\\"value\\\": \\\"#4A4A4A\\\"}}, \\\"update\\\": {\\\"x\\\": {\\\"signal\\\": \\\"datum[\\\\\\\"c_x_axis_back\\\\\\\"]+487\\\"}, \\\"y\\\": {\\\"field\\\": \\\"c_second_item\\\"}}}, \\\"type\\\": \\\"text\\\"}, {\\\"from\\\": {\\\"data\\\": \\\"data_2\\\"}, \\\"encode\\\": {\\\"enter\\\": {\\\"x\\\": {\\\"value\\\": 520}, \\\"y\\\": {\\\"value\\\": 200}, \\\"text\\\": {\\\"signal\\\": \\\"((datum[\\\\\\\"categorical\\\\\\\"].length >= 3) &amp;&amp; (toString(datum[\\\\\\\"type\\\\\\\"]) == \\\\\\\"str\\\\\\\"))? toString(datum[\\\\\\\"categorical\\\\\\\"][2][\\\\\\\"label\\\\\\\"]):\\\\\\\"\\\\\\\"\\\"}, \\\"align\\\": {\\\"value\\\": \\\"left\\\"}, \\\"baseline\\\": {\\\"value\\\": \\\"middle\\\"}, \\\"dx\\\": {\\\"value\\\": 0, \\\"offset\\\": 0}, \\\"dy\\\": {\\\"value\\\": 0, \\\"offset\\\": 0}, \\\"angle\\\": {\\\"value\\\": 0}, \\\"clip\\\": {\\\"value\\\": true}, \\\"font\\\": {\\\"value\\\": \\\"AvenirNext-Medium\\\"}, \\\"fontSize\\\": {\\\"value\\\": 11}, \\\"fontWeight\\\": {\\\"value\\\": \\\"normal\\\"}, \\\"fontStyle\\\": {\\\"value\\\": \\\"normal\\\"}, \\\"fill\\\": {\\\"value\\\": \\\"#4A4A4A\\\"}}, \\\"update\\\": {\\\"x\\\": {\\\"signal\\\": \\\"datum[\\\\\\\"c_x_axis_back\\\\\\\"]+487\\\"}, \\\"y\\\": {\\\"field\\\": \\\"c_third_item\\\"}}}, \\\"type\\\": \\\"text\\\"}, {\\\"from\\\": {\\\"data\\\": \\\"data_2\\\"}, \\\"encode\\\": {\\\"enter\\\": {\\\"x\\\": {\\\"value\\\": 520}, \\\"y\\\": {\\\"value\\\": 200}, \\\"text\\\": {\\\"signal\\\": \\\"((datum[\\\\\\\"categorical\\\\\\\"].length >= 4) &amp;&amp; (toString(datum[\\\\\\\"type\\\\\\\"]) == \\\\\\\"str\\\\\\\"))? toString(datum[\\\\\\\"categorical\\\\\\\"][3][\\\\\\\"label\\\\\\\"]):\\\\\\\"\\\\\\\"\\\"}, \\\"align\\\": {\\\"value\\\": \\\"left\\\"}, \\\"baseline\\\": {\\\"value\\\": \\\"middle\\\"}, \\\"dx\\\": {\\\"value\\\": 0, \\\"offset\\\": 0}, \\\"dy\\\": {\\\"value\\\": 0, \\\"offset\\\": 0}, \\\"angle\\\": {\\\"value\\\": 0}, \\\"clip\\\": {\\\"value\\\": true}, \\\"font\\\": {\\\"value\\\": \\\"AvenirNext-Medium\\\"}, \\\"fontSize\\\": {\\\"value\\\": 11}, \\\"fontWeight\\\": {\\\"value\\\": \\\"normal\\\"}, \\\"fontStyle\\\": {\\\"value\\\": \\\"normal\\\"}, \\\"fill\\\": {\\\"value\\\": \\\"#4A4A4A\\\"}}, \\\"update\\\": {\\\"x\\\": {\\\"signal\\\": \\\"datum[\\\\\\\"c_x_axis_back\\\\\\\"]+487\\\"}, \\\"y\\\": {\\\"field\\\": \\\"c_fourth_item\\\"}}}, \\\"type\\\": \\\"text\\\"}, {\\\"from\\\": {\\\"data\\\": \\\"data_2\\\"}, \\\"encode\\\": {\\\"enter\\\": {\\\"x\\\": {\\\"value\\\": 520}, \\\"y\\\": {\\\"value\\\": 200}, \\\"text\\\": {\\\"signal\\\": \\\"((datum[\\\\\\\"categorical\\\\\\\"].length >= 5) &amp;&amp; (toString(datum[\\\\\\\"type\\\\\\\"]) == \\\\\\\"str\\\\\\\"))? toString(datum[\\\\\\\"categorical\\\\\\\"][4][\\\\\\\"label\\\\\\\"]):\\\\\\\"\\\\\\\"\\\"}, \\\"align\\\": {\\\"value\\\": \\\"left\\\"}, \\\"baseline\\\": {\\\"value\\\": \\\"middle\\\"}, \\\"dx\\\": {\\\"value\\\": 0, \\\"offset\\\": 0}, \\\"dy\\\": {\\\"value\\\": 0, \\\"offset\\\": 0}, \\\"angle\\\": {\\\"value\\\": 0}, \\\"clip\\\": {\\\"value\\\": true}, \\\"font\\\": {\\\"value\\\": \\\"AvenirNext-Medium\\\"}, \\\"fontSize\\\": {\\\"value\\\": 11}, \\\"fontWeight\\\": {\\\"value\\\": \\\"normal\\\"}, \\\"fontStyle\\\": {\\\"value\\\": \\\"normal\\\"}, \\\"fill\\\": {\\\"value\\\": \\\"#4A4A4A\\\"}}, \\\"update\\\": {\\\"x\\\": {\\\"signal\\\": \\\"datum[\\\\\\\"c_x_axis_back\\\\\\\"]+487\\\"}, \\\"y\\\": {\\\"field\\\": \\\"c_fifth_item\\\"}}}, \\\"type\\\": \\\"text\\\"}, {\\\"from\\\": {\\\"data\\\": \\\"data_2\\\"}, \\\"encode\\\": {\\\"enter\\\": {\\\"x\\\": {\\\"value\\\": 700}, \\\"y\\\": {\\\"value\\\": 200}, \\\"text\\\": {\\\"signal\\\": \\\"((datum[\\\\\\\"categorical\\\\\\\"].length >= 1) &amp;&amp; (toString(datum[\\\\\\\"type\\\\\\\"]) == \\\\\\\"str\\\\\\\"))? toString(datum[\\\\\\\"categorical\\\\\\\"][0][\\\\\\\"count\\\\\\\"]):\\\\\\\"\\\\\\\"\\\"}, \\\"align\\\": {\\\"value\\\": \\\"right\\\"}, \\\"baseline\\\": {\\\"value\\\": \\\"middle\\\"}, \\\"dx\\\": {\\\"value\\\": 0, \\\"offset\\\": 0}, \\\"dy\\\": {\\\"value\\\": 0, \\\"offset\\\": 0}, \\\"angle\\\": {\\\"value\\\": 0}, \\\"clip\\\": {\\\"value\\\": true}, \\\"font\\\": {\\\"value\\\": \\\"AvenirNext-Medium\\\"}, \\\"fontSize\\\": {\\\"value\\\": 11}, \\\"fontWeight\\\": {\\\"value\\\": \\\"normal\\\"}, \\\"fontStyle\\\": {\\\"value\\\": \\\"normal\\\"}, \\\"fill\\\": {\\\"value\\\": \\\"#7A7A7A\\\"}}, \\\"update\\\": {\\\"x\\\": {\\\"signal\\\": \\\"datum[\\\\\\\"c_x_axis_back\\\\\\\"]+667\\\"}, \\\"y\\\": {\\\"field\\\": \\\"c_first_item\\\"}}}, \\\"type\\\": \\\"text\\\"}, {\\\"from\\\": {\\\"data\\\": \\\"data_2\\\"}, \\\"encode\\\": {\\\"enter\\\": {\\\"x\\\": {\\\"value\\\": 700}, \\\"y\\\": {\\\"value\\\": 200}, \\\"text\\\": {\\\"signal\\\": \\\"((datum[\\\\\\\"categorical\\\\\\\"].length >= 2) &amp;&amp; (toString(datum[\\\\\\\"type\\\\\\\"]) == \\\\\\\"str\\\\\\\"))? toString(datum[\\\\\\\"categorical\\\\\\\"][1][\\\\\\\"count\\\\\\\"]):\\\\\\\"\\\\\\\"\\\"}, \\\"align\\\": {\\\"value\\\": \\\"right\\\"}, \\\"baseline\\\": {\\\"value\\\": \\\"middle\\\"}, \\\"dx\\\": {\\\"value\\\": 0, \\\"offset\\\": 0}, \\\"dy\\\": {\\\"value\\\": 0, \\\"offset\\\": 0}, \\\"angle\\\": {\\\"value\\\": 0}, \\\"clip\\\": {\\\"value\\\": true}, \\\"font\\\": {\\\"value\\\": \\\"AvenirNext-Medium\\\"}, \\\"fontSize\\\": {\\\"value\\\": 10}, \\\"fontWeight\\\": {\\\"value\\\": \\\"normal\\\"}, \\\"fontStyle\\\": {\\\"value\\\": \\\"normal\\\"}, \\\"fill\\\": {\\\"value\\\": \\\"#7A7A7A\\\"}}, \\\"update\\\": {\\\"x\\\": {\\\"signal\\\": \\\"datum[\\\\\\\"c_x_axis_back\\\\\\\"]+667\\\"}, \\\"y\\\": {\\\"field\\\": \\\"c_second_item\\\"}}}, \\\"type\\\": \\\"text\\\"}, {\\\"from\\\": {\\\"data\\\": \\\"data_2\\\"}, \\\"encode\\\": {\\\"enter\\\": {\\\"x\\\": {\\\"value\\\": 700}, \\\"y\\\": {\\\"value\\\": 200}, \\\"text\\\": {\\\"signal\\\": \\\"((datum[\\\\\\\"categorical\\\\\\\"].length >= 3) &amp;&amp; (toString(datum[\\\\\\\"type\\\\\\\"]) == \\\\\\\"str\\\\\\\"))? toString(datum[\\\\\\\"categorical\\\\\\\"][2][\\\\\\\"count\\\\\\\"]):\\\\\\\"\\\\\\\"\\\"}, \\\"align\\\": {\\\"value\\\": \\\"right\\\"}, \\\"baseline\\\": {\\\"value\\\": \\\"middle\\\"}, \\\"dx\\\": {\\\"value\\\": 0, \\\"offset\\\": 0}, \\\"dy\\\": {\\\"value\\\": 0, \\\"offset\\\": 0}, \\\"angle\\\": {\\\"value\\\": 0}, \\\"clip\\\": {\\\"value\\\": true}, \\\"font\\\": {\\\"value\\\": \\\"AvenirNext-Medium\\\"}, \\\"fontSize\\\": {\\\"value\\\": 10}, \\\"fontWeight\\\": {\\\"value\\\": \\\"normal\\\"}, \\\"fontStyle\\\": {\\\"value\\\": \\\"normal\\\"}, \\\"fill\\\": {\\\"value\\\": \\\"#7A7A7A\\\"}}, \\\"update\\\": {\\\"x\\\": {\\\"signal\\\": \\\"datum[\\\\\\\"c_x_axis_back\\\\\\\"]+667\\\"}, \\\"y\\\": {\\\"field\\\": \\\"c_third_item\\\"}}}, \\\"type\\\": \\\"text\\\"}, {\\\"from\\\": {\\\"data\\\": \\\"data_2\\\"}, \\\"encode\\\": {\\\"enter\\\": {\\\"x\\\": {\\\"value\\\": 700}, \\\"y\\\": {\\\"value\\\": 200}, \\\"text\\\": {\\\"signal\\\": \\\"((datum[\\\\\\\"categorical\\\\\\\"].length >= 4) &amp;&amp; (toString(datum[\\\\\\\"type\\\\\\\"]) == \\\\\\\"str\\\\\\\"))? toString(datum[\\\\\\\"categorical\\\\\\\"][3][\\\\\\\"count\\\\\\\"]):\\\\\\\"\\\\\\\"\\\"}, \\\"align\\\": {\\\"value\\\": \\\"right\\\"}, \\\"baseline\\\": {\\\"value\\\": \\\"middle\\\"}, \\\"dx\\\": {\\\"value\\\": 0, \\\"offset\\\": 0}, \\\"dy\\\": {\\\"value\\\": 0, \\\"offset\\\": 0}, \\\"angle\\\": {\\\"value\\\": 0}, \\\"clip\\\": {\\\"value\\\": true}, \\\"font\\\": {\\\"value\\\": \\\"AvenirNext-Medium\\\"}, \\\"fontSize\\\": {\\\"value\\\": 10}, \\\"fontWeight\\\": {\\\"value\\\": \\\"normal\\\"}, \\\"fontStyle\\\": {\\\"value\\\": \\\"normal\\\"}, \\\"fill\\\": {\\\"value\\\": \\\"#7A7A7A\\\"}}, \\\"update\\\": {\\\"x\\\": {\\\"signal\\\": \\\"datum[\\\\\\\"c_x_axis_back\\\\\\\"]+667\\\"}, \\\"y\\\": {\\\"field\\\": \\\"c_fourth_item\\\"}}}, \\\"type\\\": \\\"text\\\"}, {\\\"from\\\": {\\\"data\\\": \\\"data_2\\\"}, \\\"encode\\\": {\\\"enter\\\": {\\\"x\\\": {\\\"value\\\": 700}, \\\"y\\\": {\\\"value\\\": 200}, \\\"text\\\": {\\\"signal\\\": \\\"((datum[\\\\\\\"categorical\\\\\\\"].length >= 5) &amp;&amp; (toString(datum[\\\\\\\"type\\\\\\\"]) == \\\\\\\"str\\\\\\\"))? toString(datum[\\\\\\\"categorical\\\\\\\"][4][\\\\\\\"count\\\\\\\"]):\\\\\\\"\\\\\\\"\\\"}, \\\"align\\\": {\\\"value\\\": \\\"right\\\"}, \\\"baseline\\\": {\\\"value\\\": \\\"middle\\\"}, \\\"dx\\\": {\\\"value\\\": 0, \\\"offset\\\": 0}, \\\"dy\\\": {\\\"value\\\": 0, \\\"offset\\\": 0}, \\\"angle\\\": {\\\"value\\\": 0}, \\\"clip\\\": {\\\"value\\\": true}, \\\"font\\\": {\\\"value\\\": \\\"AvenirNext-Medium\\\"}, \\\"fontSize\\\": {\\\"value\\\": 10}, \\\"fontWeight\\\": {\\\"value\\\": \\\"normal\\\"}, \\\"fontStyle\\\": {\\\"value\\\": \\\"normal\\\"}, \\\"fill\\\": {\\\"value\\\": \\\"#7A7A7A\\\"}}, \\\"update\\\": {\\\"x\\\": {\\\"signal\\\": \\\"datum[\\\\\\\"c_x_axis_back\\\\\\\"]+667\\\"}, \\\"y\\\": {\\\"field\\\": \\\"c_fifth_item\\\"}}}, \\\"type\\\": \\\"text\\\"}, {\\\"from\\\": {\\\"data\\\": \\\"data_2\\\"}, \\\"encode\\\": {\\\"enter\\\": {\\\"x\\\": {\\\"value\\\": 500}, \\\"y\\\": {\\\"value\\\": 200}, \\\"text\\\": {\\\"signal\\\": \\\"(toString(datum[\\\\\\\"type\\\\\\\"]) == \\\\\\\"integer\\\\\\\" || toString(datum[\\\\\\\"type\\\\\\\"]) == \\\\\\\"float\\\\\\\")? \\\\\\\"Mean:\\\\\\\":\\\\\\\"\\\\\\\"\\\"}, \\\"align\\\": {\\\"value\\\": \\\"left\\\"}, \\\"baseline\\\": {\\\"value\\\": \\\"middle\\\"}, \\\"dx\\\": {\\\"value\\\": 0, \\\"offset\\\": 0}, \\\"dy\\\": {\\\"value\\\": 0, \\\"offset\\\": 0}, \\\"angle\\\": {\\\"value\\\": 0}, \\\"clip\\\": {\\\"value\\\": true}, \\\"font\\\": {\\\"value\\\": \\\"AvenirNext-Medium\\\"}, \\\"fontSize\\\": {\\\"value\\\": 11}, \\\"fontWeight\\\": {\\\"value\\\": \\\"bold\\\"}, \\\"fontStyle\\\": {\\\"value\\\": \\\"normal\\\"}, \\\"fill\\\": {\\\"value\\\": \\\"#4A4A4A\\\"}}, \\\"update\\\": {\\\"x\\\": {\\\"signal\\\": \\\"datum[\\\\\\\"c_x_axis_back\\\\\\\"]+467\\\"}, \\\"y\\\": {\\\"field\\\": \\\"c_mean\\\"}}}, \\\"type\\\": \\\"text\\\"}, {\\\"from\\\": {\\\"data\\\": \\\"data_2\\\"}, \\\"encode\\\": {\\\"enter\\\": {\\\"x\\\": {\\\"value\\\": 500}, \\\"y\\\": {\\\"value\\\": 220}, \\\"text\\\": {\\\"signal\\\": \\\"(toString(datum[\\\\\\\"type\\\\\\\"]) == \\\\\\\"integer\\\\\\\" || toString(datum[\\\\\\\"type\\\\\\\"]) == \\\\\\\"float\\\\\\\")? \\\\\\\"Min:\\\\\\\":\\\\\\\"\\\\\\\"\\\"}, \\\"align\\\": {\\\"value\\\": \\\"left\\\"}, \\\"baseline\\\": {\\\"value\\\": \\\"middle\\\"}, \\\"dx\\\": {\\\"value\\\": 0, \\\"offset\\\": 0}, \\\"dy\\\": {\\\"value\\\": 0, \\\"offset\\\": 0}, \\\"angle\\\": {\\\"value\\\": 0}, \\\"font\\\": {\\\"value\\\": \\\"AvenirNext-Medium\\\"}, \\\"fontSize\\\": {\\\"value\\\": 11}, \\\"fontWeight\\\": {\\\"value\\\": \\\"bold\\\"}, \\\"fontStyle\\\": {\\\"value\\\": \\\"normal\\\"}, \\\"fill\\\": {\\\"value\\\": \\\"#4A4A4A\\\"}}, \\\"update\\\": {\\\"x\\\": {\\\"signal\\\": \\\"datum[\\\\\\\"c_x_axis_back\\\\\\\"]+467\\\"}, \\\"y\\\": {\\\"field\\\": \\\"c_min\\\"}}}, \\\"type\\\": \\\"text\\\"}, {\\\"from\\\": {\\\"data\\\": \\\"data_2\\\"}, \\\"encode\\\": {\\\"enter\\\": {\\\"x\\\": {\\\"value\\\": 500}, \\\"y\\\": {\\\"value\\\": 240}, \\\"text\\\": {\\\"signal\\\": \\\"(toString(datum[\\\\\\\"type\\\\\\\"]) == \\\\\\\"integer\\\\\\\" || toString(datum[\\\\\\\"type\\\\\\\"]) == \\\\\\\"float\\\\\\\")? \\\\\\\"Max:\\\\\\\":\\\\\\\"\\\\\\\"\\\"}, \\\"align\\\": {\\\"value\\\": \\\"left\\\"}, \\\"baseline\\\": {\\\"value\\\": \\\"middle\\\"}, \\\"dx\\\": {\\\"value\\\": 0, \\\"offset\\\": 0}, \\\"dy\\\": {\\\"value\\\": 0, \\\"offset\\\": 0}, \\\"angle\\\": {\\\"value\\\": 0}, \\\"font\\\": {\\\"value\\\": \\\"AvenirNext-Medium\\\"}, \\\"fontSize\\\": {\\\"value\\\": 11}, \\\"fontWeight\\\": {\\\"value\\\": \\\"bold\\\"}, \\\"fontStyle\\\": {\\\"value\\\": \\\"normal\\\"}, \\\"fill\\\": {\\\"value\\\": \\\"#4A4A4A\\\"}}, \\\"update\\\": {\\\"x\\\": {\\\"signal\\\": \\\"datum[\\\\\\\"c_x_axis_back\\\\\\\"]+467\\\"}, \\\"y\\\": {\\\"field\\\": \\\"c_max\\\"}}}, \\\"type\\\": \\\"text\\\"}, {\\\"from\\\": {\\\"data\\\": \\\"data_2\\\"}, \\\"encode\\\": {\\\"enter\\\": {\\\"x\\\": {\\\"value\\\": 500}, \\\"y\\\": {\\\"value\\\": 260}, \\\"text\\\": {\\\"signal\\\": \\\"(toString(datum[\\\\\\\"type\\\\\\\"]) == \\\\\\\"integer\\\\\\\" || toString(datum[\\\\\\\"type\\\\\\\"]) == \\\\\\\"float\\\\\\\")? \\\\\\\"Median:\\\\\\\":\\\\\\\"\\\\\\\"\\\"}, \\\"align\\\": {\\\"value\\\": \\\"left\\\"}, \\\"baseline\\\": {\\\"value\\\": \\\"middle\\\"}, \\\"dx\\\": {\\\"value\\\": 0, \\\"offset\\\": 0}, \\\"dy\\\": {\\\"value\\\": 0, \\\"offset\\\": 0}, \\\"angle\\\": {\\\"value\\\": 0}, \\\"font\\\": {\\\"value\\\": \\\"AvenirNext-Medium\\\"}, \\\"fontSize\\\": {\\\"value\\\": 11}, \\\"fontWeight\\\": {\\\"value\\\": \\\"bold\\\"}, \\\"fontStyle\\\": {\\\"value\\\": \\\"normal\\\"}, \\\"fill\\\": {\\\"value\\\": \\\"#4A4A4A\\\"}}, \\\"update\\\": {\\\"x\\\": {\\\"signal\\\": \\\"datum[\\\\\\\"c_x_axis_back\\\\\\\"]+467\\\"}, \\\"y\\\": {\\\"field\\\": \\\"c_median\\\"}}}, \\\"type\\\": \\\"text\\\"}, {\\\"from\\\": {\\\"data\\\": \\\"data_2\\\"}, \\\"encode\\\": {\\\"enter\\\": {\\\"x\\\": {\\\"value\\\": 500}, \\\"y\\\": {\\\"value\\\": 280}, \\\"text\\\": {\\\"signal\\\": \\\"(toString(datum[\\\\\\\"type\\\\\\\"]) == \\\\\\\"integer\\\\\\\" || toString(datum[\\\\\\\"type\\\\\\\"]) == \\\\\\\"float\\\\\\\")? \\\\\\\"St. Dev:\\\\\\\":\\\\\\\"\\\\\\\"\\\"}, \\\"align\\\": {\\\"value\\\": \\\"left\\\"}, \\\"baseline\\\": {\\\"value\\\": \\\"middle\\\"}, \\\"dx\\\": {\\\"value\\\": 0, \\\"offset\\\": 0}, \\\"dy\\\": {\\\"value\\\": 0, \\\"offset\\\": 0}, \\\"angle\\\": {\\\"value\\\": 0}, \\\"font\\\": {\\\"value\\\": \\\"AvenirNext-Medium\\\"}, \\\"fontSize\\\": {\\\"value\\\": 11}, \\\"fontWeight\\\": {\\\"value\\\": \\\"bold\\\"}, \\\"fontStyle\\\": {\\\"value\\\": \\\"normal\\\"}, \\\"fill\\\": {\\\"value\\\": \\\"#4A4A4A\\\"}}, \\\"update\\\": {\\\"x\\\": {\\\"signal\\\": \\\"datum[\\\\\\\"c_x_axis_back\\\\\\\"]+467\\\"}, \\\"y\\\": {\\\"field\\\": \\\"c_stdev\\\"}}}, \\\"type\\\": \\\"text\\\"}, {\\\"from\\\": {\\\"data\\\": \\\"data_2\\\"}, \\\"encode\\\": {\\\"enter\\\": {\\\"x\\\": {\\\"value\\\": 700}, \\\"y\\\": {\\\"value\\\": 198}, \\\"text\\\": {\\\"signal\\\": \\\"(toString(datum[\\\\\\\"type\\\\\\\"]) == \\\\\\\"integer\\\\\\\" || toString(datum[\\\\\\\"type\\\\\\\"]) == \\\\\\\"float\\\\\\\")?toString(format(datum[\\\\\\\"mean\\\\\\\"], \\\\\\\",\\\\\\\")):\\\\\\\"\\\\\\\"\\\"}, \\\"align\\\": {\\\"value\\\": \\\"right\\\"}, \\\"baseline\\\": {\\\"value\\\": \\\"middle\\\"}, \\\"dx\\\": {\\\"value\\\": 0, \\\"offset\\\": 0}, \\\"dy\\\": {\\\"value\\\": 0, \\\"offset\\\": 0}, \\\"angle\\\": {\\\"value\\\": 0}, \\\"font\\\": {\\\"value\\\": \\\"AvenirNext-Medium\\\"}, \\\"fontSize\\\": {\\\"value\\\": 10}, \\\"fontWeight\\\": {\\\"value\\\": \\\"normal\\\"}, \\\"fontStyle\\\": {\\\"value\\\": \\\"normal\\\"}, \\\"fill\\\": {\\\"value\\\": \\\"#6A6A6A\\\"}}, \\\"update\\\": {\\\"x\\\": {\\\"signal\\\": \\\"datum[\\\\\\\"c_x_axis_back\\\\\\\"]+667\\\"}, \\\"y\\\": {\\\"field\\\": \\\"c_mean_val\\\"}}}, \\\"type\\\": \\\"text\\\"}, {\\\"from\\\": {\\\"data\\\": \\\"data_2\\\"}, \\\"encode\\\": {\\\"enter\\\": {\\\"x\\\": {\\\"value\\\": 700}, \\\"y\\\": {\\\"value\\\": 218}, \\\"text\\\": {\\\"signal\\\": \\\"(toString(datum[\\\\\\\"type\\\\\\\"]) == \\\\\\\"integer\\\\\\\" || toString(datum[\\\\\\\"type\\\\\\\"]) == \\\\\\\"float\\\\\\\")?toString(format(datum[\\\\\\\"min\\\\\\\"], \\\\\\\",\\\\\\\")):\\\\\\\"\\\\\\\"\\\"}, \\\"align\\\": {\\\"value\\\": \\\"right\\\"}, \\\"baseline\\\": {\\\"value\\\": \\\"middle\\\"}, \\\"dx\\\": {\\\"value\\\": 0, \\\"offset\\\": 0}, \\\"dy\\\": {\\\"value\\\": 0, \\\"offset\\\": 0}, \\\"angle\\\": {\\\"value\\\": 0}, \\\"font\\\": {\\\"value\\\": \\\"AvenirNext-Medium\\\"}, \\\"fontSize\\\": {\\\"value\\\": 10}, \\\"fontWeight\\\": {\\\"value\\\": \\\"normal\\\"}, \\\"fontStyle\\\": {\\\"value\\\": \\\"normal\\\"}, \\\"fill\\\": {\\\"value\\\": \\\"#6A6A6A\\\"}}, \\\"update\\\": {\\\"x\\\": {\\\"signal\\\": \\\"datum[\\\\\\\"c_x_axis_back\\\\\\\"]+667\\\"}, \\\"y\\\": {\\\"field\\\": \\\"c_min_val\\\"}}}, \\\"type\\\": \\\"text\\\"}, {\\\"from\\\": {\\\"data\\\": \\\"data_2\\\"}, \\\"encode\\\": {\\\"enter\\\": {\\\"x\\\": {\\\"value\\\": 700}, \\\"y\\\": {\\\"value\\\": 238}, \\\"text\\\": {\\\"signal\\\": \\\"(toString(datum[\\\\\\\"type\\\\\\\"]) == \\\\\\\"integer\\\\\\\" || toString(datum[\\\\\\\"type\\\\\\\"]) == \\\\\\\"float\\\\\\\")?toString(format(datum[\\\\\\\"max\\\\\\\"], \\\\\\\",\\\\\\\")):\\\\\\\"\\\\\\\"\\\"}, \\\"align\\\": {\\\"value\\\": \\\"right\\\"}, \\\"baseline\\\": {\\\"value\\\": \\\"middle\\\"}, \\\"dx\\\": {\\\"value\\\": 0, \\\"offset\\\": 0}, \\\"dy\\\": {\\\"value\\\": 0, \\\"offset\\\": 0}, \\\"angle\\\": {\\\"value\\\": 0}, \\\"font\\\": {\\\"value\\\": \\\"AvenirNext-Medium\\\"}, \\\"fontSize\\\": {\\\"value\\\": 10}, \\\"fontWeight\\\": {\\\"value\\\": \\\"normal\\\"}, \\\"fontStyle\\\": {\\\"value\\\": \\\"normal\\\"}, \\\"fill\\\": {\\\"value\\\": \\\"#6A6A6A\\\"}}, \\\"update\\\": {\\\"x\\\": {\\\"signal\\\": \\\"datum[\\\\\\\"c_x_axis_back\\\\\\\"]+667\\\"}, \\\"y\\\": {\\\"field\\\": \\\"c_max_val\\\"}}}, \\\"type\\\": \\\"text\\\"}, {\\\"from\\\": {\\\"data\\\": \\\"data_2\\\"}, \\\"encode\\\": {\\\"enter\\\": {\\\"x\\\": {\\\"value\\\": 700}, \\\"y\\\": {\\\"value\\\": 258}, \\\"text\\\": {\\\"signal\\\": \\\"(toString(datum[\\\\\\\"type\\\\\\\"]) == \\\\\\\"integer\\\\\\\" || toString(datum[\\\\\\\"type\\\\\\\"]) == \\\\\\\"float\\\\\\\")?toString(format(datum[\\\\\\\"median\\\\\\\"], \\\\\\\",\\\\\\\")):\\\\\\\"\\\\\\\"\\\"}, \\\"align\\\": {\\\"value\\\": \\\"right\\\"}, \\\"baseline\\\": {\\\"value\\\": \\\"middle\\\"}, \\\"dx\\\": {\\\"value\\\": 0, \\\"offset\\\": 0}, \\\"dy\\\": {\\\"value\\\": 0, \\\"offset\\\": 0}, \\\"angle\\\": {\\\"value\\\": 0}, \\\"font\\\": {\\\"value\\\": \\\"AvenirNext-Medium\\\"}, \\\"fontSize\\\": {\\\"value\\\": 10}, \\\"fontWeight\\\": {\\\"value\\\": \\\"normal\\\"}, \\\"fontStyle\\\": {\\\"value\\\": \\\"normal\\\"}, \\\"fill\\\": {\\\"value\\\": \\\"#6A6A6A\\\"}}, \\\"update\\\": {\\\"x\\\": {\\\"signal\\\": \\\"datum[\\\\\\\"c_x_axis_back\\\\\\\"]+667\\\"}, \\\"y\\\": {\\\"field\\\": \\\"c_median_val\\\"}}}, \\\"type\\\": \\\"text\\\"}, {\\\"from\\\": {\\\"data\\\": \\\"data_2\\\"}, \\\"encode\\\": {\\\"enter\\\": {\\\"x\\\": {\\\"value\\\": 700}, \\\"y\\\": {\\\"value\\\": 278}, \\\"text\\\": {\\\"signal\\\": \\\"(toString(datum[\\\\\\\"type\\\\\\\"]) == \\\\\\\"integer\\\\\\\" || toString(datum[\\\\\\\"type\\\\\\\"]) == \\\\\\\"float\\\\\\\")?toString(format(datum[\\\\\\\"stdev\\\\\\\"], \\\\\\\",\\\\\\\")):\\\\\\\"\\\\\\\"\\\"}, \\\"align\\\": {\\\"value\\\": \\\"right\\\"}, \\\"baseline\\\": {\\\"value\\\": \\\"middle\\\"}, \\\"dx\\\": {\\\"value\\\": 0, \\\"offset\\\": 0}, \\\"dy\\\": {\\\"value\\\": 0, \\\"offset\\\": 0}, \\\"angle\\\": {\\\"value\\\": 0}, \\\"font\\\": {\\\"value\\\": \\\"AvenirNext-Medium\\\"}, \\\"fontSize\\\": {\\\"value\\\": 10}, \\\"fontWeight\\\": {\\\"value\\\": \\\"normal\\\"}, \\\"fontStyle\\\": {\\\"value\\\": \\\"normal\\\"}, \\\"fill\\\": {\\\"value\\\": \\\"#6A6A6A\\\"}}, \\\"update\\\": {\\\"x\\\": {\\\"signal\\\": \\\"datum[\\\\\\\"c_x_axis_back\\\\\\\"]+667\\\"}, \\\"y\\\": {\\\"field\\\": \\\"c_stdev_val\\\"}}}, \\\"type\\\": \\\"text\\\"}, {\\\"from\\\": {\\\"facet\\\": {\\\"name\\\": \\\"new_data\\\", \\\"data\\\": \\\"data_2\\\", \\\"field\\\": \\\"numeric\\\"}}, \\\"encode\\\": {\\\"enter\\\": {\\\"x\\\": {\\\"value\\\": 120}, \\\"width\\\": {\\\"value\\\": 250}, \\\"y\\\": {\\\"field\\\": \\\"graph_offset\\\"}, \\\"height\\\": {\\\"value\\\": 150}, \\\"fill\\\": {\\\"value\\\": \\\"#ffffff\\\"}, \\\"fillOpacity\\\": {\\\"value\\\": 0}, \\\"stroke\\\": {\\\"value\\\": \\\"#000000\\\"}, \\\"strokeWidth\\\": {\\\"value\\\": 0}}, \\\"update\\\": {\\\"x\\\": {\\\"signal\\\": \\\"datum[\\\\\\\"c_x_axis_back\\\\\\\"]+87\\\"}, \\\"clip\\\": {\\\"field\\\": \\\"c_clip_val\\\"}, \\\"width\\\": {\\\"field\\\": \\\"c_width_numeric_val\\\"}}}, \\\"type\\\": \\\"group\\\", \\\"scales\\\": [{\\\"name\\\": \\\"x\\\", \\\"type\\\": \\\"linear\\\", \\\"domain\\\": {\\\"data\\\": \\\"new_data\\\", \\\"fields\\\": [\\\"left\\\", \\\"right\\\"], \\\"sort\\\": true}, \\\"range\\\": [0, {\\\"signal\\\": \\\"width\\\"}], \\\"nice\\\": true, \\\"zero\\\": true}, {\\\"name\\\": \\\"y\\\", \\\"type\\\": \\\"linear\\\", \\\"domain\\\": {\\\"data\\\": \\\"new_data\\\", \\\"field\\\": \\\"count\\\"}, \\\"range\\\": [{\\\"signal\\\": \\\"height\\\"}, 0], \\\"nice\\\": true, \\\"zero\\\": true}], \\\"axes\\\": [{\\\"title\\\": \\\"Values\\\", \\\"scale\\\": \\\"x\\\", \\\"labelOverlap\\\": true, \\\"orient\\\": \\\"bottom\\\", \\\"tickCount\\\": {\\\"signal\\\": \\\"ceil(width/40)\\\"}, \\\"zindex\\\": 1}, {\\\"scale\\\": \\\"x\\\", \\\"domain\\\": false, \\\"grid\\\": true, \\\"labels\\\": false, \\\"maxExtent\\\": 0, \\\"minExtent\\\": 0, \\\"orient\\\": \\\"bottom\\\", \\\"tickCount\\\": {\\\"signal\\\": \\\"ceil(width/40)\\\"}, \\\"ticks\\\": false, \\\"zindex\\\": 0, \\\"gridScale\\\": \\\"y\\\"}, {\\\"title\\\": \\\"Count\\\", \\\"scale\\\": \\\"y\\\", \\\"labelOverlap\\\": true, \\\"orient\\\": \\\"left\\\", \\\"tickCount\\\": {\\\"signal\\\": \\\"ceil(height/40)\\\"}, \\\"zindex\\\": 1}, {\\\"scale\\\": \\\"y\\\", \\\"domain\\\": false, \\\"grid\\\": true, \\\"labels\\\": false, \\\"maxExtent\\\": 0, \\\"minExtent\\\": 0, \\\"orient\\\": \\\"left\\\", \\\"tickCount\\\": {\\\"signal\\\": \\\"ceil(height/40)\\\"}, \\\"ticks\\\": false, \\\"zindex\\\": 0, \\\"gridScale\\\": \\\"x\\\"}], \\\"style\\\": \\\"cell\\\", \\\"signals\\\": [{\\\"name\\\": \\\"width\\\", \\\"update\\\": \\\"250\\\"}, {\\\"name\\\": \\\"height\\\", \\\"update\\\": \\\"150\\\"}], \\\"marks\\\": [{\\\"name\\\": \\\"marks\\\", \\\"type\\\": \\\"rect\\\", \\\"style\\\": [\\\"rect\\\"], \\\"from\\\": {\\\"data\\\": \\\"new_data\\\"}, \\\"encode\\\": {\\\"hover\\\": {\\\"fill\\\": {\\\"value\\\": \\\"#7EC2F3\\\"}}, \\\"update\\\": {\\\"x\\\": {\\\"scale\\\": \\\"x\\\", \\\"field\\\": \\\"left\\\"}, \\\"x2\\\": {\\\"scale\\\": \\\"x\\\", \\\"field\\\": \\\"right\\\"}, \\\"y\\\": {\\\"scale\\\": \\\"y\\\", \\\"field\\\": \\\"count\\\"}, \\\"y2\\\": {\\\"scale\\\": \\\"y\\\", \\\"value\\\": 0}, \\\"fill\\\": {\\\"value\\\": \\\"#108EE9\\\"}}}}]}, {\\\"from\\\": {\\\"facet\\\": {\\\"name\\\": \\\"data_5\\\", \\\"data\\\": \\\"data_2\\\", \\\"field\\\": \\\"categorical\\\"}}, \\\"encode\\\": {\\\"enter\\\": {\\\"x\\\": {\\\"value\\\": 170}, \\\"width\\\": {\\\"value\\\": 250}, \\\"y\\\": {\\\"field\\\": \\\"graph_offset_categorical\\\"}, \\\"height\\\": {\\\"value\\\": 150}, \\\"fill\\\": {\\\"value\\\": \\\"#ffffff\\\"}, \\\"fillOpacity\\\": {\\\"value\\\": 0}, \\\"stroke\\\": {\\\"value\\\": \\\"#000000\\\"}, \\\"strokeWidth\\\": {\\\"value\\\": 0}}, \\\"update\\\": {\\\"x\\\": {\\\"signal\\\": \\\"datum[\\\\\\\"c_x_axis_back\\\\\\\"]+137\\\"}, \\\"clip\\\": {\\\"field\\\": \\\"c_clip_val_cat\\\"}, \\\"width\\\": {\\\"field\\\": \\\"c_width_numeric_val_cat\\\"}}}, \\\"type\\\": \\\"group\\\", \\\"style\\\": \\\"cell\\\", \\\"signals\\\": [{\\\"name\\\": \\\"unit\\\", \\\"value\\\": {}, \\\"on\\\": [{\\\"events\\\": \\\"mousemove\\\", \\\"update\\\": \\\"isTuple(group()) ? group() : unit\\\"}]}, {\\\"name\\\": \\\"pts\\\", \\\"update\\\": \\\"data(\\\\\\\"pts_store\\\\\\\").length &amp;&amp; {count: data(\\\\\\\"pts_store\\\\\\\")[0].values[0]}\\\"}, {\\\"name\\\": \\\"pts_tuple\\\", \\\"value\\\": {}, \\\"on\\\": [{\\\"events\\\": [{\\\"source\\\": \\\"scope\\\", \\\"type\\\": \\\"click\\\"}], \\\"update\\\": \\\"datum &amp;&amp; item().mark.marktype !== &apos;group&apos; ? {unit: \\\\\\\"\\\\\\\", encodings: [\\\\\\\"x\\\\\\\"], fields: [\\\\\\\"count\\\\\\\"], values: [datum[\\\\\\\"count\\\\\\\"]]} : null\\\", \\\"force\\\": true}]}, {\\\"name\\\": \\\"pts_modify\\\", \\\"on\\\": [{\\\"events\\\": {\\\"signal\\\": \\\"pts_tuple\\\"}, \\\"update\\\": \\\"modify(\\\\\\\"pts_store\\\\\\\", pts_tuple, true)\\\"}]}], \\\"marks\\\": [{\\\"name\\\": \\\"marks\\\", \\\"type\\\": \\\"rect\\\", \\\"style\\\": [\\\"bar\\\"], \\\"from\\\": {\\\"data\\\": \\\"data_5\\\"}, \\\"encode\\\": {\\\"hover\\\": {\\\"fill\\\": {\\\"value\\\": \\\"#7EC2F3\\\"}}, \\\"update\\\": {\\\"x\\\": {\\\"scale\\\": \\\"x\\\", \\\"field\\\": \\\"count\\\"}, \\\"x2\\\": {\\\"scale\\\": \\\"x\\\", \\\"value\\\": 0}, \\\"y\\\": {\\\"scale\\\": \\\"y\\\", \\\"field\\\": \\\"label\\\"}, \\\"height\\\": {\\\"scale\\\": \\\"y\\\", \\\"band\\\": true}, \\\"fill\\\": {\\\"value\\\": \\\"#108EE9\\\"}}}}], \\\"scales\\\": [{\\\"name\\\": \\\"x\\\", \\\"type\\\": \\\"linear\\\", \\\"domain\\\": {\\\"data\\\": \\\"data_5\\\", \\\"field\\\": \\\"count\\\"}, \\\"range\\\": [0, 250], \\\"nice\\\": true, \\\"zero\\\": true}, {\\\"name\\\": \\\"y\\\", \\\"type\\\": \\\"band\\\", \\\"domain\\\": {\\\"data\\\": \\\"data_5\\\", \\\"field\\\": \\\"label\\\", \\\"sort\\\": {\\\"op\\\": \\\"mean\\\", \\\"field\\\": \\\"label_idx\\\", \\\"order\\\": \\\"descending\\\"}}, \\\"range\\\": [150, 0], \\\"paddingInner\\\": 0.1, \\\"paddingOuter\\\": 0.05}], \\\"axes\\\": [{\\\"orient\\\": \\\"top\\\", \\\"scale\\\": \\\"x\\\", \\\"labelOverlap\\\": true, \\\"tickCount\\\": {\\\"signal\\\": \\\"ceil(width/40)\\\"}, \\\"title\\\": \\\"Count\\\", \\\"zindex\\\": 1}, {\\\"orient\\\": \\\"top\\\", \\\"scale\\\": \\\"x\\\", \\\"domain\\\": false, \\\"grid\\\": true, \\\"labels\\\": false, \\\"maxExtent\\\": 0, \\\"minExtent\\\": 0, \\\"tickCount\\\": {\\\"signal\\\": \\\"ceil(width/40)\\\"}, \\\"ticks\\\": false, \\\"zindex\\\": 0, \\\"gridScale\\\": \\\"y\\\"}, {\\\"scale\\\": \\\"y\\\", \\\"labelOverlap\\\": true, \\\"orient\\\": \\\"left\\\", \\\"title\\\": \\\"Label\\\", \\\"zindex\\\": 1}]}], \\\"type\\\": \\\"group\\\"}], \\\"type\\\": \\\"group\\\"}], \\\"config\\\": {\\\"axis\\\": {\\\"labelFont\\\": \\\"HelveticaNeue-Light, Arial\\\", \\\"labelFontSize\\\": 7, \\\"labelPadding\\\": 10, \\\"labelColor\\\": \\\"#595959\\\", \\\"titleFont\\\": \\\"HelveticaNeue-Light, Arial\\\", \\\"titleFontWeight\\\": \\\"normal\\\", \\\"titlePadding\\\": 9, \\\"titleFontSize\\\": 12, \\\"titleColor\\\": \\\"#595959\\\"}, \\\"axisY\\\": {\\\"minExtent\\\": 30}, \\\"style\\\": {\\\"rect\\\": {\\\"stroke\\\": \\\"rgba(200, 200, 200, 0.5)\\\"}, \\\"group-title\\\": {\\\"fontSize\\\": 20, \\\"font\\\": \\\"HelveticaNeue-Light, Arial\\\", \\\"fontWeight\\\": \\\"normal\\\", \\\"fill\\\": \\\"#595959\\\"}}}}\";                                 var vega_json_parsed = JSON.parse(vega_json);                                 var toolTipOpts = {                                     showAllFields: true                                 };                                 if(vega_json_parsed[\"metadata\"] != null){                                     if(vega_json_parsed[\"metadata\"][\"bubbleOpts\"] != null){                                         toolTipOpts = vega_json_parsed[\"metadata\"][\"bubbleOpts\"];                                     };                                 };                                 vegaEmbed(\"#vis\", vega_json_parsed).then(function (result) {                                     vegaTooltip.vega(result.view, toolTipOpts);                                  });                             </script>                         </body>                     </html>' src=\"demo_iframe_srcdoc.htm\">                         <p>Your browser does not support iframes.</p>                     </iframe>                 </body>             </html>"
      ],
      "text/plain": [
       "<IPython.core.display.HTML object>"
      ]
     },
     "metadata": {},
     "output_type": "display_data"
    }
   ],
   "source": [
    "data.show()"
   ]
  },
  {
   "cell_type": "code",
   "execution_count": 33,
   "id": "cross-mounting",
   "metadata": {},
   "outputs": [
    {
     "data": {
      "text/plain": [
       "[str, str, NoneType, int, int, int, str, str]"
      ]
     },
     "execution_count": 33,
     "metadata": {},
     "output_type": "execute_result"
    }
   ],
   "source": [
    "data.column_types()"
   ]
  },
  {
   "cell_type": "code",
   "execution_count": 34,
   "id": "foster-suite",
   "metadata": {},
   "outputs": [
    {
     "data": {
      "text/plain": [
       "False"
      ]
     },
     "execution_count": 34,
     "metadata": {},
     "output_type": "execute_result"
    }
   ],
   "source": [
    "all([s=='' for s in data['X8']])"
   ]
  },
  {
   "cell_type": "code",
   "execution_count": 35,
   "id": "noticed-registration",
   "metadata": {},
   "outputs": [
    {
     "name": "stdout",
     "output_type": "stream",
     "text": [
      "392 :  2013-09-25 16:39:31Z\n",
      "397 :  2015-01-25 02:31:30Z\n"
     ]
    }
   ],
   "source": [
    "for idx, s in enumerate(data['X8']):\n",
    "    if s != '':\n",
    "        print(idx, ': ', s)"
   ]
  },
  {
   "cell_type": "code",
   "execution_count": 36,
   "id": "corrected-makeup",
   "metadata": {},
   "outputs": [
    {
     "data": {
      "text/plain": [
       "{'user': '',\n",
       " 'title': '$a^m+k=b^n$ Finite or infinite solutions?',\n",
       " 'tags': 'number-theory,elementary-number-theory,diophantine-equations',\n",
       " 'votes': 13,\n",
       " 'answers': None,\n",
       " 'views': 426,\n",
       " 'time': '2012-02-06 10:24:55Z',\n",
       " 'X8': '2013-09-25 16:39:31Z'}"
      ]
     },
     "execution_count": 36,
     "metadata": {},
     "output_type": "execute_result"
    }
   ],
   "source": [
    "data[392]"
   ]
  },
  {
   "cell_type": "code",
   "execution_count": 37,
   "id": "global-kazakhstan",
   "metadata": {},
   "outputs": [
    {
     "data": {
      "text/plain": [
       "{'user': 'mnsh',\n",
       " 'title': 'show that $\\\\int_{0}^{\\\\infty} \\\\frac {\\\\sin^3(x)}{x^3}dx=\\\\frac{3\\\\pi}{8}$',\n",
       " 'tags': 'calculus,integration,fourier-analysis,contour-integration',\n",
       " 'votes': 12,\n",
       " 'answers': None,\n",
       " 'views': 2,\n",
       " 'time': '2013-07-27 01:15:26Z',\n",
       " 'X8': '2015-01-25 02:31:30Z'}"
      ]
     },
     "execution_count": 37,
     "metadata": {},
     "output_type": "execute_result"
    }
   ],
   "source": [
    "data[397]"
   ]
  },
  {
   "cell_type": "code",
   "execution_count": 58,
   "id": "verbal-species",
   "metadata": {},
   "outputs": [
    {
     "data": {
      "text/html": [
       "<div style=\"max-height:1000px;max-width:1500px;overflow:auto;\"><table frame=\"box\" rules=\"cols\">\n",
       "    <tr>\n",
       "        <th style=\"padding-left: 1em; padding-right: 1em; text-align: center\">user</th>\n",
       "        <th style=\"padding-left: 1em; padding-right: 1em; text-align: center\">title</th>\n",
       "        <th style=\"padding-left: 1em; padding-right: 1em; text-align: center\">tags</th>\n",
       "        <th style=\"padding-left: 1em; padding-right: 1em; text-align: center\">votes</th>\n",
       "        <th style=\"padding-left: 1em; padding-right: 1em; text-align: center\">views</th>\n",
       "    </tr>\n",
       "    <tr>\n",
       "        <td style=\"padding-left: 1em; padding-right: 1em; text-align: center; vertical-align: top\">Alice</td>\n",
       "        <td style=\"padding-left: 1em; padding-right: 1em; text-align: center; vertical-align: top\">Why does this innovative<br>method of subtraction ...</td>\n",
       "        <td style=\"padding-left: 1em; padding-right: 1em; text-align: center; vertical-align: top\">arithmetic</td>\n",
       "        <td style=\"padding-left: 1em; padding-right: 1em; text-align: center; vertical-align: top\">291</td>\n",
       "        <td style=\"padding-left: 1em; padding-right: 1em; text-align: center; vertical-align: top\">35</td>\n",
       "    </tr>\n",
       "    <tr>\n",
       "        <td style=\"padding-left: 1em; padding-right: 1em; text-align: center; vertical-align: top\">t.b.</td>\n",
       "        <td style=\"padding-left: 1em; padding-right: 1em; text-align: center; vertical-align: top\">Does the open mapping<br>theorem imply the Baire ...</td>\n",
       "        <td style=\"padding-left: 1em; padding-right: 1em; text-align: center; vertical-align: top\">functional-analysis,set-<br>theory,banach- ...</td>\n",
       "        <td style=\"padding-left: 1em; padding-right: 1em; text-align: center; vertical-align: top\">221</td>\n",
       "        <td style=\"padding-left: 1em; padding-right: 1em; text-align: center; vertical-align: top\">9</td>\n",
       "    </tr>\n",
       "    <tr>\n",
       "        <td style=\"padding-left: 1em; padding-right: 1em; text-align: center; vertical-align: top\">\\n        7 revs, 6 users<br>50% ...</td>\n",
       "        <td style=\"padding-left: 1em; padding-right: 1em; text-align: center; vertical-align: top\">What is a good complex<br>analysis textbook, ...</td>\n",
       "        <td style=\"padding-left: 1em; padding-right: 1em; text-align: center; vertical-align: top\">complex-<br>analysis,reference- ...</td>\n",
       "        <td style=\"padding-left: 1em; padding-right: 1em; text-align: center; vertical-align: top\">178</td>\n",
       "        <td style=\"padding-left: 1em; padding-right: 1em; text-align: center; vertical-align: top\">110</td>\n",
       "    </tr>\n",
       "    <tr>\n",
       "        <td style=\"padding-left: 1em; padding-right: 1em; text-align: center; vertical-align: top\">Robert Z</td>\n",
       "        <td style=\"padding-left: 1em; padding-right: 1em; text-align: center; vertical-align: top\">The Hole in One Pizza</td>\n",
       "        <td style=\"padding-left: 1em; padding-right: 1em; text-align: center; vertical-align: top\">euclidean-<br>geometry,recreational- ...</td>\n",
       "        <td style=\"padding-left: 1em; padding-right: 1em; text-align: center; vertical-align: top\">156</td>\n",
       "        <td style=\"padding-left: 1em; padding-right: 1em; text-align: center; vertical-align: top\">8</td>\n",
       "    </tr>\n",
       "    <tr>\n",
       "        <td style=\"padding-left: 1em; padding-right: 1em; text-align: center; vertical-align: top\">Jim</td>\n",
       "        <td style=\"padding-left: 1em; padding-right: 1em; text-align: center; vertical-align: top\">What&#x27;s 4 times more<br>likely than 80%? ...</td>\n",
       "        <td style=\"padding-left: 1em; padding-right: 1em; text-align: center; vertical-align: top\">probability</td>\n",
       "        <td style=\"padding-left: 1em; padding-right: 1em; text-align: center; vertical-align: top\">143</td>\n",
       "        <td style=\"padding-left: 1em; padding-right: 1em; text-align: center; vertical-align: top\">28</td>\n",
       "    </tr>\n",
       "    <tr>\n",
       "        <td style=\"padding-left: 1em; padding-right: 1em; text-align: center; vertical-align: top\">Nathan Osman</td>\n",
       "        <td style=\"padding-left: 1em; padding-right: 1em; text-align: center; vertical-align: top\">Sum of First $n$ Squares<br>Equals ...</td>\n",
       "        <td style=\"padding-left: 1em; padding-right: 1em; text-align: center; vertical-align: top\">sequences-and-<br>series,discrete- ...</td>\n",
       "        <td style=\"padding-left: 1em; padding-right: 1em; text-align: center; vertical-align: top\">128</td>\n",
       "        <td style=\"padding-left: 1em; padding-right: 1em; text-align: center; vertical-align: top\">69</td>\n",
       "    </tr>\n",
       "    <tr>\n",
       "        <td style=\"padding-left: 1em; padding-right: 1em; text-align: center; vertical-align: top\">Tomas Wolf</td>\n",
       "        <td style=\"padding-left: 1em; padding-right: 1em; text-align: center; vertical-align: top\">Infiniteness of non-twin<br>primes. ...</td>\n",
       "        <td style=\"padding-left: 1em; padding-right: 1em; text-align: center; vertical-align: top\">elementary-number-<br>theory,prime- ...</td>\n",
       "        <td style=\"padding-left: 1em; padding-right: 1em; text-align: center; vertical-align: top\">119</td>\n",
       "        <td style=\"padding-left: 1em; padding-right: 1em; text-align: center; vertical-align: top\">12</td>\n",
       "    </tr>\n",
       "    <tr>\n",
       "        <td style=\"padding-left: 1em; padding-right: 1em; text-align: center; vertical-align: top\">IBS</td>\n",
       "        <td style=\"padding-left: 1em; padding-right: 1em; text-align: center; vertical-align: top\">How to find the Galois<br>group of a polynomial? ...</td>\n",
       "        <td style=\"padding-left: 1em; padding-right: 1em; text-align: center; vertical-align: top\">abstract-algebra,field-<br>theory,galois-theory ...</td>\n",
       "        <td style=\"padding-left: 1em; padding-right: 1em; text-align: center; vertical-align: top\">111</td>\n",
       "        <td style=\"padding-left: 1em; padding-right: 1em; text-align: center; vertical-align: top\">38</td>\n",
       "    </tr>\n",
       "    <tr>\n",
       "        <td style=\"padding-left: 1em; padding-right: 1em; text-align: center; vertical-align: top\">Adam Freymiller</td>\n",
       "        <td style=\"padding-left: 1em; padding-right: 1em; text-align: center; vertical-align: top\">If I flip a coin 1000<br>times in a row and it ...</td>\n",
       "        <td style=\"padding-left: 1em; padding-right: 1em; text-align: center; vertical-align: top\">probability,statistics,ex<br>perimental-mathematics ...</td>\n",
       "        <td style=\"padding-left: 1em; padding-right: 1em; text-align: center; vertical-align: top\">106</td>\n",
       "        <td style=\"padding-left: 1em; padding-right: 1em; text-align: center; vertical-align: top\">32</td>\n",
       "    </tr>\n",
       "    <tr>\n",
       "        <td style=\"padding-left: 1em; padding-right: 1em; text-align: center; vertical-align: top\">JackOfAll</td>\n",
       "        <td style=\"padding-left: 1em; padding-right: 1em; text-align: center; vertical-align: top\">Don&#x27;t see the point of<br>the Fundamental Theorem ...</td>\n",
       "        <td style=\"padding-left: 1em; padding-right: 1em; text-align: center; vertical-align: top\">calculus</td>\n",
       "        <td style=\"padding-left: 1em; padding-right: 1em; text-align: center; vertical-align: top\">98</td>\n",
       "        <td style=\"padding-left: 1em; padding-right: 1em; text-align: center; vertical-align: top\">16</td>\n",
       "    </tr>\n",
       "</table>\n",
       "[936 rows x 5 columns]<br/>Note: Only the head of the SFrame is printed.<br/>You can use print_rows(num_rows=m, num_columns=n) to print more rows and columns.\n",
       "</div>"
      ],
      "text/plain": [
       "Columns:\n",
       "\tuser\tstr\n",
       "\ttitle\tstr\n",
       "\ttags\tNoneType\n",
       "\tvotes\tint\n",
       "\tviews\tint\n",
       "\n",
       "Rows: 936\n",
       "\n",
       "Data:\n",
       "+-------------------------------+-------------------------------+\n",
       "|              user             |             title             |\n",
       "+-------------------------------+-------------------------------+\n",
       "|             Alice             | Why does this innovative m... |\n",
       "|              t.b.             | Does the open mapping theo... |\n",
       "| \\n        7 revs, 6 users 50% | What is a good complex ana... |\n",
       "|            Robert Z           |     The Hole in One Pizza     |\n",
       "|              Jim              | What's 4 times more likely... |\n",
       "|          Nathan Osman         | Sum of First $n$ Squares E... |\n",
       "|           Tomas Wolf          | Infiniteness of non-twin p... |\n",
       "|              IBS              | How to find the Galois gro... |\n",
       "|        Adam Freymiller        | If I flip a coin 1000 time... |\n",
       "|           JackOfAll           | Don't see the point of the... |\n",
       "+-------------------------------+-------------------------------+\n",
       "+-------------------------------+-------+-------+\n",
       "|              tags             | votes | views |\n",
       "+-------------------------------+-------+-------+\n",
       "|           arithmetic          |  291  |   35  |\n",
       "| functional-analysis,set-th... |  221  |   9   |\n",
       "| complex-analysis,reference... |  178  |  110  |\n",
       "| euclidean-geometry,recreat... |  156  |   8   |\n",
       "|          probability          |  143  |   28  |\n",
       "| sequences-and-series,discr... |  128  |   69  |\n",
       "| elementary-number-theory,p... |  119  |   12  |\n",
       "| abstract-algebra,field-the... |  111  |   38  |\n",
       "| probability,statistics,exp... |  106  |   32  |\n",
       "|            calculus           |   98  |   16  |\n",
       "+-------------------------------+-------+-------+\n",
       "[936 rows x 5 columns]\n",
       "Note: Only the head of the SFrame is printed.\n",
       "You can use print_rows(num_rows=m, num_columns=n) to print more rows and columns."
      ]
     },
     "execution_count": 58,
     "metadata": {},
     "output_type": "execute_result"
    }
   ],
   "source": [
    "data.remove_columns(['answers', 'X8', 'time'], inplace=True)"
   ]
  },
  {
   "cell_type": "markdown",
   "id": "congressional-window",
   "metadata": {},
   "source": [
    "## Count unique values"
   ]
  },
  {
   "cell_type": "code",
   "execution_count": 51,
   "id": "otherwise-housing",
   "metadata": {
    "scrolled": true
   },
   "outputs": [
    {
     "name": "stdout",
     "output_type": "stream",
     "text": [
      "Counter({'real-analysis': 98, 'calculus': 96, 'integration': 67, 'sequences-and-series': 66, 'soft-question': 55, 'number-theory': 48, 'linear-algebra': 47, 'combinatorics': 45, 'elementary-number-theory': 44, 'abstract-algebra': 43, 'geometry': 42, 'reference-request': 41, 'general-topology': 41, 'matrices': 38, 'group-theory': 36, 'probability': 34, 'analysis': 31, 'limits': 30, 'complex-analysis': 29, 'definite-integrals': 28, 'algebra-precalculus': 27, 'algebraic-topology': 27, 'algebraic-geometry': 27, 'prime-numbers': 26, 'measure-theory': 26, 'inequality': 25, 'summation': 23, 'logic': 21, 'trigonometry': 21, 'probability-theory': 21, 'closed-form': 20, 'commutative-algebra': 20, 'functional-analysis': 19, 'recreational-mathematics': 19, 'polynomials': 18, 'differential-geometry': 17, 'functions': 17, 'notation': 16, 'category-theory': 15, 'convergence-divergence': 15, 'set-theory': 14, 'discrete-mathematics': 14, 'binomial-coefficients': 14, 'education': 13, 'contest-math': 13, 'math-history': 13, 'optimization': 13, 'ordinary-differential-equations': 13, 'big-list': 12, 'graph-theory': 12, 'elementary-set-theory': 11, 'puzzle': 11, 'improper-integrals': 11, 'arithmetic': 10, 'diophantine-equations': 10, 'proof-verification': 10, 'continuity': 9, 'algorithms': 9, 'finite-groups': 9, 'cardinals': 9, 'definition': 9, 'ring-theory': 9, 'book-recommendation': 8, 'statistics': 8, 'logarithms': 8, 'complex-numbers': 8, 'analytic-number-theory': 8, 'convex-analysis': 8, 'homological-algebra': 8, 'multivariable-calculus': 8, 'functional-equations': 8, 'special-functions': 8, 'field-theory': 7, 'radicals': 7, 'factorial': 7, 'homotopy-theory': 7, 'probability-distributions': 7, 'asymptotics': 7, 'circles': 7, 'derivatives': 7, 'riemannian-geometry': 7, 'lie-groups': 7, 'induction': 7, 'banach-spaces': 6, 'euclidean-geometry': 6, 'irrational-numbers': 6, 'riemann-zeta': 6, 'pi': 6, 'intuition': 6, 'proof-writing': 6, 'approximation': 6, 'terminology': 6, 'gamma-function': 6, 'integer-partitions': 6, 'modules': 6, 'eigenvalues-eigenvectors': 6, 'applications': 5, 'contour-integration': 5, 'power-series': 5, 'philosophy': 5, 'exponential-function': 5, 'norm': 5, 'matrix-norms': 5, 'taylor-expansion': 5, 'rational-numbers': 5, 'algebraic-number-theory': 5, 'stochastic-processes': 5, 'ideals': 5, 'metric-spaces': 5, 'differential-topology': 5, 'dynamical-systems': 5, 'exponentiation': 5, 'permutations': 5, 'lie-algebras': 5, 'connectedness': 5, 'examples-counterexamples': 5, 'divisibility': 5, 'galois-theory': 4, 'transcendental-numbers': 4, 'roots': 4, 'harmonic-numbers': 4, 'self-learning': 4, 'modular-arithmetic': 4, 'partial-differential-equations': 4, 'determinant': 4, 'fibonacci-numbers': 4, 'schemes': 4, 'combinatorial-game-theory': 4, 'real-numbers': 4, 'sheaf-theory': 4, 'triangles': 4, 'constants': 4, 'random-variables': 4, 'physics': 4, 'axiom-of-choice': 3, 'problem-solving': 3, 'indefinite-integrals': 3, 'pigeonhole-principle': 3, 'vector-spaces': 3, 'abelian-categories': 3, 'polyhedra': 3, 'compactness': 3, 'lebesgue-measure': 3, 'advice': 3, 'combinatorial-proofs': 3, 'inverse': 3, 'numerical-methods': 3, 'tensor-products': 3, 'fundamental-groups': 3, 'brownian-motion': 3, 'products': 3, 'divergent-series': 3, 'pell-type-equations': 3, 'irreducible-polynomials': 3, 'learning': 3, 'model-theory': 3, 'motivation': 3, 'geometric-inequalities': 3, 'machine-learning': 3, 'polygons': 3, 'fake-proofs': 3, 'riemann-surfaces': 3, 'fourier-analysis': 3, 'normal-distribution': 3, 'laplace-transform': 3, 'propositional-calculus': 3, 'extremal-combinatorics': 3, 'residue-calculus': 3, 'prime-gaps': 3, 'ergodic-theory': 3, 'lebesgue-integral': 3, 'convex-optimization': 3, 'limits-without-lhopital': 3, 'recurrence-relations': 3, 'operator-theory': 3, 'continued-fractions': 3, 'elliptic-integrals': 2, 'big-picture': 2, 'discrete-optimization': 2, 'conjectures': 2, 'periodic-functions': 2, 'maxima-minima': 2, 'ceiling-and-floor-functions': 2, 'coloring': 2, 'geometric-measure-theory': 2, 'group-isomorphism': 2, '3d': 2, 'solid-geometry': 2, 'meta-math': 2, 'derived-functors': 2, 'quadratics': 2, 'complex-geometry': 2, 'kahler-manifolds': 2, 'totient-function': 2, 'rotations': 2, 'projective-module': 2, 'numerical-linear-algebra': 2, 'cubic-equations': 2, 'foundations': 2, 'primorial': 2, 'dice': 2, 'simple-groups': 2, 'systems-of-equations': 2, 'square-numbers': 2, 'free-groups': 2, 'alternative-proof': 2, 'positive-definite': 2, 'entropy': 2, 'gcd-and-lcm': 2, 'fourier-series': 2, 'sheaf-cohomology': 2, 'mathematical-physics': 2, 'regularization': 2, 'popular-math': 2, 'fluid-dynamics': 2, 'graphing-functions': 2, 'geometric-transformation': 2, 'martingales': 2, 'geometric-probability': 2, 'differential-forms': 2, 'equidistribution': 2, 'recursive-algorithms': 2, 'monoid': 2, 'moduli-space': 2, 'semigroups': 2, 'separation-axioms': 2, 'decimal-expansion': 2, 'rationality-testing': 2, 'abelian-groups': 2, 'distribution-theory': 2, 'diagonalization': 2, 'paradoxes': 2, 'elementary-functions': 2, 'representation-theory': 2, 'analytic-geometry': 2, 'combinations': 2, 'topological-groups': 2, 'digamma-function': 2, 'proof-theory': 2, 'proof-explanation': 2, 'modular-forms': 2, 'online-resources': 2, 'tensors': 2, 'hodge-theory': 2, 'recursion': 2, 'expectation': 2, 'fractals': 2, 'axioms': 2, 'spectral-theory': 2, 'solution-verification': 2, 'binomial-theorem': 2, 'computer-science': 2, 'baire-category': 1, 'prime-twins': 1, 'experimental-mathematics': 1, 'laplacian': 1, 'planar-graphs': 1, 'coxeter-groups': 1, 'cryptography': 1, 'solvable-groups': 1, 'perfect-powers': 1, 'euclidean-algorithm': 1, 'linear-diophantine-equations': 1, 'line-integrals': 1, 'quotient-spaces': 1, 'open-map': 1, 'infinity': 1, 'ordinals': 1, 'hyperbolic-functions': 1, 'fuzzy-logic': 1, 'finitely-generated': 1, 'combinatorial-group-theory': 1, 'change-of-basis': 1, 'metalogic': 1, 'music-theory': 1, 'lagrange-multiplier': 1, 'inverse-function': 1, 'runge-kutta-methods': 1, 'matrix-decomposition': 1, 'visualization': 1, 'angle': 1, 'open-problem': 1, 'additive-combinatorics': 1, 'sumset': 1, 'banach-algebras': 1, 'automorphism-group': 1, 'vieta-jumping': 1, 'noncommutative-algebra': 1, 'stochastic-calculus': 1, 'stochastic-differential-equations': 1, 'hyperbolic-geometry': 1, 'nonlinear-optimization': 1, 'indeterminate-forms': 1, 'order-theory': 1, 'algebraic-numbers': 1, 'substitution': 1, 'symmetric-groups': 1, 'manifolds': 1, 'math-software': 1, 'euler-mascheroni-constant': 1, 'infinite-product': 1, 'coordinate-systems': 1, 'spectral-graph-theory': 1, 'graph-laplacian': 1, 'nonstandard-models': 1, 'dihedral-groups': 1, 'higher-order-logic': 1, 'predicate-logic': 1, 'connections': 1, 'coherent-sheaves': 1, 'quasicoherent-sheaves': 1, 'spectral-norm': 1, 'area': 1, 'descriptive-set-theory': 1, 'floating-point': 1, 'catastrophic-cancellation': 1, 'characteristic-classes': 1, 'upper-lower-bounds': 1, 'cellular-automata': 1, 'card-games': 1, 'number-systems': 1, 'symmetry': 1, 'independence': 1, 'vector-analysis': 1, 'biology': 1, 'tetration': 1, 'polylogarithm': 1, 'differential-games': 1, 'algebraic-graph-theory': 1, 'diophantine-approximation': 1, 'linear-logic': 1, 'scoring-algorithm': 1, 'magic-square': 1, 'limits-colimits': 1, 'ringed-spaces': 1, 'elliptic-curves': 1, 'latin-square': 1, 'simplex': 1, 'epsilon-delta': 1, 'cyclotomic-polynomials': 1, 'arithmetic-geometry': 1, 'conic-sections': 1, 'string-theory': 1, 'complex-manifolds': 1, 'teichmueller-theory': 1, 'abc-conjecture': 1, 'functional-inequalities': 1, 'principal-bundles': 1, 'linear-programming': 1, 'integral-inequality': 1, 'fractions': 1, 'characteristic-functions': 1, 'characteristic-polynomial': 1, 'infinite-groups': 1, 'quadratic-forms': 1, 'symmetric-matrices': 1, 'partial-derivative': 1, 'combinatorial-geometry': 1, 'dissection': 1, 'integral-transforms': 1, 'regular-language': 1, 'quotient-group': 1, 'weak-convergence': 1, 'article-writing': 1, 'publishing': 1, 'convolution': 1, 'product-space': 1, 'cauchy-sequences': 1, 'lambda-calculus': 1, 'type-theory': 1, 'constructive-mathematics': 1, 'calculus-of-variations': 1, 'cyclic-groups': 1, 'direct-product': 1, 'congruences': 1, 'orthonormal': 1, 'sums-of-squares': 1, 'topos-theory': 1, 'groupoids': 1, 'associativity': 1, 'linear-transformations': 1, 'absolute-value': 1, 'trace': 1, 'average': 1, 'standard-deviation': 1, 'spherical-coordinates': 1, 'first-order-logic': 1, 'quantifiers': 1, 'natural-deduction': 1, 'krull-dimension': 1, 'probability-limit-theorems': 1, 'extension-field': 1, 'ordered-fields': 1, 'sobolev-spaces': 1, 'riesz-representation-theorem': 1, 'formal-languages': 1, 'tiling': 1, 'coding-theory': 1, 'singular-measures': 1, 'mathematicians': 1, 'riemann-integration': 1, 'skew-symmetric-matrices': 1, 'locus': 1, 'tensor-rank': 1, 'tensor-decomposition': 1, 'entire-functions': 1, 'smooth-manifolds': 1, 'harmonic-functions': 1, 'geometric-topology': 1, 'symmetric-polynomials': 1, 'epimorphisms': 1, 'conditional-expectation': 1, 'matrix-equations': 1, 'affine-geometry': 1, 'quadratic-programming': 1, 'cauchy-schwarz-inequality': 1, 'large-cardinals': 1, 'goldbachs-conjecture': 1, 'universal-property': 1, 'adjoint-functors': 1, 'cw-complexes': 1, 'triangulation': 1, 'quadratic-integer-rings': 1, 'semisimple-lie-algebras': 1, 'polar-coordinates': 1, 'algebraic-curves': 1, 'error-function': 1, 'group-actions': 1, 'several-complex-variables': 1, 'hilbert-spaces': 1, 'toric-geometry': 1, 'homology-cohomology': 1, 'balls-in-bins': 1, 'homogeneous-spaces': 1, 'signal-processing': 1, 'nonlinear-system': 1, 'picard-scheme': 1, 'stochastic-integrals': 1, 'monoidal-categories': 1, 'generating-functions': 1, 'ramanujan-summation': 1, 'exact-sequence': 1, 'gaussian-integral': 1, 'random-matrices': 1, 'statistical-inference': 1, 'random-walk': 1, 'percentages': 1, 'packing-problem': 1, 'ramsey-theory': 1, 'curves': 1, 'geometric-construction': 1, 'poisson-distribution': 1, 'primitive-roots': 1, 'golden-ratio': 1, 'q-series': 1, 'wreath-product': 1, 'exponential-sum': 1, 'normal-subgroups': 1, 'rational-functions': 1, 'symmetric-functions': 1, 'computer-algebra-systems': 1, 'cayley-hamilton': 1, 'multilinear-algebra': 1, 'bernoulli-numbers': 1, 'euler-maclaurin': 1, 'formal-systems': 1, 'alternative-set-theories': 1, 'finite-rings': 1, 'discrete-calculus': 1, 'projective-geometry': 1, 'random': 1, 'random-functions': 1, 'quaternions': 1, 'limsup-and-liminf': 1, 'fractional-part': 1, 'filters': 1, 'radon-nikodym': 1, 'perfect-numbers': 1, 'knot-theory': 1, 'low-dimensional-topology': 1, 'statistical-mechanics': 1, 'hypergeometric-function': 1, 'surfaces': 1, 'principal-ideal-domains': 1, 'unique-factorization-domains': 1, 'voting-theory': 1, 'complex-dynamics': 1, 'stopping-times': 1, 'matlab': 1, 'maple': 1, 'laurent-series': 1, 'order-topology': 1, 'maximal-and-prime-ideals': 1, 'affine-schemes': 1, 'morse-theory': 1})\n"
     ]
    }
   ],
   "source": [
    "ct = Counter()\n",
    "for tlist in data['tags']:\n",
    "    ct += Counter(tlist.split(','))\n",
    "\n",
    "print(ct)"
   ]
  },
  {
   "cell_type": "code",
   "execution_count": 62,
   "id": "banner-quebec",
   "metadata": {},
   "outputs": [
    {
     "name": "stdout",
     "output_type": "stream",
     "text": [
      "936\n"
     ]
    }
   ],
   "source": [
    "ltags = []\n",
    "for lt in data['tags']:\n",
    "    ltags.append(lt.split(','))\n",
    "print(len(ltags))"
   ]
  },
  {
   "cell_type": "code",
   "execution_count": 65,
   "id": "capable-alias",
   "metadata": {},
   "outputs": [
    {
     "data": {
      "text/plain": [
       "[str, str, list, int, int, list]"
      ]
     },
     "execution_count": 65,
     "metadata": {},
     "output_type": "execute_result"
    }
   ],
   "source": [
    "data['tags'] = tc.SArray(ltags)\n",
    "data.head()\n",
    "data.column_types()"
   ]
  },
  {
   "cell_type": "code",
   "execution_count": 67,
   "id": "liked-graphic",
   "metadata": {
    "scrolled": true
   },
   "outputs": [
    {
     "data": {
      "text/html": [
       "<div style=\"max-height:1000px;max-width:1500px;overflow:auto;\"><table frame=\"box\" rules=\"cols\">\n",
       "    <tr>\n",
       "        <th style=\"padding-left: 1em; padding-right: 1em; text-align: center\">user</th>\n",
       "        <th style=\"padding-left: 1em; padding-right: 1em; text-align: center\">title</th>\n",
       "        <th style=\"padding-left: 1em; padding-right: 1em; text-align: center\">tags</th>\n",
       "        <th style=\"padding-left: 1em; padding-right: 1em; text-align: center\">votes</th>\n",
       "        <th style=\"padding-left: 1em; padding-right: 1em; text-align: center\">views</th>\n",
       "    </tr>\n",
       "    <tr>\n",
       "        <td style=\"padding-left: 1em; padding-right: 1em; text-align: center; vertical-align: top\">Alice</td>\n",
       "        <td style=\"padding-left: 1em; padding-right: 1em; text-align: center; vertical-align: top\">Why does this innovative<br>method of subtraction ...</td>\n",
       "        <td style=\"padding-left: 1em; padding-right: 1em; text-align: center; vertical-align: top\">[arithmetic]</td>\n",
       "        <td style=\"padding-left: 1em; padding-right: 1em; text-align: center; vertical-align: top\">291</td>\n",
       "        <td style=\"padding-left: 1em; padding-right: 1em; text-align: center; vertical-align: top\">35</td>\n",
       "    </tr>\n",
       "    <tr>\n",
       "        <td style=\"padding-left: 1em; padding-right: 1em; text-align: center; vertical-align: top\">t.b.</td>\n",
       "        <td style=\"padding-left: 1em; padding-right: 1em; text-align: center; vertical-align: top\">Does the open mapping<br>theorem imply the Baire ...</td>\n",
       "        <td style=\"padding-left: 1em; padding-right: 1em; text-align: center; vertical-align: top\">[functional-analysis,<br>set-theory, banach- ...</td>\n",
       "        <td style=\"padding-left: 1em; padding-right: 1em; text-align: center; vertical-align: top\">221</td>\n",
       "        <td style=\"padding-left: 1em; padding-right: 1em; text-align: center; vertical-align: top\">9</td>\n",
       "    </tr>\n",
       "    <tr>\n",
       "        <td style=\"padding-left: 1em; padding-right: 1em; text-align: center; vertical-align: top\">\\n        7 revs, 6 users<br>50% ...</td>\n",
       "        <td style=\"padding-left: 1em; padding-right: 1em; text-align: center; vertical-align: top\">What is a good complex<br>analysis textbook, ...</td>\n",
       "        <td style=\"padding-left: 1em; padding-right: 1em; text-align: center; vertical-align: top\">[complex-analysis,<br>reference-request, book- ...</td>\n",
       "        <td style=\"padding-left: 1em; padding-right: 1em; text-align: center; vertical-align: top\">178</td>\n",
       "        <td style=\"padding-left: 1em; padding-right: 1em; text-align: center; vertical-align: top\">110</td>\n",
       "    </tr>\n",
       "    <tr>\n",
       "        <td style=\"padding-left: 1em; padding-right: 1em; text-align: center; vertical-align: top\">Robert Z</td>\n",
       "        <td style=\"padding-left: 1em; padding-right: 1em; text-align: center; vertical-align: top\">The Hole in One Pizza</td>\n",
       "        <td style=\"padding-left: 1em; padding-right: 1em; text-align: center; vertical-align: top\">[euclidean-geometry,<br>recreational-mathemat ...</td>\n",
       "        <td style=\"padding-left: 1em; padding-right: 1em; text-align: center; vertical-align: top\">156</td>\n",
       "        <td style=\"padding-left: 1em; padding-right: 1em; text-align: center; vertical-align: top\">8</td>\n",
       "    </tr>\n",
       "    <tr>\n",
       "        <td style=\"padding-left: 1em; padding-right: 1em; text-align: center; vertical-align: top\">Jim</td>\n",
       "        <td style=\"padding-left: 1em; padding-right: 1em; text-align: center; vertical-align: top\">What&#x27;s 4 times more<br>likely than 80%? ...</td>\n",
       "        <td style=\"padding-left: 1em; padding-right: 1em; text-align: center; vertical-align: top\">[probability]</td>\n",
       "        <td style=\"padding-left: 1em; padding-right: 1em; text-align: center; vertical-align: top\">143</td>\n",
       "        <td style=\"padding-left: 1em; padding-right: 1em; text-align: center; vertical-align: top\">28</td>\n",
       "    </tr>\n",
       "    <tr>\n",
       "        <td style=\"padding-left: 1em; padding-right: 1em; text-align: center; vertical-align: top\">Nathan Osman</td>\n",
       "        <td style=\"padding-left: 1em; padding-right: 1em; text-align: center; vertical-align: top\">Sum of First $n$ Squares<br>Equals ...</td>\n",
       "        <td style=\"padding-left: 1em; padding-right: 1em; text-align: center; vertical-align: top\">[sequences-and-series,<br>discrete-mathematics, ...</td>\n",
       "        <td style=\"padding-left: 1em; padding-right: 1em; text-align: center; vertical-align: top\">128</td>\n",
       "        <td style=\"padding-left: 1em; padding-right: 1em; text-align: center; vertical-align: top\">69</td>\n",
       "    </tr>\n",
       "    <tr>\n",
       "        <td style=\"padding-left: 1em; padding-right: 1em; text-align: center; vertical-align: top\">Tomas Wolf</td>\n",
       "        <td style=\"padding-left: 1em; padding-right: 1em; text-align: center; vertical-align: top\">Infiniteness of non-twin<br>primes. ...</td>\n",
       "        <td style=\"padding-left: 1em; padding-right: 1em; text-align: center; vertical-align: top\">[elementary-number-<br>theory, prime-numbers, ...</td>\n",
       "        <td style=\"padding-left: 1em; padding-right: 1em; text-align: center; vertical-align: top\">119</td>\n",
       "        <td style=\"padding-left: 1em; padding-right: 1em; text-align: center; vertical-align: top\">12</td>\n",
       "    </tr>\n",
       "    <tr>\n",
       "        <td style=\"padding-left: 1em; padding-right: 1em; text-align: center; vertical-align: top\">IBS</td>\n",
       "        <td style=\"padding-left: 1em; padding-right: 1em; text-align: center; vertical-align: top\">How to find the Galois<br>group of a polynomial? ...</td>\n",
       "        <td style=\"padding-left: 1em; padding-right: 1em; text-align: center; vertical-align: top\">[abstract-algebra, field-<br>theory, galois-theory] ...</td>\n",
       "        <td style=\"padding-left: 1em; padding-right: 1em; text-align: center; vertical-align: top\">111</td>\n",
       "        <td style=\"padding-left: 1em; padding-right: 1em; text-align: center; vertical-align: top\">38</td>\n",
       "    </tr>\n",
       "    <tr>\n",
       "        <td style=\"padding-left: 1em; padding-right: 1em; text-align: center; vertical-align: top\">Adam Freymiller</td>\n",
       "        <td style=\"padding-left: 1em; padding-right: 1em; text-align: center; vertical-align: top\">If I flip a coin 1000<br>times in a row and it ...</td>\n",
       "        <td style=\"padding-left: 1em; padding-right: 1em; text-align: center; vertical-align: top\">[probability, statistics,<br>experimental-mathemat ...</td>\n",
       "        <td style=\"padding-left: 1em; padding-right: 1em; text-align: center; vertical-align: top\">106</td>\n",
       "        <td style=\"padding-left: 1em; padding-right: 1em; text-align: center; vertical-align: top\">32</td>\n",
       "    </tr>\n",
       "    <tr>\n",
       "        <td style=\"padding-left: 1em; padding-right: 1em; text-align: center; vertical-align: top\">JackOfAll</td>\n",
       "        <td style=\"padding-left: 1em; padding-right: 1em; text-align: center; vertical-align: top\">Don&#x27;t see the point of<br>the Fundamental Theorem ...</td>\n",
       "        <td style=\"padding-left: 1em; padding-right: 1em; text-align: center; vertical-align: top\">[calculus]</td>\n",
       "        <td style=\"padding-left: 1em; padding-right: 1em; text-align: center; vertical-align: top\">98</td>\n",
       "        <td style=\"padding-left: 1em; padding-right: 1em; text-align: center; vertical-align: top\">16</td>\n",
       "    </tr>\n",
       "</table>\n",
       "[936 rows x 5 columns]<br/>Note: Only the head of the SFrame is printed.<br/>You can use print_rows(num_rows=m, num_columns=n) to print more rows and columns.\n",
       "</div>"
      ],
      "text/plain": [
       "Columns:\n",
       "\tuser\tstr\n",
       "\ttitle\tstr\n",
       "\ttags\tlist\n",
       "\tvotes\tint\n",
       "\tviews\tint\n",
       "\n",
       "Rows: 936\n",
       "\n",
       "Data:\n",
       "+-------------------------------+-------------------------------+\n",
       "|              user             |             title             |\n",
       "+-------------------------------+-------------------------------+\n",
       "|             Alice             | Why does this innovative m... |\n",
       "|              t.b.             | Does the open mapping theo... |\n",
       "| \\n        7 revs, 6 users 50% | What is a good complex ana... |\n",
       "|            Robert Z           |     The Hole in One Pizza     |\n",
       "|              Jim              | What's 4 times more likely... |\n",
       "|          Nathan Osman         | Sum of First $n$ Squares E... |\n",
       "|           Tomas Wolf          | Infiniteness of non-twin p... |\n",
       "|              IBS              | How to find the Galois gro... |\n",
       "|        Adam Freymiller        | If I flip a coin 1000 time... |\n",
       "|           JackOfAll           | Don't see the point of the... |\n",
       "+-------------------------------+-------------------------------+\n",
       "+-------------------------------+-------+-------+\n",
       "|              tags             | votes | views |\n",
       "+-------------------------------+-------+-------+\n",
       "|          [arithmetic]         |  291  |   35  |\n",
       "| [functional-analysis, set-... |  221  |   9   |\n",
       "| [complex-analysis, referen... |  178  |  110  |\n",
       "| [euclidean-geometry, recre... |  156  |   8   |\n",
       "|         [probability]         |  143  |   28  |\n",
       "| [sequences-and-series, dis... |  128  |   69  |\n",
       "| [elementary-number-theory,... |  119  |   12  |\n",
       "| [abstract-algebra, field-t... |  111  |   38  |\n",
       "| [probability, statistics, ... |  106  |   32  |\n",
       "|           [calculus]          |   98  |   16  |\n",
       "+-------------------------------+-------+-------+\n",
       "[936 rows x 5 columns]\n",
       "Note: Only the head of the SFrame is printed.\n",
       "You can use print_rows(num_rows=m, num_columns=n) to print more rows and columns."
      ]
     },
     "execution_count": 67,
     "metadata": {},
     "output_type": "execute_result"
    }
   ],
   "source": [
    "data.remove_column('tags2', inplace=True)"
   ]
  },
  {
   "cell_type": "code",
   "execution_count": 85,
   "id": "general-reviewer",
   "metadata": {},
   "outputs": [],
   "source": [
    "cleanUser = []\n",
    "for user in data['user']:\n",
    "    cleanUser.append(user.strip('\\n').strip(' ').strip('\\n').strip(' '))\n",
    "if len(cleanUser) == 936:\n",
    "    data['user'] = tc.SArray(cleanUser)\n",
    "    data.head()\n",
    "else:\n",
    "    print('Error: Lost users')"
   ]
  },
  {
   "cell_type": "code",
   "execution_count": 75,
   "id": "functional-hawaiian",
   "metadata": {
    "scrolled": true
   },
   "outputs": [
    {
     "name": "stdout",
     "output_type": "stream",
     "text": [
      "Counter({'real-analysis': 98, 'calculus': 96, 'integration': 67, 'sequences-and-series': 66, 'soft-question': 55, 'number-theory': 48, 'linear-algebra': 47, 'combinatorics': 45, 'elementary-number-theory': 44, 'abstract-algebra': 43, 'geometry': 42, 'reference-request': 41, 'general-topology': 41, 'matrices': 38, 'group-theory': 36, 'probability': 34, 'analysis': 31, 'limits': 30, 'complex-analysis': 29, 'definite-integrals': 28, 'algebra-precalculus': 27, 'algebraic-topology': 27, 'algebraic-geometry': 27, 'prime-numbers': 26, 'measure-theory': 26, 'inequality': 25, 'summation': 23, 'logic': 21, 'trigonometry': 21, 'probability-theory': 21, 'closed-form': 20, 'commutative-algebra': 20, 'functional-analysis': 19, 'recreational-mathematics': 19, 'polynomials': 18, 'differential-geometry': 17, 'functions': 17, 'notation': 16, 'category-theory': 15, 'convergence-divergence': 15, 'set-theory': 14, 'discrete-mathematics': 14, 'binomial-coefficients': 14, 'education': 13, 'contest-math': 13, 'math-history': 13, 'optimization': 13, 'ordinary-differential-equations': 13, 'big-list': 12, 'graph-theory': 12, 'elementary-set-theory': 11, 'puzzle': 11, 'improper-integrals': 11, 'arithmetic': 10, 'diophantine-equations': 10, 'proof-verification': 10, 'continuity': 9, 'algorithms': 9, 'finite-groups': 9, 'cardinals': 9, 'definition': 9, 'ring-theory': 9, 'book-recommendation': 8, 'statistics': 8, 'logarithms': 8, 'complex-numbers': 8, 'analytic-number-theory': 8, 'convex-analysis': 8, 'homological-algebra': 8, 'multivariable-calculus': 8, 'functional-equations': 8, 'special-functions': 8, 'field-theory': 7, 'radicals': 7, 'factorial': 7, 'homotopy-theory': 7, 'probability-distributions': 7, 'asymptotics': 7, 'circles': 7, 'derivatives': 7, 'riemannian-geometry': 7, 'lie-groups': 7, 'induction': 7, 'banach-spaces': 6, 'euclidean-geometry': 6, 'irrational-numbers': 6, 'riemann-zeta': 6, 'pi': 6, 'intuition': 6, 'proof-writing': 6, 'approximation': 6, 'terminology': 6, 'gamma-function': 6, 'integer-partitions': 6, 'modules': 6, 'eigenvalues-eigenvectors': 6, 'applications': 5, 'contour-integration': 5, 'power-series': 5, 'philosophy': 5, 'exponential-function': 5, 'norm': 5, 'matrix-norms': 5, 'taylor-expansion': 5, 'rational-numbers': 5, 'algebraic-number-theory': 5, 'stochastic-processes': 5, 'ideals': 5, 'metric-spaces': 5, 'differential-topology': 5, 'dynamical-systems': 5, 'exponentiation': 5, 'permutations': 5, 'lie-algebras': 5, 'connectedness': 5, 'examples-counterexamples': 5, 'divisibility': 5, 'galois-theory': 4, 'transcendental-numbers': 4, 'roots': 4, 'harmonic-numbers': 4, 'self-learning': 4, 'modular-arithmetic': 4, 'partial-differential-equations': 4, 'determinant': 4, 'fibonacci-numbers': 4, 'schemes': 4, 'combinatorial-game-theory': 4, 'real-numbers': 4, 'sheaf-theory': 4, 'triangles': 4, 'constants': 4, 'random-variables': 4, 'physics': 4, 'axiom-of-choice': 3, 'problem-solving': 3, 'indefinite-integrals': 3, 'pigeonhole-principle': 3, 'vector-spaces': 3, 'abelian-categories': 3, 'polyhedra': 3, 'compactness': 3, 'lebesgue-measure': 3, 'advice': 3, 'combinatorial-proofs': 3, 'inverse': 3, 'numerical-methods': 3, 'tensor-products': 3, 'fundamental-groups': 3, 'brownian-motion': 3, 'products': 3, 'divergent-series': 3, 'pell-type-equations': 3, 'irreducible-polynomials': 3, 'learning': 3, 'model-theory': 3, 'motivation': 3, 'geometric-inequalities': 3, 'machine-learning': 3, 'polygons': 3, 'fake-proofs': 3, 'riemann-surfaces': 3, 'fourier-analysis': 3, 'normal-distribution': 3, 'laplace-transform': 3, 'propositional-calculus': 3, 'extremal-combinatorics': 3, 'residue-calculus': 3, 'prime-gaps': 3, 'ergodic-theory': 3, 'lebesgue-integral': 3, 'convex-optimization': 3, 'limits-without-lhopital': 3, 'recurrence-relations': 3, 'operator-theory': 3, 'continued-fractions': 3, 'elliptic-integrals': 2, 'big-picture': 2, 'discrete-optimization': 2, 'conjectures': 2, 'periodic-functions': 2, 'maxima-minima': 2, 'ceiling-and-floor-functions': 2, 'coloring': 2, 'geometric-measure-theory': 2, 'group-isomorphism': 2, '3d': 2, 'solid-geometry': 2, 'meta-math': 2, 'derived-functors': 2, 'quadratics': 2, 'complex-geometry': 2, 'kahler-manifolds': 2, 'totient-function': 2, 'rotations': 2, 'projective-module': 2, 'numerical-linear-algebra': 2, 'cubic-equations': 2, 'foundations': 2, 'primorial': 2, 'dice': 2, 'simple-groups': 2, 'systems-of-equations': 2, 'square-numbers': 2, 'free-groups': 2, 'alternative-proof': 2, 'positive-definite': 2, 'entropy': 2, 'gcd-and-lcm': 2, 'fourier-series': 2, 'sheaf-cohomology': 2, 'mathematical-physics': 2, 'regularization': 2, 'popular-math': 2, 'fluid-dynamics': 2, 'graphing-functions': 2, 'geometric-transformation': 2, 'martingales': 2, 'geometric-probability': 2, 'differential-forms': 2, 'equidistribution': 2, 'recursive-algorithms': 2, 'monoid': 2, 'moduli-space': 2, 'semigroups': 2, 'separation-axioms': 2, 'decimal-expansion': 2, 'rationality-testing': 2, 'abelian-groups': 2, 'distribution-theory': 2, 'diagonalization': 2, 'paradoxes': 2, 'elementary-functions': 2, 'representation-theory': 2, 'analytic-geometry': 2, 'combinations': 2, 'topological-groups': 2, 'digamma-function': 2, 'proof-theory': 2, 'proof-explanation': 2, 'modular-forms': 2, 'online-resources': 2, 'tensors': 2, 'hodge-theory': 2, 'recursion': 2, 'expectation': 2, 'fractals': 2, 'axioms': 2, 'spectral-theory': 2, 'solution-verification': 2, 'binomial-theorem': 2, 'computer-science': 2, 'baire-category': 1, 'prime-twins': 1, 'experimental-mathematics': 1, 'laplacian': 1, 'planar-graphs': 1, 'coxeter-groups': 1, 'cryptography': 1, 'solvable-groups': 1, 'perfect-powers': 1, 'euclidean-algorithm': 1, 'linear-diophantine-equations': 1, 'line-integrals': 1, 'quotient-spaces': 1, 'open-map': 1, 'infinity': 1, 'ordinals': 1, 'hyperbolic-functions': 1, 'fuzzy-logic': 1, 'finitely-generated': 1, 'combinatorial-group-theory': 1, 'change-of-basis': 1, 'metalogic': 1, 'music-theory': 1, 'lagrange-multiplier': 1, 'inverse-function': 1, 'runge-kutta-methods': 1, 'matrix-decomposition': 1, 'visualization': 1, 'angle': 1, 'open-problem': 1, 'additive-combinatorics': 1, 'sumset': 1, 'banach-algebras': 1, 'automorphism-group': 1, 'vieta-jumping': 1, 'noncommutative-algebra': 1, 'stochastic-calculus': 1, 'stochastic-differential-equations': 1, 'hyperbolic-geometry': 1, 'nonlinear-optimization': 1, 'indeterminate-forms': 1, 'order-theory': 1, 'algebraic-numbers': 1, 'substitution': 1, 'symmetric-groups': 1, 'manifolds': 1, 'math-software': 1, 'euler-mascheroni-constant': 1, 'infinite-product': 1, 'coordinate-systems': 1, 'spectral-graph-theory': 1, 'graph-laplacian': 1, 'nonstandard-models': 1, 'dihedral-groups': 1, 'higher-order-logic': 1, 'predicate-logic': 1, 'connections': 1, 'coherent-sheaves': 1, 'quasicoherent-sheaves': 1, 'spectral-norm': 1, 'area': 1, 'descriptive-set-theory': 1, 'floating-point': 1, 'catastrophic-cancellation': 1, 'characteristic-classes': 1, 'upper-lower-bounds': 1, 'cellular-automata': 1, 'card-games': 1, 'number-systems': 1, 'symmetry': 1, 'independence': 1, 'vector-analysis': 1, 'biology': 1, 'tetration': 1, 'polylogarithm': 1, 'differential-games': 1, 'algebraic-graph-theory': 1, 'diophantine-approximation': 1, 'linear-logic': 1, 'scoring-algorithm': 1, 'magic-square': 1, 'limits-colimits': 1, 'ringed-spaces': 1, 'elliptic-curves': 1, 'latin-square': 1, 'simplex': 1, 'epsilon-delta': 1, 'cyclotomic-polynomials': 1, 'arithmetic-geometry': 1, 'conic-sections': 1, 'string-theory': 1, 'complex-manifolds': 1, 'teichmueller-theory': 1, 'abc-conjecture': 1, 'functional-inequalities': 1, 'principal-bundles': 1, 'linear-programming': 1, 'integral-inequality': 1, 'fractions': 1, 'characteristic-functions': 1, 'characteristic-polynomial': 1, 'infinite-groups': 1, 'quadratic-forms': 1, 'symmetric-matrices': 1, 'partial-derivative': 1, 'combinatorial-geometry': 1, 'dissection': 1, 'integral-transforms': 1, 'regular-language': 1, 'quotient-group': 1, 'weak-convergence': 1, 'article-writing': 1, 'publishing': 1, 'convolution': 1, 'product-space': 1, 'cauchy-sequences': 1, 'lambda-calculus': 1, 'type-theory': 1, 'constructive-mathematics': 1, 'calculus-of-variations': 1, 'cyclic-groups': 1, 'direct-product': 1, 'congruences': 1, 'orthonormal': 1, 'sums-of-squares': 1, 'topos-theory': 1, 'groupoids': 1, 'associativity': 1, 'linear-transformations': 1, 'absolute-value': 1, 'trace': 1, 'average': 1, 'standard-deviation': 1, 'spherical-coordinates': 1, 'first-order-logic': 1, 'quantifiers': 1, 'natural-deduction': 1, 'krull-dimension': 1, 'probability-limit-theorems': 1, 'extension-field': 1, 'ordered-fields': 1, 'sobolev-spaces': 1, 'riesz-representation-theorem': 1, 'formal-languages': 1, 'tiling': 1, 'coding-theory': 1, 'singular-measures': 1, 'mathematicians': 1, 'riemann-integration': 1, 'skew-symmetric-matrices': 1, 'locus': 1, 'tensor-rank': 1, 'tensor-decomposition': 1, 'entire-functions': 1, 'smooth-manifolds': 1, 'harmonic-functions': 1, 'geometric-topology': 1, 'symmetric-polynomials': 1, 'epimorphisms': 1, 'conditional-expectation': 1, 'matrix-equations': 1, 'affine-geometry': 1, 'quadratic-programming': 1, 'cauchy-schwarz-inequality': 1, 'large-cardinals': 1, 'goldbachs-conjecture': 1, 'universal-property': 1, 'adjoint-functors': 1, 'cw-complexes': 1, 'triangulation': 1, 'quadratic-integer-rings': 1, 'semisimple-lie-algebras': 1, 'polar-coordinates': 1, 'algebraic-curves': 1, 'error-function': 1, 'group-actions': 1, 'several-complex-variables': 1, 'hilbert-spaces': 1, 'toric-geometry': 1, 'homology-cohomology': 1, 'balls-in-bins': 1, 'homogeneous-spaces': 1, 'signal-processing': 1, 'nonlinear-system': 1, 'picard-scheme': 1, 'stochastic-integrals': 1, 'monoidal-categories': 1, 'generating-functions': 1, 'ramanujan-summation': 1, 'exact-sequence': 1, 'gaussian-integral': 1, 'random-matrices': 1, 'statistical-inference': 1, 'random-walk': 1, 'percentages': 1, 'packing-problem': 1, 'ramsey-theory': 1, 'curves': 1, 'geometric-construction': 1, 'poisson-distribution': 1, 'primitive-roots': 1, 'golden-ratio': 1, 'q-series': 1, 'wreath-product': 1, 'exponential-sum': 1, 'normal-subgroups': 1, 'rational-functions': 1, 'symmetric-functions': 1, 'computer-algebra-systems': 1, 'cayley-hamilton': 1, 'multilinear-algebra': 1, 'bernoulli-numbers': 1, 'euler-maclaurin': 1, 'formal-systems': 1, 'alternative-set-theories': 1, 'finite-rings': 1, 'discrete-calculus': 1, 'projective-geometry': 1, 'random': 1, 'random-functions': 1, 'quaternions': 1, 'limsup-and-liminf': 1, 'fractional-part': 1, 'filters': 1, 'radon-nikodym': 1, 'perfect-numbers': 1, 'knot-theory': 1, 'low-dimensional-topology': 1, 'statistical-mechanics': 1, 'hypergeometric-function': 1, 'surfaces': 1, 'principal-ideal-domains': 1, 'unique-factorization-domains': 1, 'voting-theory': 1, 'complex-dynamics': 1, 'stopping-times': 1, 'matlab': 1, 'maple': 1, 'laurent-series': 1, 'order-topology': 1, 'maximal-and-prime-ideals': 1, 'affine-schemes': 1, 'morse-theory': 1})\n"
     ]
    }
   ],
   "source": [
    "ct = Counter()\n",
    "for lt in data['tags']:\n",
    "    ct += Counter(lt)\n",
    "print(ct)"
   ]
  },
  {
   "cell_type": "code",
   "execution_count": 97,
   "id": "preceding-scratch",
   "metadata": {},
   "outputs": [
    {
     "name": "stdout",
     "output_type": "stream",
     "text": [
      "{   '': [   'real-analysis',\n",
      "            'sequences-and-series',\n",
      "            'complex-analysis',\n",
      "            'closed-form',\n",
      "            'harmonic-numbers',\n",
      "            'soft-question',\n",
      "            'math-history',\n",
      "            'calculus',\n",
      "            'real-analysis',\n",
      "            'sequences-and-series',\n",
      "            'algebra-precalculus',\n",
      "            'summation',\n",
      "            'linear-algebra',\n",
      "            'matrices',\n",
      "            'determinant',\n",
      "            'terminology',\n",
      "            'real-analysis',\n",
      "            'general-topology',\n",
      "            'metric-spaces',\n",
      "            'reference-request',\n",
      "            'notation',\n",
      "            'math-history',\n",
      "            'factorial',\n",
      "            'number-theory',\n",
      "            'prime-numbers',\n",
      "            'analytic-number-theory',\n",
      "            'linear-algebra',\n",
      "            'matrices',\n",
      "            'inverse',\n",
      "            'calculus',\n",
      "            'notation',\n",
      "            'linear-algebra',\n",
      "            'matrices',\n",
      "            'determinant',\n",
      "            'calculus',\n",
      "            'integration',\n",
      "            'reference-request',\n",
      "            'definite-integrals',\n",
      "            'pi',\n",
      "            'general-topology',\n",
      "            'sequences-and-series',\n",
      "            'diophantine-approximation',\n",
      "            'equidistribution',\n",
      "            'combinatorics',\n",
      "            'algorithms',\n",
      "            'latin-square',\n",
      "            'sequences-and-series',\n",
      "            'arithmetic-geometry',\n",
      "            'polynomials',\n",
      "            'binomial-coefficients',\n",
      "            'integration',\n",
      "            'calculus',\n",
      "            'sequences-and-series',\n",
      "            'inequality',\n",
      "            'euclidean-geometry',\n",
      "            'linear-programming',\n",
      "            'polygons',\n",
      "            'number-theory',\n",
      "            'elementary-number-theory',\n",
      "            'diophantine-equations',\n",
      "            'analysis',\n",
      "            'trigonometry',\n",
      "            'radicals',\n",
      "            'rationality-testing',\n",
      "            'combinatorics',\n",
      "            'trigonometry',\n",
      "            'analytic-geometry',\n",
      "            'polygons',\n",
      "            'algebraic-geometry',\n",
      "            'set-theory',\n",
      "            'general-topology',\n",
      "            'continuity',\n",
      "            'combinatorics',\n",
      "            'logic',\n",
      "            'set-theory',\n",
      "            'arithmetic',\n",
      "            'cardinals',\n",
      "            'calculus',\n",
      "            'real-analysis',\n",
      "            'integration',\n",
      "            'measure-theory',\n",
      "            'lebesgue-integral',\n",
      "            'prime-numbers',\n",
      "            'definition',\n",
      "            'real-analysis',\n",
      "            'measure-theory',\n",
      "            'singular-measures',\n",
      "            'calculus',\n",
      "            'integration',\n",
      "            'sequences-and-series',\n",
      "            'closed-form',\n",
      "            'digamma-function',\n",
      "            'general-topology',\n",
      "            'continuity',\n",
      "            'connectedness',\n",
      "            'abstract-algebra',\n",
      "            'group-theory',\n",
      "            'elementary-number-theory',\n",
      "            'prime-numbers',\n",
      "            'commutative-algebra',\n",
      "            'polynomials',\n",
      "            'ideals',\n",
      "            'number-theory',\n",
      "            'prime-numbers',\n",
      "            'riemannian-geometry',\n",
      "            'geometric-measure-theory',\n",
      "            'percentages',\n",
      "            'linear-algebra',\n",
      "            'convex-optimization',\n",
      "            'calculus',\n",
      "            'integration',\n",
      "            'multilinear-algebra',\n",
      "            'real-analysis',\n",
      "            'number-theory',\n",
      "            'elementary-number-theory',\n",
      "            'perfect-numbers',\n",
      "            'combinatorics',\n",
      "            'algorithms',\n",
      "            'optimization',\n",
      "            'integer-partitions',\n",
      "            'definition',\n",
      "            'intuition',\n",
      "            'ergodic-theory',\n",
      "            'statistical-mechanics',\n",
      "            'integration',\n",
      "            'definite-integrals'],\n",
      "    '16 revs, 3 users 96%': [   'combinatorics',\n",
      "                                'puzzle',\n",
      "                                'additive-combinatorics',\n",
      "                                'sumset'],\n",
      "    '2 revs': ['big-list', 'open-problem', 'soft-question'],\n",
      "    '2 revs, 2 users 80%': ['soft-question', 'big-list'],\n",
      "    '2ndaccount': ['real-analysis', 'integration', 'riemann-integration'],\n",
      "    '3 revs, 3 users 63%': ['logic', 'reference-request', 'philosophy'],\n",
      "    '35T41': ['summation', 'pigeonhole-principle'],\n",
      "    '4 revs': [   'reference-request',\n",
      "                  'big-list',\n",
      "                  'group-theory',\n",
      "                  'reference-request',\n",
      "                  'big-list',\n",
      "                  'simple-groups',\n",
      "                  'infinite-groups'],\n",
      "    '5 revs': ['soft-question'],\n",
      "    '5 revs, 4 users 50%': [   'reference-request',\n",
      "                               'book-recommendation',\n",
      "                               'music-theory'],\n",
      "    '531441': ['soft-question'],\n",
      "    '6005': [   'probability',\n",
      "                'statistics',\n",
      "                'statistical-inference',\n",
      "                'random-walk'],\n",
      "    '7 revs, 4 users 96%': [   'soft-question',\n",
      "                               'education',\n",
      "                               'big-list',\n",
      "                               'applications'],\n",
      "    '7 revs, 6 users 100%': [   'reference-request',\n",
      "                                'proof-writing',\n",
      "                                'book-recommendation',\n",
      "                                'article-writing',\n",
      "                                'publishing'],\n",
      "    '7 revs, 6 users 50%': [   'complex-analysis',\n",
      "                               'reference-request',\n",
      "                               'book-recommendation'],\n",
      "    '911': ['differential-geometry', 'lie-algebras', 'riemannian-geometry'],\n",
      "    \"A l'Maeaux\": ['general-topology'],\n",
      "    'A. Donda': ['closed-form', 'elementary-functions'],\n",
      "    'A.E': ['ordinary-differential-equations'],\n",
      "    'A.Stone': ['logic', 'meta-math', 'metalogic'],\n",
      "    'A6SE': ['limits'],\n",
      "    'Aaron': ['homological-algebra'],\n",
      "    'Abdabdi': ['calculus', 'soft-question', 'arithmetic'],\n",
      "    'Abel': ['real-analysis', 'general-topology', 'terminology'],\n",
      "    'Adam Freymiller': [   'probability',\n",
      "                           'statistics',\n",
      "                           'experimental-mathematics'],\n",
      "    'Agile_Eagle': ['geometry', 'physics', 'proof-explanation'],\n",
      "    'Ahmed S. Attaalla': [   'calculus',\n",
      "                             'multivariable-calculus',\n",
      "                             'optimization',\n",
      "                             'lagrange-multiplier'],\n",
      "    'Airdish': ['sequences-and-series', 'proof-writing'],\n",
      "    'Aldo Guzmán Sáenz': ['algebraic-topology'],\n",
      "    'Alex Petzke': ['abstract-algebra', 'group-theory'],\n",
      "    'Alex Shtof': ['functional-analysis', 'optimization', 'approximation'],\n",
      "    'Alexander Day': [   'linear-algebra',\n",
      "                         'matrices',\n",
      "                         'determinant',\n",
      "                         'numerical-linear-algebra'],\n",
      "    'Ali': ['number-theory'],\n",
      "    'Ali Caglayan': ['combinatorics', 'integer-partitions'],\n",
      "    'Ali Shadhar': [   'integration',\n",
      "                       'sequences-and-series',\n",
      "                       'binomial-coefficients',\n",
      "                       'closed-form',\n",
      "                       'harmonic-numbers'],\n",
      "    'Ali Taghavi': [   'calculus',\n",
      "                       'functions',\n",
      "                       'derivatives',\n",
      "                       'rational-numbers',\n",
      "                       'real-analysis',\n",
      "                       'integration',\n",
      "                       'matrices',\n",
      "                       'improper-integrals',\n",
      "                       'gaussian-integral'],\n",
      "    'Alice': ['arithmetic'],\n",
      "    'AlohaSine': ['elementary-set-theory', 'soft-question'],\n",
      "    'Aloizio Macedo': [   'integration',\n",
      "                          'analysis',\n",
      "                          'soft-question',\n",
      "                          'soft-question',\n",
      "                          'math-history'],\n",
      "    'Alon Gubkin': ['graphing-functions', 'triangles'],\n",
      "    'Alphonse': [   'algebra-precalculus',\n",
      "                    'contest-math',\n",
      "                    'rational-functions',\n",
      "                    'symmetric-functions'],\n",
      "    'AmFCG': ['geometry', 'circles'],\n",
      "    'Amad27': [   'calculus',\n",
      "                  'real-analysis',\n",
      "                  'analysis',\n",
      "                  'continuity',\n",
      "                  'calculus',\n",
      "                  'real-analysis',\n",
      "                  'integration',\n",
      "                  'measure-theory',\n",
      "                  'lebesgue-integral'],\n",
      "    'Anatoly': ['number-theory', 'summation', 'asymptotics'],\n",
      "    'Andrea Ferretti': ['computer-algebra-systems'],\n",
      "    'Andreas': ['geometry', 'inequality'],\n",
      "    'Andrei Kh': ['abstract-algebra', 'closed-form', 'elementary-functions'],\n",
      "    'Andrew': ['notation', 'math-history'],\n",
      "    'AndrewG': ['complex-analysis', 'physics', 'dynamical-systems'],\n",
      "    'Andrey S': ['complex-analysis', 'integration', 'residue-calculus'],\n",
      "    'Andrius Bartulis': [   'algorithms',\n",
      "                            'recursive-algorithms',\n",
      "                            'scoring-algorithm'],\n",
      "    'Angela Pretorius': ['3d', 'solid-geometry'],\n",
      "    'Anon': ['commutative-algebra', 'ring-theory'],\n",
      "    'Anon21': ['elementary-number-theory', 'notation'],\n",
      "    'AnovaVariance': ['trigonometry', 'rational-numbers'],\n",
      "    'Anthony Carapetis': ['differential-geometry', 'connections'],\n",
      "    'Anthony Peter': [   'general-topology',\n",
      "                         'measure-theory',\n",
      "                         'metric-spaces',\n",
      "                         'fractals'],\n",
      "    'Antonio Vargas': ['calculus', 'real-analysis', 'analysis'],\n",
      "    'Anubhav Mukherjee': ['general-topology', 'algebraic-topology', 'simplex'],\n",
      "    'Apurv': [   'calculus',\n",
      "                 'integration',\n",
      "                 'problem-solving',\n",
      "                 'indefinite-integrals'],\n",
      "    'Aqua': [   'combinatorics',\n",
      "                'discrete-mathematics',\n",
      "                'contest-math',\n",
      "                'pigeonhole-principle',\n",
      "                'discrete-optimization',\n",
      "                'inequality',\n",
      "                'polynomials',\n",
      "                'optimization',\n",
      "                'nonlinear-optimization'],\n",
      "    'Archr': ['functions', 'elementary-set-theory'],\n",
      "    'Argon': [   'sequences-and-series',\n",
      "                 'complex-analysis',\n",
      "                 'integration',\n",
      "                 'summation',\n",
      "                 'contour-integration'],\n",
      "    'Arrow': [   'algebraic-geometry',\n",
      "                 'sheaf-theory',\n",
      "                 'sheaf-cohomology',\n",
      "                 'coherent-sheaves',\n",
      "                 'quasicoherent-sheaves'],\n",
      "    'Arsenaler': ['commutative-algebra', 'modules', 'krull-dimension'],\n",
      "    'Arulx Z': ['algebra-precalculus', 'complex-numbers'],\n",
      "    'Aryabhata': ['puzzle', 'contest-math'],\n",
      "    'Aryaman Jal': [   'calculus',\n",
      "                       'real-analysis',\n",
      "                       'matrices',\n",
      "                       'analysis',\n",
      "                       'limits'],\n",
      "    'Asaf Shachar': [   'reference-request',\n",
      "                        'riemannian-geometry',\n",
      "                        'smooth-manifolds',\n",
      "                        'harmonic-functions',\n",
      "                        'abstract-algebra',\n",
      "                        'commutative-algebra',\n",
      "                        'category-theory',\n",
      "                        'tensor-products'],\n",
      "    'Aspirant': ['contest-math', 'big-list', 'advice'],\n",
      "    'Aspirin': ['general-topology'],\n",
      "    'Astyx': ['group-theory', 'finite-groups', 'semigroups', 'monoid'],\n",
      "    'Auslander': [   'geometry',\n",
      "                     'euclidean-geometry',\n",
      "                     'circles',\n",
      "                     'geometric-transformation'],\n",
      "    'Avala Bonbenbien': [   'complex-analysis',\n",
      "                            'analytic-geometry',\n",
      "                            'ideals',\n",
      "                            'several-complex-variables'],\n",
      "    'B. S. Thomson': ['real-analysis', 'measure-theory', 'set-theory'],\n",
      "    'B. de Morais': [   'real-analysis',\n",
      "                        'convergence-divergence',\n",
      "                        'continued-fractions'],\n",
      "    'BBSysDyn': ['analysis', 'functional-analysis', 'cauchy-sequences'],\n",
      "    'BCLC': [   'real-analysis',\n",
      "                'probability-theory',\n",
      "                'measure-theory',\n",
      "                'constants'],\n",
      "    'Baby Dragon': [   'elementary-set-theory',\n",
      "                       'reference-request',\n",
      "                       'education',\n",
      "                       'book-recommendation'],\n",
      "    'Badshah': ['summation'],\n",
      "    'Bartek': [   'probability',\n",
      "                  'probability-theory',\n",
      "                  'probability-distributions',\n",
      "                  'brownian-motion'],\n",
      "    'Batarang': ['geometry', 'combinatorics', 'puzzle'],\n",
      "    'Ben Blum-Smith': [   'linear-algebra',\n",
      "                          'group-theory',\n",
      "                          'algebraic-geometry',\n",
      "                          'lie-groups'],\n",
      "    'Beni Bogosel': ['linear-algebra', 'matrices'],\n",
      "    'Benjamin': ['elementary-number-theory', 'math-history', 'magic-square'],\n",
      "    'Benno': ['fourier-series'],\n",
      "    'Bernardo Recamán Santos': ['arithmetic'],\n",
      "    'BigOh': ['real-analysis', 'limits', 'continuity'],\n",
      "    'Billy': ['algebraic-geometry', 'toric-geometry'],\n",
      "    'Billy Rubina': [   'abstract-algebra',\n",
      "                        'math-history',\n",
      "                        'binomial-coefficients',\n",
      "                        'factorial'],\n",
      "    'BioCoder': ['general-topology', 'convex-analysis'],\n",
      "    'BoB': ['convex-optimization', 'convex-analysis'],\n",
      "    'Bob brant': ['differential-geometry'],\n",
      "    'Bonanza': ['general-topology', 'algebraic-topology'],\n",
      "    'Brenin': ['algebraic-geometry', 'moduli-space'],\n",
      "    'Brett Cassette': ['geometry'],\n",
      "    'Brian Rushton': ['optimization', 'applications'],\n",
      "    'Brodrick': ['linear-algebra'],\n",
      "    'BurntPi': ['statistics'],\n",
      "    'C_M': ['abstract-algebra', 'ring-theory'],\n",
      "    'Calteran': ['spherical-coordinates'],\n",
      "    'Calvin Lin': ['elementary-number-theory', 'perfect-powers'],\n",
      "    'Cameron Buie': [   'general-topology',\n",
      "                        'reference-request',\n",
      "                        'axiom-of-choice',\n",
      "                        'alternative-proof',\n",
      "                        'separation-axioms',\n",
      "                        'logic',\n",
      "                        'model-theory',\n",
      "                        'real-numbers',\n",
      "                        'axioms'],\n",
      "    'Canis Lupus': [   'abstract-algebra',\n",
      "                       'group-theory',\n",
      "                       'proof-verification',\n",
      "                       'abelian-groups',\n",
      "                       'rational-numbers'],\n",
      "    'CaptainCool': ['triangles', '3d'],\n",
      "    'CaptainObvious': ['probability'],\n",
      "    'Carl': ['algebraic-topology'],\n",
      "    'Casebash': ['probability-theory'],\n",
      "    'Cataline': ['sequences-and-series', 'prime-numbers'],\n",
      "    'Censi LI': [   'general-topology',\n",
      "                    'algebraic-topology',\n",
      "                    'category-theory',\n",
      "                    'universal-property',\n",
      "                    'adjoint-functors',\n",
      "                    'category-theory',\n",
      "                    'exact-sequence',\n",
      "                    'abelian-categories'],\n",
      "    'Chao': ['calculus', 'analysis'],\n",
      "    'Charles': [   'reference-request',\n",
      "                   'finite-groups',\n",
      "                   'galois-theory',\n",
      "                   'math-history',\n",
      "                   'solvable-groups'],\n",
      "    'Charlie Parker': [   'derivatives',\n",
      "                          'partial-derivative',\n",
      "                          'proof-verification',\n",
      "                          'logic',\n",
      "                          'induction',\n",
      "                          'proof-explanation'],\n",
      "    'Chilote': ['general-topology', 'algebraic-topology', 'homotopy-theory'],\n",
      "    'Chris Card': ['geometry', 'pi'],\n",
      "    'Chris Newman': ['prime-numbers', 'terminology'],\n",
      "    'Chris Pratt': ['education', 'learning'],\n",
      "    'Christmas Bunny': [   'calculus',\n",
      "                           'real-analysis',\n",
      "                           'inequality',\n",
      "                           'definite-integrals',\n",
      "                           'functional-inequalities'],\n",
      "    'Christopher Felton': ['abstract-algebra', 'quaternions'],\n",
      "    'Chuck': [   'abstract-algebra',\n",
      "                 'group-theory',\n",
      "                 'general-topology',\n",
      "                 'topological-groups'],\n",
      "    'Clayton': [   'sequences-and-series',\n",
      "                   'limits',\n",
      "                   'convergence-divergence',\n",
      "                   'radicals',\n",
      "                   'integration',\n",
      "                   'complex-analysis',\n",
      "                   'power-series',\n",
      "                   'improper-integrals'],\n",
      "    'Cody': ['sequences-and-series', 'contour-integration', 'residue-calculus'],\n",
      "    'CodyBugstein': [   'functions',\n",
      "                        'optimization',\n",
      "                        'graphing-functions',\n",
      "                        'machine-learning',\n",
      "                        'quadratic-programming'],\n",
      "    'Compactification': ['general-topology', 'compactness'],\n",
      "    'Connor': ['combinatorics', 'dice'],\n",
      "    'Cookie': ['summation', 'arithmetic'],\n",
      "    'Creep Anonymous': ['limits', 'summation', 'exponential-function'],\n",
      "    'Cu7l4ss': ['linear-algebra', 'vector-spaces'],\n",
      "    'DLManiac': [   'combinatorics',\n",
      "                    'probability-theory',\n",
      "                    'graph-theory',\n",
      "                    'discrete-mathematics'],\n",
      "    'Dal': [   'real-analysis',\n",
      "               'reference-request',\n",
      "               'soft-question',\n",
      "               'big-list',\n",
      "               'book-recommendation'],\n",
      "    'Dan M. Katz': ['soft-question', 'math-history', 'philosophy'],\n",
      "    'Daniel Li': ['calculus', 'algebra-precalculus', 'approximation'],\n",
      "    'Daniel McLaury': [   'algebraic-geometry',\n",
      "                          'schemes',\n",
      "                          'calculus',\n",
      "                          'soft-question',\n",
      "                          'popular-math'],\n",
      "    'Daniele Morelli': [   'group-theory',\n",
      "                           'graph-theory',\n",
      "                           'algebraic-graph-theory'],\n",
      "    'Darrel Hoffman': ['combinatorics'],\n",
      "    'Dave': ['differential-geometry', 'differential-topology', 'morse-theory'],\n",
      "    'David C. Ullrich': ['calculus', 'real-analysis'],\n",
      "    'David Cheng': [   'real-analysis',\n",
      "                       'linear-algebra',\n",
      "                       'functional-analysis',\n",
      "                       'partial-differential-equations'],\n",
      "    'David Holden': [   'trigonometry',\n",
      "                        'convergence-divergence',\n",
      "                        'dynamical-systems'],\n",
      "    'David J.': ['combinatorics', 'combinations'],\n",
      "    'Davynch0': ['calculus', 'integration'],\n",
      "    'Dedalus': ['algebraic-geometry'],\n",
      "    'Deeves': ['integration'],\n",
      "    'Deniz Tuna Yalçın': [   'real-analysis',\n",
      "                             'algebra-precalculus',\n",
      "                             'inequality',\n",
      "                             'contest-math',\n",
      "                             'cauchy-schwarz-inequality'],\n",
      "    'Dennis': [   'model-theory',\n",
      "                  'philosophy',\n",
      "                  'foundations',\n",
      "                  'nonstandard-models'],\n",
      "    'Descoladan': ['algebra-precalculus'],\n",
      "    'Did': [   'sequences-and-series',\n",
      "               'probability-theory',\n",
      "               'probability-theory',\n",
      "               'statistics',\n",
      "               'fourier-analysis',\n",
      "               'normal-distribution',\n",
      "               'characteristic-functions'],\n",
      "    'Diego': ['functions', 'approximation'],\n",
      "    'DiegoMath': ['riemannian-geometry', 'tensors', 'hodge-theory'],\n",
      "    'Diesirae92': [   'calculus',\n",
      "                      'integration',\n",
      "                      'complex-analysis',\n",
      "                      'definite-integrals'],\n",
      "    'Dinesh': ['algebraic-topology', 'fundamental-groups'],\n",
      "    'Dirk': ['calculus', 'integration'],\n",
      "    'Doktor J': ['graph-theory', 'coloring', 'planar-graphs'],\n",
      "    'Dominique R.F.': ['measure-theory', 'lebesgue-measure'],\n",
      "    'Dormire': ['probability-theory', 'brownian-motion', 'martingales'],\n",
      "    'Dov': ['geometry', 'trigonometry', 'fake-proofs'],\n",
      "    'Drew': ['commutative-algebra', 'homological-algebra'],\n",
      "    'Dubious': ['sheaf-theory', 'elementary-set-theory', 'induction'],\n",
      "    'Dude156': ['algebra-precalculus', 'arithmetic'],\n",
      "    'Džuris': [   'reference-request',\n",
      "                  'partial-differential-equations',\n",
      "                  'vector-analysis',\n",
      "                  'mathematical-physics',\n",
      "                  'fluid-dynamics'],\n",
      "    'E.H.E': [   'elementary-number-theory',\n",
      "                 'ordinary-differential-equations',\n",
      "                 'exponential-function'],\n",
      "    'Ed Pegg': [   'geometry',\n",
      "                   'recreational-mathematics',\n",
      "                   'polyhedra',\n",
      "                   'solid-geometry'],\n",
      "    'Edward Hughes': [   'abstract-algebra',\n",
      "                         'group-theory',\n",
      "                         'representation-theory',\n",
      "                         'lie-groups',\n",
      "                         'lie-algebras'],\n",
      "    'Eli Rose': ['calculus', 'fibonacci-numbers', 'discrete-calculus'],\n",
      "    'Eli4ph': ['linear-algebra', 'math-history', 'random-matrices'],\n",
      "    'Elias Costa': ['measure-theory', 'probability-theory', 'soft-question'],\n",
      "    'Elias Strehle': [   'matrices',\n",
      "                         'quadratic-forms',\n",
      "                         'positive-definite',\n",
      "                         'symmetric-matrices'],\n",
      "    'Emilio Ferrucci': [   'real-analysis',\n",
      "                           'logic',\n",
      "                           'measure-theory',\n",
      "                           'set-theory',\n",
      "                           'axiom-of-choice'],\n",
      "    'Esteban Crespi': [   'number-theory',\n",
      "                          'probability-theory',\n",
      "                          'prime-numbers',\n",
      "                          'poisson-distribution',\n",
      "                          'primitive-roots'],\n",
      "    'Eustass': ['real-analysis', 'general-topology'],\n",
      "    'F.G.': ['complex-analysis', 'entire-functions'],\n",
      "    'FabianCook': ['algorithms', 'coordinate-systems'],\n",
      "    'Faraz Masroor': ['real-analysis', 'integration', 'improper-integrals'],\n",
      "    'Farewell': ['elementary-number-theory', 'prime-numbers'],\n",
      "    'Fixee': ['probability', 'dice'],\n",
      "    'Flaxred': ['soft-question', 'learning'],\n",
      "    'Fmonkey2001': ['discrete-mathematics', 'pigeonhole-principle'],\n",
      "    'Frank Vel': ['terminology'],\n",
      "    'Franklin Pezzuti Dyer': [   'definite-integrals',\n",
      "                                 'soft-question',\n",
      "                                 'irrational-numbers',\n",
      "                                 'transcendental-numbers',\n",
      "                                 'inverse',\n",
      "                                 'functional-equations',\n",
      "                                 'inverse-function',\n",
      "                                 'continuity',\n",
      "                                 'recreational-mathematics',\n",
      "                                 'functional-equations'],\n",
      "    'Friend-Bob': [   'abstract-algebra',\n",
      "                      'group-theory',\n",
      "                      'ring-theory',\n",
      "                      'cardinals'],\n",
      "    'G Tony Jacobs': [   'number-theory',\n",
      "                         'elementary-number-theory',\n",
      "                         'polynomials',\n",
      "                         'taylor-expansion'],\n",
      "    'GDumphart': [   'random-variables',\n",
      "                     'projective-geometry',\n",
      "                     'random',\n",
      "                     'random-functions'],\n",
      "    'GMB': [   'abstract-algebra',\n",
      "               'extension-field',\n",
      "               'ordered-fields',\n",
      "               'general-topology',\n",
      "               'connectedness'],\n",
      "    'Garet Claborn': [   'soft-question',\n",
      "                         'functions',\n",
      "                         'notation',\n",
      "                         'online-resources'],\n",
      "    'George Hoqqanen': [   'graph-theory',\n",
      "                           'coloring',\n",
      "                           'combinatorial-game-theory'],\n",
      "    'George Powell': ['soft-question', 'complex-numbers'],\n",
      "    'Giuseppe': ['limits', 'summation'],\n",
      "    'Gizem': ['probability'],\n",
      "    'Glen Wheeler': [   'differential-geometry',\n",
      "                        'multivariable-calculus',\n",
      "                        'riemannian-geometry'],\n",
      "    'GniruT': [   'abstract-algebra',\n",
      "                  'group-theory',\n",
      "                  'soft-question',\n",
      "                  'group-isomorphism'],\n",
      "    'Gobi': [   'abstract-algebra',\n",
      "                'field-theory',\n",
      "                'general-topology',\n",
      "                'commutative-algebra'],\n",
      "    'GolDDranks': ['algebraic-number-theory', 'roots'],\n",
      "    'Golbez': ['probability', 'graph-theory', 'stochastic-processes'],\n",
      "    'Gordon Gustafson': ['complex-numbers', 'radicals'],\n",
      "    'Graviton': ['convergence-divergence', 'summation', 'tetration'],\n",
      "    'Grigory M': ['combinatorics'],\n",
      "    'Grim Reaper': [   'probability',\n",
      "                       'probability-theory',\n",
      "                       'stochastic-processes',\n",
      "                       'stochastic-integrals'],\n",
      "    'Guest': [   'real-analysis',\n",
      "                 'functional-analysis',\n",
      "                 'limits',\n",
      "                 'measure-theory',\n",
      "                 'proof-verification'],\n",
      "    'Guillermo': ['complex-analysis', 'polynomials', 'power-series'],\n",
      "    'Gunnar Þór Magnússon': [   'algebraic-geometry',\n",
      "                                'complex-geometry',\n",
      "                                'kahler-manifolds'],\n",
      "    'Haikal Yeo': ['elementary-number-theory', 'diophantine-equations'],\n",
      "    'Hal': [   'calculus',\n",
      "               'algebra-precalculus',\n",
      "               'analysis',\n",
      "               'limits',\n",
      "               'applications'],\n",
      "    'Hamurabi': [   'measure-theory',\n",
      "                    'lie-groups',\n",
      "                    'ergodic-theory',\n",
      "                    'group-actions'],\n",
      "    'HankY': ['integration', 'definite-integrals'],\n",
      "    'Harmonic Sun': [   'real-analysis',\n",
      "                        'calculus',\n",
      "                        'sequences-and-series',\n",
      "                        'limits'],\n",
      "    'Harry Macpherson': ['complex-analysis'],\n",
      "    'Haskell Curry': [   'education',\n",
      "                         'learning',\n",
      "                         'online-resources',\n",
      "                         'mathematicians'],\n",
      "    'Hawii': [   'probability',\n",
      "                 'probability-theory',\n",
      "                 'convergence-divergence',\n",
      "                 'random-variables',\n",
      "                 'weak-convergence'],\n",
      "    'Heisenberg': [   'numerical-methods',\n",
      "                      'floating-point',\n",
      "                      'catastrophic-cancellation',\n",
      "                      'real-analysis',\n",
      "                      'sequences-and-series',\n",
      "                      'analysis'],\n",
      "    'Heitor Fontana': ['algebraic-geometry'],\n",
      "    'Henry': ['linear-algebra', 'matrices', 'norm', 'matrix-norms'],\n",
      "    'Henry Durham': [   'algebra-precalculus',\n",
      "                        'elementary-number-theory',\n",
      "                        'polynomials',\n",
      "                        'diophantine-equations'],\n",
      "    'Highrule': ['matrices', 'algorithms', 'matrix-decomposition'],\n",
      "    'Hosein Rahnama': ['analysis', 'soft-question'],\n",
      "    'Hrit Roy': ['group-isomorphism', 'quotient-group'],\n",
      "    'Hurley': [   'reference-request',\n",
      "                  'inequality',\n",
      "                  'integration',\n",
      "                  'banach-spaces'],\n",
      "    'Huy': ['integration', 'analysis', 'definite-integrals'],\n",
      "    'Héctor van den Boorn': [   'elementary-number-theory',\n",
      "                                'diophantine-equations',\n",
      "                                'square-numbers'],\n",
      "    'IBS': ['abstract-algebra', 'field-theory', 'galois-theory'],\n",
      "    'Iain': ['probability', 'recreational-mathematics'],\n",
      "    'Ian Miller': ['algebra-precalculus', 'definition', 'quadratics'],\n",
      "    'IanF1': ['geometry', 'puzzle', 'polyhedra'],\n",
      "    'Idele': ['calculus', 'ordinary-differential-equations'],\n",
      "    'Ido4848': ['soft-question', 'education', 'big-picture'],\n",
      "    'Ilya': [   'soft-question',\n",
      "                'category-theory',\n",
      "                'intuition',\n",
      "                'meta-math',\n",
      "                'real-analysis',\n",
      "                'optimization'],\n",
      "    'Indrajit Ghosh': ['cardinals'],\n",
      "    'IndyZa': [   'real-analysis',\n",
      "                  'limits',\n",
      "                  'trigonometry',\n",
      "                  'limits-without-lhopital'],\n",
      "    'Integral': ['tensors', 'tensor-rank', 'tensor-decomposition'],\n",
      "    'Is Ne': ['number-theory', 'prime-numbers'],\n",
      "    'Ishan': [   'elementary-number-theory',\n",
      "                 'inequality',\n",
      "                 'contest-math',\n",
      "                 'factorial',\n",
      "                 'ceiling-and-floor-functions'],\n",
      "    'Ishan Banerjee': ['calculus', 'integration', 'improper-integrals'],\n",
      "    'Iulian Oleniuc': ['prime-numbers'],\n",
      "    'Ius Klesar': ['calculus', 'reference-request'],\n",
      "    'JFA': ['number-systems', 'popular-math'],\n",
      "    'Jack': ['real-analysis', 'convex-analysis'],\n",
      "    \"Jack D'Aurizio\": [   'sequences-and-series',\n",
      "                          'special-functions',\n",
      "                          'harmonic-numbers',\n",
      "                          'digamma-function'],\n",
      "    'JackOfAll': ['calculus'],\n",
      "    'Jackson Hart': ['integration', 'multivariable-calculus'],\n",
      "    'Jamal Farokhi': ['number-theory', 'goldbachs-conjecture'],\n",
      "    'James': [   'combinatorics',\n",
      "                 'binomial-coefficients',\n",
      "                 'combinatorial-proofs',\n",
      "                 'calculus',\n",
      "                 'sequences-and-series'],\n",
      "    'Jan': ['functional-analysis', 'banach-spaces'],\n",
      "    'Jantomedes': ['geometry', 'conic-sections'],\n",
      "    'Jared': ['recreational-mathematics', 'puzzle', 'tiling'],\n",
      "    'Jay': ['definition', 'exponential-function'],\n",
      "    'Jean-François': ['algebraic-topology', 'soft-question', 'intuition'],\n",
      "    'Jean-François Gagnon': [   'probability',\n",
      "                                'random-variables',\n",
      "                                'stopping-times'],\n",
      "    'Jeff': ['nonlinear-system'],\n",
      "    'Jeff Faraci': [   'calculus',\n",
      "                       'real-analysis',\n",
      "                       'integration',\n",
      "                       'complex-analysis',\n",
      "                       'definite-integrals'],\n",
      "    'Jenna King': ['calculus', 'limits', 'epsilon-delta'],\n",
      "    'Jeromy Anglim': ['linear-algebra', 'matrices', 'exponentiation'],\n",
      "    'Jesse Madnick': [   'differential-geometry',\n",
      "                         'algebraic-topology',\n",
      "                         'differential-topology'],\n",
      "    'Jie Fan': ['calculus', 'real-analysis'],\n",
      "    'Jim': ['probability'],\n",
      "    'Jim_CS': [   'calculus',\n",
      "                  'integration',\n",
      "                  'multivariable-calculus',\n",
      "                  'intuition',\n",
      "                  'line-integrals'],\n",
      "    'Jjm': ['soft-question', 'self-learning', 'big-list', 'education'],\n",
      "    'JoS': ['algebraic-geometry', 'moduli-space', 'picard-scheme'],\n",
      "    'Joachim': [   'algebraic-geometry',\n",
      "                   'riemann-surfaces',\n",
      "                   'schemes',\n",
      "                   'complex-geometry'],\n",
      "    'Joel': [   'algebra-precalculus',\n",
      "                'analysis',\n",
      "                'polynomials',\n",
      "                'binomial-coefficients',\n",
      "                'symmetric-polynomials'],\n",
      "    'John Barber': ['limits'],\n",
      "    'John Doe': [   'abstract-algebra',\n",
      "                    'group-theory',\n",
      "                    'definition',\n",
      "                    'free-groups',\n",
      "                    'discrete-mathematics',\n",
      "                    'summation',\n",
      "                    'binomial-coefficients',\n",
      "                    'binomial-theorem'],\n",
      "    'John Kennedy': ['inequality', 'arithmetic', 'absolute-value'],\n",
      "    'John Marty': ['elementary-number-theory'],\n",
      "    'John Ryan': ['number-theory', 'diophantine-equations'],\n",
      "    'John Smith': [   'linear-algebra',\n",
      "                      'combinatorics',\n",
      "                      'discrete-mathematics',\n",
      "                      'recreational-mathematics',\n",
      "                      'abstract-algebra'],\n",
      "    'Jon Bannon': ['soft-question', 'education'],\n",
      "    'Jonathan Beardsley': [   'reference-request',\n",
      "                              'algebraic-number-theory',\n",
      "                              'homotopy-theory'],\n",
      "    'Jonathan Gleason': [   'abstract-algebra',\n",
      "                            'category-theory',\n",
      "                            'modules',\n",
      "                            'homological-algebra',\n",
      "                            'abelian-categories'],\n",
      "    'Joonas Ilmavirta': [   'calculus',\n",
      "                            'analysis',\n",
      "                            'ordinary-differential-equations',\n",
      "                            'asymptotics'],\n",
      "    'Jose Lopez Garcia': ['linear-algebra', 'matrices', 'inverse'],\n",
      "    \"Joseph O'Rourke\": [   'geometry',\n",
      "                           'integer-partitions',\n",
      "                           'sequences-and-series'],\n",
      "    'Josh B.': ['recreational-mathematics', 'packing-problem'],\n",
      "    'Joshua Seaton': [   'number-theory',\n",
      "                         'analytic-number-theory',\n",
      "                         'equidistribution',\n",
      "                         'exponential-sum'],\n",
      "    'Julian': ['real-analysis', 'functional-analysis'],\n",
      "    'Julian Rosen': ['soft-question', 'complex-numbers'],\n",
      "    'Julien Clancy': ['algebraic-topology', 'differential-topology'],\n",
      "    'Julius': ['linear-algebra', 'group-theory', 'geometry', 'lie-groups'],\n",
      "    'Justin Campbell': [   'algebraic-geometry',\n",
      "                           'ordinary-differential-equations'],\n",
      "    'K Split X': ['notation'],\n",
      "    'KCd': ['number-theory', 'math-history'],\n",
      "    'KKZiomek': ['cardinals', 'infinity', 'ordinals'],\n",
      "    'Karna': [   'complex-analysis',\n",
      "                 'number-theory',\n",
      "                 'prime-numbers',\n",
      "                 'analytic-number-theory',\n",
      "                 'riemann-zeta'],\n",
      "    'Karo': [   'linear-algebra',\n",
      "                'matrices',\n",
      "                'permutations',\n",
      "                'skew-symmetric-matrices'],\n",
      "    'Kc2': ['number-theory', 'sums-of-squares'],\n",
      "    'Kees Til': ['integration', 'residue-calculus'],\n",
      "    'Keith': ['linear-algebra', 'analysis'],\n",
      "    'Kemono Chen': [   'integration',\n",
      "                       'definite-integrals',\n",
      "                       'elliptic-integrals',\n",
      "                       'number-theory',\n",
      "                       'limsup-and-liminf',\n",
      "                       'pell-type-equations',\n",
      "                       'fractional-part'],\n",
      "    'Kerry': ['algebraic-topology'],\n",
      "    'Kerzy Zero': ['limits', 'logarithms'],\n",
      "    'Keshav Srinivasan': [   'measure-theory',\n",
      "                             'set-theory',\n",
      "                             'cardinals',\n",
      "                             'descriptive-set-theory'],\n",
      "    'Kevin Arlin': ['algebraic-topology', 'homotopy-theory'],\n",
      "    'Kieren MacMillan': [   'elementary-number-theory',\n",
      "                            'diophantine-equations',\n",
      "                            'systems-of-equations',\n",
      "                            'pell-type-equations'],\n",
      "    'Kim Fierens': ['real-analysis', 'inequality', 'real-numbers'],\n",
      "    'Kip': ['calculus', 'integration'],\n",
      "    'Kiên Phùng Hữu': [   'geometry',\n",
      "                          'euclidean-geometry',\n",
      "                          'circles',\n",
      "                          'locus',\n",
      "                          'geometric-transformation'],\n",
      "    'Korgan Rivera': ['soft-question', 'self-learning', 'philosophy'],\n",
      "    'KotelKanim': ['homological-algebra', 'derived-functors'],\n",
      "    'Kou': ['number-theory', 'sequences-and-series', 'irrational-numbers'],\n",
      "    'Kumarta': [   'calculus',\n",
      "                   'integration',\n",
      "                   'complex-analysis',\n",
      "                   'functional-analysis'],\n",
      "    'LJR': ['abstract-algebra', 'group-theory'],\n",
      "    'LOIS': ['geometry', 'optimization', 'quadratics', 'maxima-minima'],\n",
      "    'Laid E. Luck': [   'real-analysis',\n",
      "                        'soft-question',\n",
      "                        'real-numbers',\n",
      "                        'motivation'],\n",
      "    'Laila Podlesny': [   'calculus',\n",
      "                          'integration',\n",
      "                          'definite-integrals',\n",
      "                          'logarithms',\n",
      "                          'closed-form'],\n",
      "    'Lalaloopsy': ['real-analysis', 'algebra-precalculus', 'number-theory'],\n",
      "    'Landon Carter': [   'elementary-number-theory',\n",
      "                         'recreational-mathematics',\n",
      "                         'decimal-expansion'],\n",
      "    'Larara': [   'sequences-and-series',\n",
      "                  'elementary-number-theory',\n",
      "                  'reference-request',\n",
      "                  'prime-numbers',\n",
      "                  'rationality-testing'],\n",
      "    'Larry Freeman': ['number-theory', 'prime-numbers', 'primorial'],\n",
      "    'Larry Wang': ['sequences-and-series', 'complex-analysis'],\n",
      "    'LateralFractal': ['propositional-calculus', 'regular-language'],\n",
      "    'Laura': ['logic', 'soft-question', 'linear-logic'],\n",
      "    'Lays': ['calculus', 'sequences-and-series'],\n",
      "    'Lazar Ljubenović': ['real-analysis', 'trigonometry', 'periodic-functions'],\n",
      "    'Learner': [   'algebra-precalculus',\n",
      "                   'soft-question',\n",
      "                   'substitution',\n",
      "                   'cubic-equations',\n",
      "                   'combinatorics',\n",
      "                   'matrices'],\n",
      "    'Learnmore': ['linear-algebra', 'matrices'],\n",
      "    'Lee David Chung Lin': [   'real-analysis',\n",
      "                               'integration',\n",
      "                               'summation',\n",
      "                               'taylor-expansion',\n",
      "                               'visualization'],\n",
      "    'Lisa': ['general-topology', 'group-theory', 'principal-bundles'],\n",
      "    'Listing': ['real-analysis', 'inequality', 'convex-analysis'],\n",
      "    'Liu Jin Tsai': [   'calculus',\n",
      "                        'integration',\n",
      "                        'definite-integrals',\n",
      "                        'logarithms',\n",
      "                        'closed-form'],\n",
      "    'Lord Soth': ['fluid-dynamics', 'polygons'],\n",
      "    'Luftbahnfahrer': [   'group-theory',\n",
      "                          'finite-groups',\n",
      "                          'modular-arithmetic',\n",
      "                          'direct-product'],\n",
      "    'Luke': ['reference-request', 'logic'],\n",
      "    'Luke Collins': ['geometry', 'foundations'],\n",
      "    'Luqing Ye': ['set-theory', 'cardinals'],\n",
      "    'Luskentyrian': ['normal-distribution', 'laplace-transform'],\n",
      "    'Lyndon White': ['probability', 'intuition'],\n",
      "    'M. Barosan': ['integration', 'trigonometry', 'definite-integrals'],\n",
      "    'M.R. Yegan': ['sequences-and-series'],\n",
      "    'MCT': ['number-theory', 'divisibility'],\n",
      "    'MJD': [   'number-theory',\n",
      "               'geometry',\n",
      "               'reference-request',\n",
      "               'notation',\n",
      "               'polyhedra',\n",
      "               'coxeter-groups',\n",
      "               'geometry',\n",
      "               'metric-spaces',\n",
      "               'geometry'],\n",
      "    'MR_BD': ['number-theory', 'induction'],\n",
      "    'MVCylon': ['soft-question', 'philosophy'],\n",
      "    'Machiaweliczny': ['linear-algebra', 'matrices', 'exponentiation'],\n",
      "    'Mainkit': ['functional-analysis', 'operator-theory', 'spectral-theory'],\n",
      "    'Majid Fekri': ['riemann-zeta'],\n",
      "    'Makoto Kato': ['algebraic-geometry'],\n",
      "    'Maman': ['elementary-number-theory', 'prime-numbers', 'induction'],\n",
      "    'Manos': ['algebraic-geometry', 'commutative-algebra'],\n",
      "    'Marcus M': ['combinatorics', 'binomial-coefficients'],\n",
      "    'Mario Carneiro': [   'real-analysis',\n",
      "                          'convergence-divergence',\n",
      "                          'riemann-zeta'],\n",
      "    'Marios Gretsas': [   'calculus',\n",
      "                          'real-analysis',\n",
      "                          'limits',\n",
      "                          'derivatives',\n",
      "                          'proof-verification'],\n",
      "    'Mark Anderson': ['calculus', 'integration', 'signal-processing'],\n",
      "    'Marso': [   'real-analysis',\n",
      "                 'measure-theory',\n",
      "                 'compactness',\n",
      "                 'geometric-measure-theory',\n",
      "                 'complex-analysis',\n",
      "                 'complex-analysis',\n",
      "                 'riemann-surfaces'],\n",
      "    'Martin Thoma': ['abstract-algebra', 'terminology', 'definition'],\n",
      "    'Masirius': ['matrices', 'puzzle'],\n",
      "    'Mason': ['real-analysis', 'field-theory', 'transcendental-numbers'],\n",
      "    'Masroor': ['elementary-set-theory'],\n",
      "    'Math Buster': ['summation', 'closed-form'],\n",
      "    'Math Student': [   'geometry',\n",
      "                        'optimization',\n",
      "                        'recreational-mathematics',\n",
      "                        'problem-solving'],\n",
      "    'MathInferno': ['calculus', 'binomial-theorem', 'limits-without-lhopital'],\n",
      "    'MathIsNice1729': ['combinatorics', 'discrete-mathematics'],\n",
      "    'MathematicalOrchid': ['group-theory', 'semigroups'],\n",
      "    'Mathematics': [   'calculus',\n",
      "                       'real-analysis',\n",
      "                       'analysis',\n",
      "                       'derivatives',\n",
      "                       'continuity',\n",
      "                       'linear-algebra',\n",
      "                       'matrices',\n",
      "                       'matrix-equations'],\n",
      "    'Matheus Manzatto': [   'ordinary-differential-equations',\n",
      "                            'algebraic-topology',\n",
      "                            'differential-topology',\n",
      "                            'dynamical-systems',\n",
      "                            'homotopy-theory'],\n",
      "    'Mathphile': ['elementary-number-theory', 'prime-numbers', 'conjectures'],\n",
      "    'Mats Granvik': [   'number-theory',\n",
      "                        'sequences-and-series',\n",
      "                        'matrices',\n",
      "                        'polynomials',\n",
      "                        'prime-numbers'],\n",
      "    'Matt': ['algebraic-topology', 'probability'],\n",
      "    'Max Muller': [   'analytic-number-theory',\n",
      "                      'riemann-zeta',\n",
      "                      'divergent-series',\n",
      "                      'regularization'],\n",
      "    'Maximilian Janisch': [   'combinatorics',\n",
      "                              'number-theory',\n",
      "                              'circles',\n",
      "                              'diophantine-equations'],\n",
      "    'Megadeth': ['real-analysis', 'derivatives'],\n",
      "    'Merry': ['linear-algebra', 'matrices'],\n",
      "    'Michael Albanese': [   'reference-request',\n",
      "                            'soft-question',\n",
      "                            'proof-writing',\n",
      "                            'education'],\n",
      "    'Michael Hardy': ['voting-theory'],\n",
      "    'Michal Dvořák': [   'ordinary-differential-equations',\n",
      "                         'functions',\n",
      "                         'functional-equations'],\n",
      "    'MightyPork': ['algebra-precalculus', 'fake-proofs'],\n",
      "    'Miguel Mora Luna': ['general-topology', 'metric-spaces'],\n",
      "    'Miguel.hs': [   'combinatorics',\n",
      "                     'inequality',\n",
      "                     'logarithms',\n",
      "                     'combinatorial-proofs'],\n",
      "    'Miha Habič': ['measure-theory'],\n",
      "    'Mika H.': ['complex-analysis', 'special-functions', 'gamma-function'],\n",
      "    'Mike': [   'elementary-number-theory',\n",
      "                'modular-arithmetic',\n",
      "                'diophantine-equations',\n",
      "                'euclidean-algorithm',\n",
      "                'linear-diophantine-equations',\n",
      "                'number-theory',\n",
      "                'elementary-number-theory',\n",
      "                'contest-math',\n",
      "                'vieta-jumping'],\n",
      "    'Mike Earnest': [   'combinatorics',\n",
      "                        'ramsey-theory',\n",
      "                        'extremal-combinatorics'],\n",
      "    'Mike F': ['general-topology'],\n",
      "    'Mike Miller': [   'calculus',\n",
      "                       'integration',\n",
      "                       'soft-question',\n",
      "                       'book-recommendation'],\n",
      "    'Mikko Korhonen': ['group-theory', 'finite-groups', 'automorphism-group'],\n",
      "    'Milo Brandt': ['calculus', 'differential-geometry', 'differential-forms'],\n",
      "    'Misaj': ['functional-analysis', 'measure-theory'],\n",
      "    'Monolite': ['ordinary-differential-equations', 'systems-of-equations'],\n",
      "    'Monty': [   'stochastic-processes',\n",
      "                 'stochastic-calculus',\n",
      "                 'brownian-motion',\n",
      "                 'stochastic-differential-equations'],\n",
      "    'Mr Croutini': ['real-analysis', 'functions', 'continuity'],\n",
      "    'MrAP': ['angle'],\n",
      "    'Mustafa Gokhan Benli': ['group-theory'],\n",
      "    'Mutated Penguin': ['abstract-algebra', 'group-theory'],\n",
      "    'MyCatsHat': ['probability', 'intuition', 'motivation'],\n",
      "    'Myth': ['real-analysis', 'general-topology', 'metric-spaces'],\n",
      "    'N3buchadnezzar': ['real-analysis', 'approximation'],\n",
      "    'NFDream': ['functional-analysis', 'measure-theory'],\n",
      "    'Nai': ['group-theory', 'proof-verification', 'cyclic-groups'],\n",
      "    'Nal': [   'algebraic-geometry',\n",
      "               'commutative-algebra',\n",
      "               'homological-algebra',\n",
      "               'tensor-products'],\n",
      "    'Nana': [   'group-theory',\n",
      "                'finitely-generated',\n",
      "                'combinatorial-group-theory'],\n",
      "    'Naren': [   'real-analysis',\n",
      "                 'sequences-and-series',\n",
      "                 'limits',\n",
      "                 'factorial',\n",
      "                 'gamma-function'],\n",
      "    'Nate Gallup': ['combinatorics', 'binomial-coefficients'],\n",
      "    'Nathan McKenzie': ['number-theory', 'analytic-number-theory'],\n",
      "    'Nathan Osman': [   'sequences-and-series',\n",
      "                        'discrete-mathematics',\n",
      "                        'summation'],\n",
      "    'Nathaniel': ['category-theory', 'monoidal-categories'],\n",
      "    'Neil Barton': ['set-theory', 'large-cardinals'],\n",
      "    'Nero': [   'calculus',\n",
      "                'real-analysis',\n",
      "                'definite-integrals',\n",
      "                'special-functions',\n",
      "                'error-function'],\n",
      "    'Neves': [   'sequences-and-series',\n",
      "                 'pi',\n",
      "                 'transcendental-numbers',\n",
      "                 'constants'],\n",
      "    'Newb': ['functions', 'trigonometry'],\n",
      "    'Nick': [   'reference-request',\n",
      "                'differential-geometry',\n",
      "                'kahler-manifolds',\n",
      "                'string-theory',\n",
      "                'complex-manifolds'],\n",
      "    'Nick Alger': ['geometry', 'analysis', 'convex-analysis'],\n",
      "    'Nick Heiner': ['linear-algebra'],\n",
      "    'Nick T': ['geometry'],\n",
      "    'Nicol': ['trigonometry', 'proof-verification'],\n",
      "    'Nicolas Raoul': ['probability-distributions'],\n",
      "    'Nienz': ['dynamical-systems', 'fractals', 'complex-dynamics'],\n",
      "    'Nikhil Ghosh': [   'combinatorics',\n",
      "                        'sequences-and-series',\n",
      "                        'binomial-coefficients'],\n",
      "    'Niki Di Giano': ['general-topology', 'order-topology'],\n",
      "    'Nikolaj-K': [   'propositional-calculus',\n",
      "                     'proof-theory',\n",
      "                     'lambda-calculus',\n",
      "                     'type-theory',\n",
      "                     'constructive-mathematics'],\n",
      "    'Nikolas Kuhn': ['modules', 'homological-algebra', 'derived-functors'],\n",
      "    'Ninja Boy': [   'number-theory',\n",
      "                     'elementary-number-theory',\n",
      "                     'reference-request'],\n",
      "    'NonNormal': [   'calculus',\n",
      "                     'integration',\n",
      "                     'statistics',\n",
      "                     'probability-distributions',\n",
      "                     'improper-integrals'],\n",
      "    'Norbert': ['functional-equations'],\n",
      "    'Ofir Attia': ['calculus', 'integration'],\n",
      "    'Oh hyung seok': ['general-topology', 'quotient-spaces', 'open-map'],\n",
      "    'Oldboy': ['discrete-mathematics', 'graph-theory'],\n",
      "    'Oleg567': [   'complex-analysis',\n",
      "                   'trigonometry',\n",
      "                   'complex-numbers',\n",
      "                   'summation'],\n",
      "    'Onkar Singh Gujral': [   'elementary-number-theory',\n",
      "                              'functions',\n",
      "                              'logic',\n",
      "                              'propositional-calculus'],\n",
      "    'Orat': ['group-theory', 'wreath-product'],\n",
      "    'Ovilia': ['rotations'],\n",
      "    'PJTraill': ['teichmueller-theory', 'abc-conjecture'],\n",
      "    'Paladin': [   'general-topology',\n",
      "                   'algebraic-topology',\n",
      "                   'topological-groups',\n",
      "                   'fundamental-groups'],\n",
      "    'Paramanand Singh': [   'calculus',\n",
      "                            'definite-integrals',\n",
      "                            'improper-integrals',\n",
      "                            'sequences-and-series',\n",
      "                            'pi'],\n",
      "    'Partha Sarker': [   'calculus',\n",
      "                         'integration',\n",
      "                         'trigonometry',\n",
      "                         'contest-math'],\n",
      "    'Pas gêné de poser une question': [   'calculus',\n",
      "                                          'inequality',\n",
      "                                          'power-series'],\n",
      "    'Patrick Da Silva': ['general-topology', 'algebraic-topology'],\n",
      "    'Paul': [   'abstract-algebra',\n",
      "                'group-theory',\n",
      "                'functions',\n",
      "                'examples-counterexamples',\n",
      "                'associativity'],\n",
      "    'Paulo': ['calculus', 'probability-limit-theorems'],\n",
      "    'Paweł Czopowik': ['elementary-set-theory'],\n",
      "    'Paz': ['calculus', 'improper-integrals'],\n",
      "    'Peaceful': [   'matrices',\n",
      "                    'graph-theory',\n",
      "                    'eigenvalues-eigenvectors',\n",
      "                    'spectral-graph-theory',\n",
      "                    'graph-laplacian'],\n",
      "    'Pedro': ['algebraic-geometry', 'reference-request', 'big-list'],\n",
      "    'Pedro Tamaroff': ['combinatorics', 'integer-partitions'],\n",
      "    'PeteUK': ['trigonometry'],\n",
      "    'Peter': ['number-theory', 'prime-numbers', 'prime-gaps'],\n",
      "    'Peter Patzt': ['general-topology'],\n",
      "    'Peter Smith': ['logic', 'predicate-logic'],\n",
      "    'PeterM': ['algebraic-geometry'],\n",
      "    'Peterix': ['sequences-and-series'],\n",
      "    'Phillip': ['multivariable-calculus', 'gamma-function'],\n",
      "    'Pierre-Yves Gaillard': ['category-theory'],\n",
      "    'Piotr Shatalin': [   'calculus',\n",
      "                          'integration',\n",
      "                          'definite-integrals',\n",
      "                          'closed-form'],\n",
      "    'Potato': ['geometry'],\n",
      "    'Prashand Gupta': [   'polynomials',\n",
      "                          'computer-science',\n",
      "                          'recursive-algorithms'],\n",
      "    'PseudoRandom': [   'linear-algebra',\n",
      "                        'numerical-linear-algebra',\n",
      "                        'statistics',\n",
      "                        'probability-distributions',\n",
      "                        'normal-distribution'],\n",
      "    'Pteromys': ['group-theory', 'finite-groups', 'symmetric-groups'],\n",
      "    'Qixiao': ['algebraic-geometry', 'commutative-algebra'],\n",
      "    'R B': [   'probability',\n",
      "               'combinatorics',\n",
      "               'probability-theory',\n",
      "               'expectation',\n",
      "               'balls-in-bins'],\n",
      "    'RE60K': ['integration'],\n",
      "    'Rafael Deiga': ['real-analysis', 'inequality', 'contest-math'],\n",
      "    'Ram': ['measure-theory', 'radon-nikodym'],\n",
      "    'Random Variable': [   'sequences-and-series',\n",
      "                           'fourier-series',\n",
      "                           'definite-integrals',\n",
      "                           'special-functions',\n",
      "                           'polylogarithm',\n",
      "                           'real-analysis',\n",
      "                           'integration',\n",
      "                           'limits',\n",
      "                           'laplace-transform'],\n",
      "    'RavenclawPrefect': [   'geometry',\n",
      "                            'reference-request',\n",
      "                            'combinatorial-geometry',\n",
      "                            'dissection'],\n",
      "    'Raziel': ['differential-geometry', 'lie-groups'],\n",
      "    'Reggie Simmons': ['prime-numbers', 'arithmetic'],\n",
      "    'Rein': ['linear-algebra', 'matrices', 'matrix-norms'],\n",
      "    'Rellek': ['measure-theory', 'lebesgue-measure'],\n",
      "    'Rex Butler': ['soft-question', 'notation'],\n",
      "    'Rezwan Arefin': ['combinatorics', 'number-theory'],\n",
      "    'Richard': ['real-analysis', 'calculus-of-variations'],\n",
      "    'Rico': [   'commutative-algebra',\n",
      "                'schemes',\n",
      "                'products',\n",
      "                'maximal-and-prime-ideals',\n",
      "                'affine-schemes'],\n",
      "    'Robert': ['elementary-number-theory', 'divisibility', 'gcd-and-lcm'],\n",
      "    'Robert Gross': ['number-theory', 'proof-verification'],\n",
      "    'Robert Z': [   'euclidean-geometry',\n",
      "                    'recreational-mathematics',\n",
      "                    'problem-solving'],\n",
      "    'Rocco Rossi': ['abstract-algebra', 'category-theory'],\n",
      "    'Rock': ['probability'],\n",
      "    'Rodrigo Sango': ['logic'],\n",
      "    'Rohinb97': ['factorial', 'gamma-function'],\n",
      "    'Roiner Segura Cubero': [   'combinatorics',\n",
      "                                'summation',\n",
      "                                'binomial-coefficients'],\n",
      "    'Roman83': ['geometry', 'circles'],\n",
      "    'Romeo': ['sequences-and-series'],\n",
      "    'Rudy the Reindeer': [   'set-theory',\n",
      "                             'model-theory',\n",
      "                             'functional-analysis',\n",
      "                             'banach-spaces'],\n",
      "    'Ryan': ['calculus', 'real-analysis', 'sequences-and-series'],\n",
      "    'Ryan G': [   'complex-analysis',\n",
      "                  'analysis',\n",
      "                  'convergence-divergence',\n",
      "                  'power-series',\n",
      "                  'taylor-expansion'],\n",
      "    'Ryan Pendleton': [   'real-analysis',\n",
      "                          'sequences-and-series',\n",
      "                          'solution-verification',\n",
      "                          'irrational-numbers',\n",
      "                          'rational-numbers'],\n",
      "    'SPSmith': [   'number-theory',\n",
      "                   'elementary-number-theory',\n",
      "                   'diophantine-equations'],\n",
      "    'SSumner': ['sequences-and-series', 'logic', 'algorithms'],\n",
      "    'Saikat': ['summation', 'exponentiation', 'closed-form'],\n",
      "    'Sak': ['differential-geometry'],\n",
      "    'Sam': ['matrices'],\n",
      "    'Sam Washburn': ['arithmetic', 'square-numbers'],\n",
      "    'SamC': ['abstract-algebra', 'modules'],\n",
      "    'Sambo': [   'abstract-algebra',\n",
      "                 'group-theory',\n",
      "                 'abelian-groups',\n",
      "                 'normal-subgroups'],\n",
      "    'Sameer Kailasa': [   'real-analysis',\n",
      "                          'sequences-and-series',\n",
      "                          'convergence-divergence',\n",
      "                          'recurrence-relations',\n",
      "                          'complex-analysis',\n",
      "                          'analysis',\n",
      "                          'complex-numbers'],\n",
      "    'Samik R': ['linear-algebra', 'matrices', 'eigenvalues-eigenvectors'],\n",
      "    'Sarah': ['real-analysis', 'reference-request'],\n",
      "    'Saurabh': ['elementary-number-theory'],\n",
      "    'Sebastien Palcoux': [   'general-topology',\n",
      "                             'algebraic-topology',\n",
      "                             'cw-complexes'],\n",
      "    'Sergey Filkin': ['elementary-number-theory'],\n",
      "    'Shaurya Gupta': ['elementary-set-theory', 'notation'],\n",
      "    'ShreevatsaR': [   'calculus',\n",
      "                       'geometry',\n",
      "                       'optimization',\n",
      "                       'algorithms',\n",
      "                       'maxima-minima'],\n",
      "    'Shroud': [   'calculus',\n",
      "                  'real-analysis',\n",
      "                  'continuity',\n",
      "                  'functional-equations'],\n",
      "    'Shufflepants': ['abstract-algebra'],\n",
      "    'Sid': ['hyperbolic-geometry'],\n",
      "    'Sidd Singal': ['linear-algebra', 'probability', 'statistics'],\n",
      "    'Siddharth Jossy': [   'real-analysis',\n",
      "                           'group-theory',\n",
      "                           'elementary-set-theory',\n",
      "                           'soft-question',\n",
      "                           'math-history'],\n",
      "    'Sidharth Iyer': ['number-theory', 'contest-math'],\n",
      "    'Silverleaf1': ['geometry', 'circles'],\n",
      "    'Simon': ['calculus', 'convolution'],\n",
      "    'Simon Nickerson': ['group-theory', 'simple-groups'],\n",
      "    'Simon S': [   'limits',\n",
      "                   'special-functions',\n",
      "                   'riemann-zeta',\n",
      "                   'euler-mascheroni-constant',\n",
      "                   'recreational-mathematics',\n",
      "                   'functional-equations'],\n",
      "    'Simply Beautiful Art': [   'calculus',\n",
      "                                'sequences-and-series',\n",
      "                                'definite-integrals',\n",
      "                                'logic',\n",
      "                                'paradoxes'],\n",
      "    'Skatche': ['integration', 'distribution-theory'],\n",
      "    'Slava Kashcheyevs': [   'integration',\n",
      "                             'complex-analysis',\n",
      "                             'fourier-analysis',\n",
      "                             'asymptotics',\n",
      "                             'gamma-function'],\n",
      "    'Sol': ['big-list', 'math-software', 'soft-question'],\n",
      "    'Something': ['measure-theory', 'examples-counterexamples'],\n",
      "    'Sophie Agnesi': [   'calculus',\n",
      "                         'integration',\n",
      "                         'definite-integrals',\n",
      "                         'improper-integrals',\n",
      "                         'closed-form'],\n",
      "    'Spencer': [   'differential-geometry',\n",
      "                   'lie-groups',\n",
      "                   'lie-algebras',\n",
      "                   'riemannian-geometry',\n",
      "                   'homogeneous-spaces'],\n",
      "    'SphericalCow': ['formal-languages'],\n",
      "    'Srivatsan': [   'algebra-precalculus',\n",
      "                     'polynomials',\n",
      "                     'inequality',\n",
      "                     'optimization',\n",
      "                     'roots'],\n",
      "    'Stefan Hansen': ['probability', 'probability-theory'],\n",
      "    'Stefan Hanssen': ['analysis'],\n",
      "    'Stefan Smith': ['combinatorics', 'matlab', 'maple'],\n",
      "    'Stella Biderman': ['group-theory'],\n",
      "    'Stepanich02': ['functions', 'polynomials', 'roots', 'radicals'],\n",
      "    'Stephan Kulla': ['differential-geometry', 'lie-groups', 'lie-algebras'],\n",
      "    'Steven Stadnicki': ['number-theory', 'sequences-and-series'],\n",
      "    'StrangerLoop': ['calculus', 'real-analysis', 'analysis'],\n",
      "    'Student1058': [   'elementary-number-theory',\n",
      "                       'solution-verification',\n",
      "                       'divisibility'],\n",
      "    'StudentsTea': ['analysis', 'proof-verification', 'field-theory'],\n",
      "    'Sujaan Kunalan': ['real-analysis', 'compactness'],\n",
      "    'Suresh Venkat': ['probability-theory'],\n",
      "    'Synapse': ['convex-analysis', 'convex-optimization'],\n",
      "    'TCL': ['number-theory', 'prime-numbers', 'prime-gaps'],\n",
      "    'TOM': ['combinatorics', 'permutations'],\n",
      "    'TRY': ['algebraic-topology'],\n",
      "    'Tara': [   'linear-algebra',\n",
      "                'matrices',\n",
      "                'determinant',\n",
      "                'alternative-proof',\n",
      "                'positive-definite'],\n",
      "    'Tashi Walde': ['group-theory', 'finite-groups'],\n",
      "    'Teferi': [   'combinatorics',\n",
      "                  'number-theory',\n",
      "                  'probability-theory',\n",
      "                  'discrete-mathematics',\n",
      "                  'integer-partitions'],\n",
      "    'The Chaz 2.0': ['elementary-number-theory', 'totient-function'],\n",
      "    'The Vee': ['linear-algebra', 'orthonormal'],\n",
      "    'TheHopefulActuary': [   'real-analysis',\n",
      "                             'soft-question',\n",
      "                             'advice',\n",
      "                             'probability',\n",
      "                             'probability-theory'],\n",
      "    'TheRlee': ['functional-equations'],\n",
      "    'TheWaveLad': [   'calculus',\n",
      "                      'real-analysis',\n",
      "                      'sequences-and-series',\n",
      "                      'analysis'],\n",
      "    'Theorem': ['functional-analysis'],\n",
      "    'Thom Kostova': ['linear-algebra', 'matrices', 'characteristic-polynomial'],\n",
      "    'Thomas': [   'reference-request',\n",
      "                  'category-theory',\n",
      "                  'representation-theory',\n",
      "                  'notation'],\n",
      "    'Tien Kha Pham': ['algebra-precalculus', 'polynomials'],\n",
      "    'Tim': ['real-analysis', 'measure-theory'],\n",
      "    'Timo': ['general-topology', 'connectedness', 'product-space'],\n",
      "    'Tito Piezas III': [   'trigonometry',\n",
      "                           'galois-theory',\n",
      "                           'radicals',\n",
      "                           'cubic-equations',\n",
      "                           'number-theory',\n",
      "                           'modular-arithmetic',\n",
      "                           'diophantine-equations',\n",
      "                           'pell-type-equations',\n",
      "                           'fibonacci-numbers',\n",
      "                           'continued-fractions',\n",
      "                           'constants',\n",
      "                           'golden-ratio',\n",
      "                           'q-series'],\n",
      "    'Tobin Fricke': ['terminology'],\n",
      "    'Tom': ['functional-analysis', 'banach-spaces'],\n",
      "    'Tom Au': ['laplace-transform', 'integral-transforms'],\n",
      "    'Tom Bennett': ['linear-algebra', 'definition'],\n",
      "    'Tomas Wolf': ['elementary-number-theory', 'prime-numbers', 'prime-twins'],\n",
      "    'Toolazytothinkofaname': ['elementary-number-theory', 'fake-proofs'],\n",
      "    'Torsten Schoeneberg': [   'real-analysis',\n",
      "                               'complex-analysis',\n",
      "                               'functional-analysis',\n",
      "                               'ordinary-differential-equations',\n",
      "                               'banach-algebras'],\n",
      "    'Trashtalk': ['recreational-mathematics', 'continued-fractions'],\n",
      "    'Truth-seek': ['linear-algebra', 'matrices', 'soft-question', 'notation'],\n",
      "    'Tunk-Fey': [   'probability',\n",
      "                    'geometry',\n",
      "                    'expectation',\n",
      "                    'geometric-probability'],\n",
      "    'Turing': [   'algebra-precalculus',\n",
      "                  'arithmetic',\n",
      "                  'roots',\n",
      "                  'recreational-mathematics'],\n",
      "    'Tyler Hilton': ['functional-analysis', 'spectral-theory'],\n",
      "    'Tyquan Pesik': ['linear-algebra', 'matrices', 'notation'],\n",
      "    'User001': [   'calculus',\n",
      "                   'real-analysis',\n",
      "                   'limits',\n",
      "                   'convergence-divergence',\n",
      "                   'indeterminate-forms'],\n",
      "    'Usser123456798': ['real-analysis', 'derivatives'],\n",
      "    'Valeri Ivanov': ['combinatorial-game-theory'],\n",
      "    'Vandermonde': ['sequences-and-series', 'analysis', 'special-functions'],\n",
      "    'Vaolter': ['real-analysis', 'measure-theory'],\n",
      "    'Vepir': [   'probability',\n",
      "                 'combinatorics',\n",
      "                 'recreational-mathematics',\n",
      "                 'geometric-probability',\n",
      "                 'combinatorics',\n",
      "                 'graph-theory',\n",
      "                 'recreational-mathematics',\n",
      "                 'discrete-optimization',\n",
      "                 'extremal-combinatorics',\n",
      "                 'sequences-and-series',\n",
      "                 'recreational-mathematics',\n",
      "                 'riemann-zeta'],\n",
      "    'Vidyanshu Mishra': [   'calculus',\n",
      "                            'sequences-and-series',\n",
      "                            'summation',\n",
      "                            'proof-writing',\n",
      "                            'binomial-coefficients'],\n",
      "    'Vincent Granville': [   'sequences-and-series',\n",
      "                             'approximation',\n",
      "                             'radicals',\n",
      "                             'irrational-numbers',\n",
      "                             'pi'],\n",
      "    'Vishesh': ['differential-geometry', 'differential-forms'],\n",
      "    'Vokram': ['functional-analysis', 'hilbert-spaces', 'operator-theory'],\n",
      "    'W. Rether': [   'algebraic-geometry',\n",
      "                     'algebraic-topology',\n",
      "                     'topos-theory',\n",
      "                     'groupoids'],\n",
      "    'Weltschmerz': ['combinatorics', 'contest-math'],\n",
      "    'Wesley': ['functions', 'notation'],\n",
      "    'WhizKid': [   'elementary-number-theory',\n",
      "                   'induction',\n",
      "                   'contest-math',\n",
      "                   'fibonacci-numbers'],\n",
      "    'WhoKnowsWho': ['real-analysis', 'integration', 'convergence-divergence'],\n",
      "    'Wilhelm L.': [   'algebraic-topology',\n",
      "                      'differential-topology',\n",
      "                      'geometric-topology'],\n",
      "    'WillO': ['knot-theory', 'low-dimensional-topology'],\n",
      "    'William Ballinger': ['set-theory', 'category-theory'],\n",
      "    'Wishmitha S. Mendis': [   'linear-algebra',\n",
      "                               'eigenvalues-eigenvectors',\n",
      "                               'diagonalization'],\n",
      "    'Xeing': ['inequality'],\n",
      "    'Xiao-Gang Wen': ['algebraic-topology', 'characteristic-classes'],\n",
      "    'Yai0Phah': [   'probability',\n",
      "                    'asymptotics',\n",
      "                    'recurrence-relations',\n",
      "                    'generating-functions',\n",
      "                    'algebraic-topology',\n",
      "                    'homological-algebra',\n",
      "                    'homotopy-theory'],\n",
      "    'Yami Kanashi': [   'calculus',\n",
      "                        'limits',\n",
      "                        'trigonometry',\n",
      "                        'exponential-function',\n",
      "                        'limits-without-lhopital'],\n",
      "    'Young': ['trigonometry', 'products'],\n",
      "    'Yuhang': ['real-analysis', 'inequality', 'integral-inequality'],\n",
      "    'Yuriy S': [   'sequences-and-series',\n",
      "                   'elementary-number-theory',\n",
      "                   'irrational-numbers',\n",
      "                   'rational-numbers'],\n",
      "    'Z Ahmed': [   'sequences-and-series',\n",
      "                   'convergence-divergence',\n",
      "                   'ramanujan-summation'],\n",
      "    'ZQ Wan': ['analysis', 'convex-analysis'],\n",
      "    'Zaid Alyafeai': [   'calculus',\n",
      "                         'integration',\n",
      "                         'definite-integrals',\n",
      "                         'contour-integration'],\n",
      "    'Zhen Lin': [   'commutative-algebra',\n",
      "                    'category-theory',\n",
      "                    'homological-algebra',\n",
      "                    'abelian-categories'],\n",
      "    'Zia': ['triangulation'],\n",
      "    'Zilin J.': ['number-theory', 'congruences', 'integer-partitions'],\n",
      "    'ablmf': ['probability'],\n",
      "    'adjwhrwe': ['group-theory'],\n",
      "    'aelguindy': ['soft-question', 'fuzzy-logic'],\n",
      "    'aleph0': ['norm', 'book-recommendation'],\n",
      "    'alex.jordan': ['calculus', 'complex-analysis', 'convergence-divergence'],\n",
      "    'alphacapture': [   'prime-numbers',\n",
      "                        'analytic-number-theory',\n",
      "                        'infinite-product'],\n",
      "    'amandayu': ['sequences-and-series', 'irrational-numbers'],\n",
      "    'ami_ba': [   'number-theory',\n",
      "                  'elementary-number-theory',\n",
      "                  'divisibility',\n",
      "                  'factorial'],\n",
      "    'amir': ['dihedral-groups'],\n",
      "    'andreister': ['machine-learning'],\n",
      "    'anecdote': [   'calculus',\n",
      "                    'real-analysis',\n",
      "                    'numerical-methods',\n",
      "                    'bernoulli-numbers',\n",
      "                    'euler-maclaurin'],\n",
      "    'annimal': ['probability', 'elementary-set-theory'],\n",
      "    'anuj919': ['probability-theory', 'probability-distributions'],\n",
      "    'asker': ['reference-request', 'applications', 'biology'],\n",
      "    'athos': [   'stochastic-processes',\n",
      "                 'martingales',\n",
      "                 'soft-question',\n",
      "                 'category-theory'],\n",
      "    'awwalker': ['abstract-algebra', 'reference-request', 'field-theory'],\n",
      "    'azimut': [   'abstract-algebra',\n",
      "                  'ring-theory',\n",
      "                  'modules',\n",
      "                  'noncommutative-algebra',\n",
      "                  'projective-module'],\n",
      "    'ben300694': ['algebraic-geometry', 'commutative-algebra'],\n",
      "    'bill': ['geometry', 'circles'],\n",
      "    'bmmcutet12': ['geometry', 'complex-numbers'],\n",
      "    'bobobobo': [   'ordinary-differential-equations',\n",
      "                    'partial-differential-equations',\n",
      "                    'geometry'],\n",
      "    'bodacious': ['statistics', 'average', 'standard-deviation'],\n",
      "    'brannerchinese': [   'reference-request',\n",
      "                          'soft-question',\n",
      "                          'notation',\n",
      "                          'math-history'],\n",
      "    'brunoh': ['commutative-algebra', 'field-theory'],\n",
      "    'bubba': ['linear-algebra', 'matrices', 'rotations'],\n",
      "    'cactus314': [   'algebraic-geometry',\n",
      "                     'polar-coordinates',\n",
      "                     'algebraic-curves',\n",
      "                     'riemann-surfaces'],\n",
      "    'caffeinemachine': ['algebraic-topology', 'homology-cohomology'],\n",
      "    'cdummie': ['calculus', 'integration', 'indefinite-integrals'],\n",
      "    'checkmath': ['functional-analysis', 'banach-spaces'],\n",
      "    'china math': ['sequences-and-series', 'summation', 'constants'],\n",
      "    'chyojn': ['machine-learning'],\n",
      "    'cjohnson': [   'measure-theory',\n",
      "                    'soft-question',\n",
      "                    'dynamical-systems',\n",
      "                    'ergodic-theory',\n",
      "                    'motivation'],\n",
      "    'clathratus': [   'real-analysis',\n",
      "                      'calculus',\n",
      "                      'integration',\n",
      "                      'definite-integrals',\n",
      "                      'closed-form'],\n",
      "    'cnmesr': [   'calculus',\n",
      "                  'integration',\n",
      "                  'analysis',\n",
      "                  'ordinary-differential-equations',\n",
      "                  'derivatives'],\n",
      "    'cody': ['set-theory', 'cardinals'],\n",
      "    'cole': ['probability', 'recreational-mathematics'],\n",
      "    'combinarcotics': ['combinatorics', 'recursion'],\n",
      "    'corly': ['linear-algebra', 'eigenvalues-eigenvectors'],\n",
      "    'cppcoder': ['general-topology'],\n",
      "    'd.y': ['combinatorics', 'elementary-number-theory'],\n",
      "    'daniels': ['fractions', 'decimal-expansion'],\n",
      "    'day': [   'logic',\n",
      "               'first-order-logic',\n",
      "               'quantifiers',\n",
      "               'proof-theory',\n",
      "               'natural-deduction'],\n",
      "    'devcoder': [   'elementary-number-theory',\n",
      "                    'prime-numbers',\n",
      "                    'totient-function'],\n",
      "    'dezakin': ['logic', 'higher-order-logic'],\n",
      "    'eclarkso': [   'elementary-set-theory',\n",
      "                    'reference-request',\n",
      "                    'cardinals',\n",
      "                    'math-history'],\n",
      "    'falang': ['number-theory'],\n",
      "    'fbg': ['calculus', 'integration', 'definite-integrals', 'closed-form'],\n",
      "    'felipeuni': ['real-analysis'],\n",
      "    'fmoura2005': ['abstract-algebra', 'ideals'],\n",
      "    'fred901283': ['complex-analysis'],\n",
      "    'function sug': ['inequality'],\n",
      "    'gaoxinge': ['differential-geometry'],\n",
      "    'gen': [   'ordinary-differential-equations',\n",
      "               'numerical-methods',\n",
      "               'approximation',\n",
      "               'runge-kutta-methods'],\n",
      "    'ggmate': ['number-theory', 'prime-numbers', 'prime-gaps'],\n",
      "    'ghshtalt': ['discrete-mathematics', 'fibonacci-numbers'],\n",
      "    'glebovg': ['sequences-and-series', 'reference-request', 'modular-forms'],\n",
      "    'gnychis': ['notation'],\n",
      "    'goblin GONE': [   'general-topology',\n",
      "                       'connectedness',\n",
      "                       'soft-question',\n",
      "                       'category-theory',\n",
      "                       'differential-geometry',\n",
      "                       'examples-counterexamples',\n",
      "                       'abstract-algebra',\n",
      "                       'ring-theory',\n",
      "                       'commutative-algebra'],\n",
      "    'going': ['geometry'],\n",
      "    'gotgenes': ['combinatorics', 'notation'],\n",
      "    'ground.clouds1': ['linear-algebra', 'vector-spaces', 'change-of-basis'],\n",
      "    'guest11': [   'combinatorics',\n",
      "                   'discrete-mathematics',\n",
      "                   'permutations',\n",
      "                   'combinations'],\n",
      "    'hOff': [   'geometry',\n",
      "                'euclidean-geometry',\n",
      "                'triangles',\n",
      "                'area',\n",
      "                'geometric-inequalities'],\n",
      "    'haidangel': [   'limits',\n",
      "                     'asymptotics',\n",
      "                     'recurrence-relations',\n",
      "                     'recursion',\n",
      "                     'laurent-series'],\n",
      "    'handshakelemma': [   'sequences-and-series',\n",
      "                          'algebra-precalculus',\n",
      "                          'number-theory',\n",
      "                          'elementary-number-theory',\n",
      "                          'discrete-mathematics'],\n",
      "    'harajm': [   'abstract-algebra',\n",
      "                  'commutative-algebra',\n",
      "                  'algebraic-number-theory'],\n",
      "    'hiisitmeyoulookingfor': ['algebra-precalculus', 'inequality'],\n",
      "    'hoirkman': [   'probability',\n",
      "                    'measure-theory',\n",
      "                    'probability-theory',\n",
      "                    'stochastic-processes'],\n",
      "    'hola': ['combinatorics', 'summation', 'binomial-coefficients'],\n",
      "    'holistic': ['general-topology'],\n",
      "    'hotterthanmath': ['linear-algebra', 'matrices'],\n",
      "    'hyperkahler': ['linear-algebra', 'matrices', 'polynomials', 'trace'],\n",
      "    'idiot': [   'combinatorics',\n",
      "                 'algebra-precalculus',\n",
      "                 'proof-verification',\n",
      "                 'combinatorial-proofs'],\n",
      "    'idioteca': [   'algebraic-geometry',\n",
      "                    'sheaf-theory',\n",
      "                    'surfaces',\n",
      "                    'sheaf-cohomology'],\n",
      "    'ithisa': ['combinatorics', 'graph-theory'],\n",
      "    'ivt': ['graph-theory'],\n",
      "    'jake': ['complex-analysis'],\n",
      "    'jamaicanworm': ['algebra-precalculus', 'exponentiation'],\n",
      "    'jasmine': ['soft-question', 'self-learning', 'advice'],\n",
      "    'jimjim': ['number-theory', 'prime-numbers', 'primorial'],\n",
      "    'john': [   'abstract-algebra',\n",
      "                'commutative-algebra',\n",
      "                'ideals',\n",
      "                'sequences-and-series'],\n",
      "    'johnny': ['algebraic-topology', 'homotopy-theory'],\n",
      "    'joriki': ['probability', 'permutations', 'entropy', 'card-games'],\n",
      "    'josephlouislagrange': ['real-analysis', 'calculus', 'integration'],\n",
      "    'juantheron': [   'calculus',\n",
      "                      'inequality',\n",
      "                      'optimization',\n",
      "                      'algebra-precalculus'],\n",
      "    'juliohm': ['real-analysis', 'general-topology'],\n",
      "    'k99731': ['linear-algebra', 'eigenvalues-eigenvectors'],\n",
      "    'kahen': [   'real-analysis',\n",
      "                 'general-topology',\n",
      "                 'examples-counterexamples',\n",
      "                 'separation-axioms'],\n",
      "    'kim taeyun': ['general-topology', 'puzzle'],\n",
      "    'kkk': ['probability', 'probability-theory', 'conditional-expectation'],\n",
      "    'klm123': ['geometry'],\n",
      "    'kornevoy': [   'real-analysis',\n",
      "                    'limits',\n",
      "                    'analysis',\n",
      "                    'trigonometry',\n",
      "                    'factorial'],\n",
      "    'kuch nahi': ['sequences-and-series'],\n",
      "    'kurtachovo': [   'integration',\n",
      "                      'convergence-divergence',\n",
      "                      'distribution-theory'],\n",
      "    'lab bhattacharjee': ['elementary-number-theory'],\n",
      "    'lanskey': [   'real-analysis',\n",
      "                   'geometry',\n",
      "                   'complex-numbers',\n",
      "                   'soft-question'],\n",
      "    'learner': ['linear-algebra', 'matrices'],\n",
      "    'learning': ['algebra-precalculus'],\n",
      "    'liveFreeOrπHard': [   'elementary-number-theory',\n",
      "                           'proof-writing',\n",
      "                           'modular-arithmetic'],\n",
      "    'lokesh sangabattula': ['algebra-precalculus'],\n",
      "    'lokodiz': ['general-topology'],\n",
      "    'lolitsme': ['multivariable-calculus'],\n",
      "    'lsr314': ['number-theory', 'analytic-number-theory'],\n",
      "    'madprob': ['set-theory', 'filters'],\n",
      "    'matekkerdes': ['pi', 'transcendental-numbers'],\n",
      "    'math': [   'real-analysis',\n",
      "                'analysis',\n",
      "                'convergence-divergence',\n",
      "                'taylor-expansion'],\n",
      "    'math110': ['sequences-and-series', 'summation', 'harmonic-numbers'],\n",
      "    'mathlove': [   'number-theory',\n",
      "                    'functions',\n",
      "                    'summation',\n",
      "                    'radicals',\n",
      "                    'ceiling-and-floor-functions',\n",
      "                    'inequality',\n",
      "                    'summation',\n",
      "                    'euclidean-geometry',\n",
      "                    'geometric-inequalities'],\n",
      "    'mathnoob757': ['algebra-precalculus', 'functions'],\n",
      "    'mathscrazy': ['linear-algebra', 'cayley-hamilton'],\n",
      "    'miosaki': ['real-analysis', 'sequences-and-series'],\n",
      "    'misi': ['elementary-number-theory', 'gcd-and-lcm'],\n",
      "    'miss-tery': ['logic', 'definition', 'physics', 'axioms'],\n",
      "    'mlbaker': [   'algebraic-geometry',\n",
      "                   'soft-question',\n",
      "                   'riemannian-geometry',\n",
      "                   'hodge-theory'],\n",
      "    'mnsh': [   'calculus',\n",
      "                'integration',\n",
      "                'fourier-analysis',\n",
      "                'contour-integration',\n",
      "                'calculus',\n",
      "                'real-analysis',\n",
      "                'limits'],\n",
      "    'mnulb': [   'trigonometry',\n",
      "                 'inequality',\n",
      "                 'triangles',\n",
      "                 'geometric-inequalities'],\n",
      "    'modnar': ['abstract-algebra', 'polynomials', 'irreducible-polynomials'],\n",
      "    'morning glory': ['sequences-and-series'],\n",
      "    'mtheorylord': [   'calculus',\n",
      "                       'recreational-mathematics',\n",
      "                       'puzzle',\n",
      "                       'differential-games'],\n",
      "    'navigator': ['geometry', 'soft-question', 'puzzle'],\n",
      "    'nbubis': ['probability-distributions', 'discrete-mathematics', 'entropy'],\n",
      "    'netvope': ['geometry', 'applications'],\n",
      "    'nika': [   'general-topology',\n",
      "                'operator-theory',\n",
      "                'examples-counterexamples',\n",
      "                'connectedness'],\n",
      "    'nikos': ['probability', 'probability-distributions', 'symmetry'],\n",
      "    'nordmann': ['probability-theory', 'limits', 'random-variables'],\n",
      "    'orangezeit': ['sequences-and-series', 'limits'],\n",
      "    'orlandpm': ['group-theory', 'free-groups'],\n",
      "    'orome': ['geometry', 'trigonometry', 'physics'],\n",
      "    'oxeimon': ['algebraic-geometry', 'elliptic-curves'],\n",
      "    'panthor314': ['linear-algebra', 'matrices', 'coding-theory'],\n",
      "    'person27': ['soft-question', 'education'],\n",
      "    'pi66': ['probability', 'limits'],\n",
      "    'pimvdb': ['calculus', 'logarithms', 'exponentiation'],\n",
      "    'piteer': ['real-analysis', 'real-numbers'],\n",
      "    'polemon': ['integration', 'logarithms', 'indefinite-integrals'],\n",
      "    'porton': [   'category-theory',\n",
      "                  'abstract-algebra',\n",
      "                  'logic',\n",
      "                  'formal-systems',\n",
      "                  'alternative-set-theories'],\n",
      "    'praks5432': [   'linear-algebra',\n",
      "                     'matrices',\n",
      "                     'norm',\n",
      "                     'matrix-norms',\n",
      "                     'spectral-norm'],\n",
      "    'pre-kidney': [   'algebraic-geometry',\n",
      "                      'commutative-algebra',\n",
      "                      'field-theory',\n",
      "                      'galois-theory'],\n",
      "    'qweruiop': ['elementary-set-theory', 'proof-verification', 'cardinals'],\n",
      "    'qwr': ['number-theory', 'reference-request', 'asymptotics'],\n",
      "    'rad': ['abstract-algebra', 'polynomials', 'commutative-algebra', 'ideals'],\n",
      "    'rahuk': [   'linear-algebra',\n",
      "                 'matrices',\n",
      "                 'vector-spaces',\n",
      "                 'eigenvalues-eigenvectors'],\n",
      "    'rbrito': ['combinatorics', 'reference-request', 'graph-theory'],\n",
      "    'relyon': ['real-analysis'],\n",
      "    'rjm726': ['optimization'],\n",
      "    'roo': ['finite-groups'],\n",
      "    'rorty': ['real-analysis'],\n",
      "    'sam': ['elementary-number-theory'],\n",
      "    'scip': [   'discrete-mathematics',\n",
      "                'algorithms',\n",
      "                'recreational-mathematics',\n",
      "                'puzzle'],\n",
      "    'simmons': ['combinatorics', 'contest-math', 'extremal-combinatorics'],\n",
      "    'sloth': ['sequences-and-series'],\n",
      "    'slowkvant': ['inequality', 'induction'],\n",
      "    'sova': ['prime-numbers', 'cryptography'],\n",
      "    'spin': [   'linear-algebra',\n",
      "                'abstract-algebra',\n",
      "                'reference-request',\n",
      "                'lie-algebras',\n",
      "                'semisimple-lie-algebras'],\n",
      "    'spohreis': [   'group-theory',\n",
      "                    'permutations',\n",
      "                    'finite-groups',\n",
      "                    'epimorphisms'],\n",
      "    'stanley dodds': ['real-analysis', 'order-theory', 'algebraic-numbers'],\n",
      "    'stariz77': ['sequences-and-series'],\n",
      "    'stochasm': [   'elementary-number-theory',\n",
      "                    'proof-writing',\n",
      "                    'induction',\n",
      "                    'divisibility'],\n",
      "    'sultan': ['sequences-and-series', 'algebra-precalculus'],\n",
      "    'synack': ['abstract-algebra', 'polynomials', 'irreducible-polynomials'],\n",
      "    't.b.': [   'functional-analysis',\n",
      "                'set-theory',\n",
      "                'banach-spaces',\n",
      "                'axiom-of-choice',\n",
      "                'baire-category'],\n",
      "    'tagomago': ['linear-algebra', 'geometry', 'matrices', 'affine-geometry'],\n",
      "    'the L': ['commutative-algebra', 'tensor-products'],\n",
      "    'time': ['functions', 'logarithms', 'convex-analysis', 'self-learning'],\n",
      "    'tired': [   'integration',\n",
      "                 'complex-analysis',\n",
      "                 'asymptotics',\n",
      "                 'contour-integration'],\n",
      "    'tom': ['geometry', 'partial-differential-equations'],\n",
      "    'tomerg': ['calculus', 'integration', 'definite-integrals'],\n",
      "    'tparker': [   'sequences-and-series',\n",
      "                   'mathematical-physics',\n",
      "                   'divergent-series',\n",
      "                   'regularization'],\n",
      "    'tutorscomputer': ['ordinary-differential-equations'],\n",
      "    'twowo': ['logic', 'paradoxes'],\n",
      "    'uhoh': ['geometry', 'curves', 'geometric-construction'],\n",
      "    'user 1591719': [   'real-analysis',\n",
      "                        'sequences-and-series',\n",
      "                        'calculus',\n",
      "                        'real-analysis',\n",
      "                        'sequences-and-series',\n",
      "                        'convergence-divergence',\n",
      "                        'divergent-series',\n",
      "                        'calculus',\n",
      "                        'real-analysis',\n",
      "                        'sequences-and-series',\n",
      "                        'limits',\n",
      "                        'real-analysis',\n",
      "                        'sequences-and-series',\n",
      "                        'limits',\n",
      "                        'calculus',\n",
      "                        'real-analysis',\n",
      "                        'integration',\n",
      "                        'definite-integrals',\n",
      "                        'trigonometry',\n",
      "                        'inequality'],\n",
      "    'user10': ['real-analysis', 'functions', 'continuity'],\n",
      "    'user1001001': ['probability', 'combinatorics'],\n",
      "    'user1002327': ['multivariable-calculus'],\n",
      "    'user1105': ['binomial-coefficients'],\n",
      "    'user118114': [   'abstract-algebra',\n",
      "                      'commutative-algebra',\n",
      "                      'ring-theory',\n",
      "                      'principal-ideal-domains',\n",
      "                      'unique-factorization-domains'],\n",
      "    'user136725': ['general-topology', 'algebraic-topology', 'homotopy-theory'],\n",
      "    'user138017': ['matrices', 'diagonalization'],\n",
      "    'user138893': [   'calculus',\n",
      "                      'real-analysis',\n",
      "                      'analysis',\n",
      "                      'reference-request',\n",
      "                      'education'],\n",
      "    'user153012': [   'integration',\n",
      "                      'polynomials',\n",
      "                      'definite-integrals',\n",
      "                      'special-functions',\n",
      "                      'closed-form',\n",
      "                      'calculus',\n",
      "                      'special-functions',\n",
      "                      'closed-form',\n",
      "                      'hypergeometric-function'],\n",
      "    'user1729843': ['algebra-precalculus'],\n",
      "    'user173856': ['analysis', 'limits', 'binomial-coefficients'],\n",
      "    'user1770201': ['algebraic-topology'],\n",
      "    'user178256': [   'calculus',\n",
      "                      'integration',\n",
      "                      'definite-integrals',\n",
      "                      'improper-integrals',\n",
      "                      'closed-form'],\n",
      "    'user2034': ['logic'],\n",
      "    'user2262504': ['probability', 'independence'],\n",
      "    'user2471': [   'combinatorics',\n",
      "                    'puzzle',\n",
      "                    'upper-lower-bounds',\n",
      "                    'combinatorial-game-theory',\n",
      "                    'cellular-automata'],\n",
      "    'user27182': ['analysis', 'multivariable-calculus', 'soft-question'],\n",
      "    'user28375028': ['analysis', 'periodic-functions'],\n",
      "    'user2901512': ['logic', 'reference-request'],\n",
      "    'user29418': ['real-analysis', 'complex-analysis'],\n",
      "    'user29999': [   'functional-analysis',\n",
      "                     'sobolev-spaces',\n",
      "                     'riesz-representation-theorem'],\n",
      "    'user3002473': ['matrices', 'definition', 'norm', 'matrix-norms'],\n",
      "    'user35202': ['functions', 'recreational-mathematics'],\n",
      "    'user3766223': ['combinatorial-game-theory'],\n",
      "    'user39039': [   'calculus',\n",
      "                     'integration',\n",
      "                     'logarithms',\n",
      "                     'improper-integrals'],\n",
      "    'user41499': ['elementary-number-theory', 'inequality'],\n",
      "    'user4205580': ['calculus', 'probability', 'lebesgue-integral'],\n",
      "    'user425553': ['algebraic-geometry', 'sheaf-theory', 'schemes'],\n",
      "    'user42574': ['measure-theory'],\n",
      "    'user42912': [   'general-topology',\n",
      "                     'algebraic-topology',\n",
      "                     'big-list',\n",
      "                     'fundamental-groups'],\n",
      "    'user430647': ['probability-theory', 'measure-theory'],\n",
      "    'user462082': ['logic'],\n",
      "    'user50229': [   'abstract-algebra',\n",
      "                     'group-theory',\n",
      "                     'soft-question',\n",
      "                     'book-recommendation'],\n",
      "    'user52534': ['set-theory'],\n",
      "    'user5315': ['abstract-algebra', 'ring-theory'],\n",
      "    'user58679': [   'real-analysis',\n",
      "                     'inequality',\n",
      "                     'linear-transformations',\n",
      "                     'norm',\n",
      "                     'matrix-norms'],\n",
      "    'user60017': ['geometry'],\n",
      "    'user61799': ['differential-geometry', 'manifolds'],\n",
      "    'user66733': ['abstract-algebra', 'group-theory', 'monoid'],\n",
      "    'user66807': ['functional-equations'],\n",
      "    'user7273': ['soft-question', 'education'],\n",
      "    'user77208': ['reference-request', 'algebraic-number-theory'],\n",
      "    'user8463524': [   'algebraic-geometry',\n",
      "                       'category-theory',\n",
      "                       'limits-colimits',\n",
      "                       'ringed-spaces'],\n",
      "    'user84673': [   'abstract-algebra',\n",
      "                     'polynomials',\n",
      "                     'irreducible-polynomials',\n",
      "                     'cyclotomic-polynomials'],\n",
      "    'user89': [   'differential-geometry',\n",
      "                  'reference-request',\n",
      "                  'soft-question',\n",
      "                  'laplacian',\n",
      "                  'big-picture'],\n",
      "    'userX': ['calculus', 'integration', 'calculus', 'limits'],\n",
      "    'usul': [   'sequences-and-series',\n",
      "                'number-theory',\n",
      "                'prime-numbers',\n",
      "                'analytic-number-theory'],\n",
      "    'violet313': ['soft-question', 'education'],\n",
      "    'vitaliy': ['number-theory', 'modular-forms'],\n",
      "    'weux082690': [   'ring-theory',\n",
      "                      'algebraic-number-theory',\n",
      "                      'quadratic-integer-rings'],\n",
      "    'wircho': [   'combinatorics',\n",
      "                  'algorithms',\n",
      "                  'graph-theory',\n",
      "                  'computer-science'],\n",
      "    'x.y.z...': ['soft-question', 'education', 'big-list'],\n",
      "    'xcoder': ['summation', 'power-series'],\n",
      "    'xuce1234': [   'calculus',\n",
      "                    'integration',\n",
      "                    'definite-integrals',\n",
      "                    'improper-integrals',\n",
      "                    'closed-form'],\n",
      "    'yes': ['general-topology'],\n",
      "    'yotam maoz': ['real-analysis', 'integration', 'gamma-function'],\n",
      "    'yotamoo': ['calculus', 'taylor-expansion'],\n",
      "    'yoyostein': ['real-analysis', 'measure-theory', 'lebesgue-measure'],\n",
      "    'yunone': ['set-theory'],\n",
      "    'yurnero': [   'real-analysis',\n",
      "                   'complex-analysis',\n",
      "                   'trigonometry',\n",
      "                   'reference-request',\n",
      "                   'soft-question'],\n",
      "    'zacarias': [   'abstract-algebra',\n",
      "                    'ring-theory',\n",
      "                    'modules',\n",
      "                    'projective-module',\n",
      "                    'finite-rings'],\n",
      "    'zero-divisor': [   'group-theory',\n",
      "                        'elementary-number-theory',\n",
      "                        'finite-groups'],\n",
      "    'ěŕëĺíüęŕ͘  \\u202fěţěëŕ': [   'calculus',\n",
      "                                  'sequences-and-series',\n",
      "                                  'reference-request',\n",
      "                                  'closed-form',\n",
      "                                  'elliptic-integrals',\n",
      "                                  'calculus',\n",
      "                                  'integration',\n",
      "                                  'definite-integrals',\n",
      "                                  'closed-form',\n",
      "                                  'hyperbolic-functions',\n",
      "                                  'calculus',\n",
      "                                  'integration',\n",
      "                                  'definite-integrals',\n",
      "                                  'exponential-function',\n",
      "                                  'closed-form',\n",
      "                                  'sequences-and-series',\n",
      "                                  'number-theory',\n",
      "                                  'limits',\n",
      "                                  'products',\n",
      "                                  'conjectures']}\n"
     ]
    }
   ],
   "source": [
    "userTopic = dict()\n",
    "for row in data:\n",
    "    val = userTopic.setdefault(row['user'], list()) \n",
    "    userTopic[row['user']] = val + row['tags']\n",
    "pp.pprint(userTopic)"
   ]
  },
  {
   "cell_type": "code",
   "execution_count": 100,
   "id": "established-kentucky",
   "metadata": {},
   "outputs": [
    {
     "name": "stdout",
     "output_type": "stream",
     "text": [
      "495\n",
      "{   '3d',\n",
      "    'abc-conjecture',\n",
      "    'abelian-categories',\n",
      "    'abelian-groups',\n",
      "    'absolute-value',\n",
      "    'abstract-algebra',\n",
      "    'additive-combinatorics',\n",
      "    'adjoint-functors',\n",
      "    'advice',\n",
      "    'affine-geometry',\n",
      "    'affine-schemes',\n",
      "    'algebra-precalculus',\n",
      "    'algebraic-curves',\n",
      "    'algebraic-geometry',\n",
      "    'algebraic-graph-theory',\n",
      "    'algebraic-number-theory',\n",
      "    'algebraic-numbers',\n",
      "    'algebraic-topology',\n",
      "    'algorithms',\n",
      "    'alternative-proof',\n",
      "    'alternative-set-theories',\n",
      "    'analysis',\n",
      "    'analytic-geometry',\n",
      "    'analytic-number-theory',\n",
      "    'angle',\n",
      "    'applications',\n",
      "    'approximation',\n",
      "    'area',\n",
      "    'arithmetic',\n",
      "    'arithmetic-geometry',\n",
      "    'article-writing',\n",
      "    'associativity',\n",
      "    'asymptotics',\n",
      "    'automorphism-group',\n",
      "    'average',\n",
      "    'axiom-of-choice',\n",
      "    'axioms',\n",
      "    'baire-category',\n",
      "    'balls-in-bins',\n",
      "    'banach-algebras',\n",
      "    'banach-spaces',\n",
      "    'bernoulli-numbers',\n",
      "    'big-list',\n",
      "    'big-picture',\n",
      "    'binomial-coefficients',\n",
      "    'binomial-theorem',\n",
      "    'biology',\n",
      "    'book-recommendation',\n",
      "    'brownian-motion',\n",
      "    'calculus',\n",
      "    'calculus-of-variations',\n",
      "    'card-games',\n",
      "    'cardinals',\n",
      "    'catastrophic-cancellation',\n",
      "    'category-theory',\n",
      "    'cauchy-schwarz-inequality',\n",
      "    'cauchy-sequences',\n",
      "    'cayley-hamilton',\n",
      "    'ceiling-and-floor-functions',\n",
      "    'cellular-automata',\n",
      "    'change-of-basis',\n",
      "    'characteristic-classes',\n",
      "    'characteristic-functions',\n",
      "    'characteristic-polynomial',\n",
      "    'circles',\n",
      "    'closed-form',\n",
      "    'coding-theory',\n",
      "    'coherent-sheaves',\n",
      "    'coloring',\n",
      "    'combinations',\n",
      "    'combinatorial-game-theory',\n",
      "    'combinatorial-geometry',\n",
      "    'combinatorial-group-theory',\n",
      "    'combinatorial-proofs',\n",
      "    'combinatorics',\n",
      "    'commutative-algebra',\n",
      "    'compactness',\n",
      "    'complex-analysis',\n",
      "    'complex-dynamics',\n",
      "    'complex-geometry',\n",
      "    'complex-manifolds',\n",
      "    'complex-numbers',\n",
      "    'computer-algebra-systems',\n",
      "    'computer-science',\n",
      "    'conditional-expectation',\n",
      "    'congruences',\n",
      "    'conic-sections',\n",
      "    'conjectures',\n",
      "    'connectedness',\n",
      "    'connections',\n",
      "    'constants',\n",
      "    'constructive-mathematics',\n",
      "    'contest-math',\n",
      "    'continued-fractions',\n",
      "    'continuity',\n",
      "    'contour-integration',\n",
      "    'convergence-divergence',\n",
      "    'convex-analysis',\n",
      "    'convex-optimization',\n",
      "    'convolution',\n",
      "    'coordinate-systems',\n",
      "    'coxeter-groups',\n",
      "    'cryptography',\n",
      "    'cubic-equations',\n",
      "    'curves',\n",
      "    'cw-complexes',\n",
      "    'cyclic-groups',\n",
      "    'cyclotomic-polynomials',\n",
      "    'decimal-expansion',\n",
      "    'definite-integrals',\n",
      "    'definition',\n",
      "    'derivatives',\n",
      "    'derived-functors',\n",
      "    'descriptive-set-theory',\n",
      "    'determinant',\n",
      "    'diagonalization',\n",
      "    'dice',\n",
      "    'differential-forms',\n",
      "    'differential-games',\n",
      "    'differential-geometry',\n",
      "    'differential-topology',\n",
      "    'digamma-function',\n",
      "    'dihedral-groups',\n",
      "    'diophantine-approximation',\n",
      "    'diophantine-equations',\n",
      "    'direct-product',\n",
      "    'discrete-calculus',\n",
      "    'discrete-mathematics',\n",
      "    'discrete-optimization',\n",
      "    'dissection',\n",
      "    'distribution-theory',\n",
      "    'divergent-series',\n",
      "    'divisibility',\n",
      "    'dynamical-systems',\n",
      "    'education',\n",
      "    'eigenvalues-eigenvectors',\n",
      "    'elementary-functions',\n",
      "    'elementary-number-theory',\n",
      "    'elementary-set-theory',\n",
      "    'elliptic-curves',\n",
      "    'elliptic-integrals',\n",
      "    'entire-functions',\n",
      "    'entropy',\n",
      "    'epimorphisms',\n",
      "    'epsilon-delta',\n",
      "    'equidistribution',\n",
      "    'ergodic-theory',\n",
      "    'error-function',\n",
      "    'euclidean-algorithm',\n",
      "    'euclidean-geometry',\n",
      "    'euler-maclaurin',\n",
      "    'euler-mascheroni-constant',\n",
      "    'exact-sequence',\n",
      "    'examples-counterexamples',\n",
      "    'expectation',\n",
      "    'experimental-mathematics',\n",
      "    'exponential-function',\n",
      "    'exponential-sum',\n",
      "    'exponentiation',\n",
      "    'extension-field',\n",
      "    'extremal-combinatorics',\n",
      "    'factorial',\n",
      "    'fake-proofs',\n",
      "    'fibonacci-numbers',\n",
      "    'field-theory',\n",
      "    'filters',\n",
      "    'finite-groups',\n",
      "    'finite-rings',\n",
      "    'finitely-generated',\n",
      "    'first-order-logic',\n",
      "    'floating-point',\n",
      "    'fluid-dynamics',\n",
      "    'formal-languages',\n",
      "    'formal-systems',\n",
      "    'foundations',\n",
      "    'fourier-analysis',\n",
      "    'fourier-series',\n",
      "    'fractals',\n",
      "    'fractional-part',\n",
      "    'fractions',\n",
      "    'free-groups',\n",
      "    'functional-analysis',\n",
      "    'functional-equations',\n",
      "    'functional-inequalities',\n",
      "    'functions',\n",
      "    'fundamental-groups',\n",
      "    'fuzzy-logic',\n",
      "    'galois-theory',\n",
      "    'gamma-function',\n",
      "    'gaussian-integral',\n",
      "    'gcd-and-lcm',\n",
      "    'general-topology',\n",
      "    'generating-functions',\n",
      "    'geometric-construction',\n",
      "    'geometric-inequalities',\n",
      "    'geometric-measure-theory',\n",
      "    'geometric-probability',\n",
      "    'geometric-topology',\n",
      "    'geometric-transformation',\n",
      "    'geometry',\n",
      "    'goldbachs-conjecture',\n",
      "    'golden-ratio',\n",
      "    'graph-laplacian',\n",
      "    'graph-theory',\n",
      "    'graphing-functions',\n",
      "    'group-actions',\n",
      "    'group-isomorphism',\n",
      "    'group-theory',\n",
      "    'groupoids',\n",
      "    'harmonic-functions',\n",
      "    'harmonic-numbers',\n",
      "    'higher-order-logic',\n",
      "    'hilbert-spaces',\n",
      "    'hodge-theory',\n",
      "    'homogeneous-spaces',\n",
      "    'homological-algebra',\n",
      "    'homology-cohomology',\n",
      "    'homotopy-theory',\n",
      "    'hyperbolic-functions',\n",
      "    'hyperbolic-geometry',\n",
      "    'hypergeometric-function',\n",
      "    'ideals',\n",
      "    'improper-integrals',\n",
      "    'indefinite-integrals',\n",
      "    'independence',\n",
      "    'indeterminate-forms',\n",
      "    'induction',\n",
      "    'inequality',\n",
      "    'infinite-groups',\n",
      "    'infinite-product',\n",
      "    'infinity',\n",
      "    'integer-partitions',\n",
      "    'integral-inequality',\n",
      "    'integral-transforms',\n",
      "    'integration',\n",
      "    'intuition',\n",
      "    'inverse',\n",
      "    'inverse-function',\n",
      "    'irrational-numbers',\n",
      "    'irreducible-polynomials',\n",
      "    'kahler-manifolds',\n",
      "    'knot-theory',\n",
      "    'krull-dimension',\n",
      "    'lagrange-multiplier',\n",
      "    'lambda-calculus',\n",
      "    'laplace-transform',\n",
      "    'laplacian',\n",
      "    'large-cardinals',\n",
      "    'latin-square',\n",
      "    'laurent-series',\n",
      "    'learning',\n",
      "    'lebesgue-integral',\n",
      "    'lebesgue-measure',\n",
      "    'lie-algebras',\n",
      "    'lie-groups',\n",
      "    'limits',\n",
      "    'limits-colimits',\n",
      "    'limits-without-lhopital',\n",
      "    'limsup-and-liminf',\n",
      "    'line-integrals',\n",
      "    'linear-algebra',\n",
      "    'linear-diophantine-equations',\n",
      "    'linear-logic',\n",
      "    'linear-programming',\n",
      "    'linear-transformations',\n",
      "    'locus',\n",
      "    'logarithms',\n",
      "    'logic',\n",
      "    'low-dimensional-topology',\n",
      "    'machine-learning',\n",
      "    'magic-square',\n",
      "    'manifolds',\n",
      "    'maple',\n",
      "    'martingales',\n",
      "    'math-history',\n",
      "    'math-software',\n",
      "    'mathematical-physics',\n",
      "    'mathematicians',\n",
      "    'matlab',\n",
      "    'matrices',\n",
      "    'matrix-decomposition',\n",
      "    'matrix-equations',\n",
      "    'matrix-norms',\n",
      "    'maxima-minima',\n",
      "    'maximal-and-prime-ideals',\n",
      "    'measure-theory',\n",
      "    'meta-math',\n",
      "    'metalogic',\n",
      "    'metric-spaces',\n",
      "    'model-theory',\n",
      "    'modular-arithmetic',\n",
      "    'modular-forms',\n",
      "    'modules',\n",
      "    'moduli-space',\n",
      "    'monoid',\n",
      "    'monoidal-categories',\n",
      "    'morse-theory',\n",
      "    'motivation',\n",
      "    'multilinear-algebra',\n",
      "    'multivariable-calculus',\n",
      "    'music-theory',\n",
      "    'natural-deduction',\n",
      "    'noncommutative-algebra',\n",
      "    'nonlinear-optimization',\n",
      "    'nonlinear-system',\n",
      "    'nonstandard-models',\n",
      "    'norm',\n",
      "    'normal-distribution',\n",
      "    'normal-subgroups',\n",
      "    'notation',\n",
      "    'number-systems',\n",
      "    'number-theory',\n",
      "    'numerical-linear-algebra',\n",
      "    'numerical-methods',\n",
      "    'online-resources',\n",
      "    'open-map',\n",
      "    'open-problem',\n",
      "    'operator-theory',\n",
      "    'optimization',\n",
      "    'order-theory',\n",
      "    'order-topology',\n",
      "    'ordered-fields',\n",
      "    'ordinals',\n",
      "    'ordinary-differential-equations',\n",
      "    'orthonormal',\n",
      "    'packing-problem',\n",
      "    'paradoxes',\n",
      "    'partial-derivative',\n",
      "    'partial-differential-equations',\n",
      "    'pell-type-equations',\n",
      "    'percentages',\n",
      "    'perfect-numbers',\n",
      "    'perfect-powers',\n",
      "    'periodic-functions',\n",
      "    'permutations',\n",
      "    'philosophy',\n",
      "    'physics',\n",
      "    'pi',\n",
      "    'picard-scheme',\n",
      "    'pigeonhole-principle',\n",
      "    'planar-graphs',\n",
      "    'poisson-distribution',\n",
      "    'polar-coordinates',\n",
      "    'polygons',\n",
      "    'polyhedra',\n",
      "    'polylogarithm',\n",
      "    'polynomials',\n",
      "    'popular-math',\n",
      "    'positive-definite',\n",
      "    'power-series',\n",
      "    'predicate-logic',\n",
      "    'prime-gaps',\n",
      "    'prime-numbers',\n",
      "    'prime-twins',\n",
      "    'primitive-roots',\n",
      "    'primorial',\n",
      "    'principal-bundles',\n",
      "    'principal-ideal-domains',\n",
      "    'probability',\n",
      "    'probability-distributions',\n",
      "    'probability-limit-theorems',\n",
      "    'probability-theory',\n",
      "    'problem-solving',\n",
      "    'product-space',\n",
      "    'products',\n",
      "    'projective-geometry',\n",
      "    'projective-module',\n",
      "    'proof-explanation',\n",
      "    'proof-theory',\n",
      "    'proof-verification',\n",
      "    'proof-writing',\n",
      "    'propositional-calculus',\n",
      "    'publishing',\n",
      "    'puzzle',\n",
      "    'q-series',\n",
      "    'quadratic-forms',\n",
      "    'quadratic-integer-rings',\n",
      "    'quadratic-programming',\n",
      "    'quadratics',\n",
      "    'quantifiers',\n",
      "    'quasicoherent-sheaves',\n",
      "    'quaternions',\n",
      "    'quotient-group',\n",
      "    'quotient-spaces',\n",
      "    'radicals',\n",
      "    'radon-nikodym',\n",
      "    'ramanujan-summation',\n",
      "    'ramsey-theory',\n",
      "    'random',\n",
      "    'random-functions',\n",
      "    'random-matrices',\n",
      "    'random-variables',\n",
      "    'random-walk',\n",
      "    'rational-functions',\n",
      "    'rational-numbers',\n",
      "    'rationality-testing',\n",
      "    'real-analysis',\n",
      "    'real-numbers',\n",
      "    'recreational-mathematics',\n",
      "    'recurrence-relations',\n",
      "    'recursion',\n",
      "    'recursive-algorithms',\n",
      "    'reference-request',\n",
      "    'regular-language',\n",
      "    'regularization',\n",
      "    'representation-theory',\n",
      "    'residue-calculus',\n",
      "    'riemann-integration',\n",
      "    'riemann-surfaces',\n",
      "    'riemann-zeta',\n",
      "    'riemannian-geometry',\n",
      "    'riesz-representation-theorem',\n",
      "    'ring-theory',\n",
      "    'ringed-spaces',\n",
      "    'roots',\n",
      "    'rotations',\n",
      "    'runge-kutta-methods',\n",
      "    'schemes',\n",
      "    'scoring-algorithm',\n",
      "    'self-learning',\n",
      "    'semigroups',\n",
      "    'semisimple-lie-algebras',\n",
      "    'separation-axioms',\n",
      "    'sequences-and-series',\n",
      "    'set-theory',\n",
      "    'several-complex-variables',\n",
      "    'sheaf-cohomology',\n",
      "    'sheaf-theory',\n",
      "    'signal-processing',\n",
      "    'simple-groups',\n",
      "    'simplex',\n",
      "    'singular-measures',\n",
      "    'skew-symmetric-matrices',\n",
      "    'smooth-manifolds',\n",
      "    'sobolev-spaces',\n",
      "    'soft-question',\n",
      "    'solid-geometry',\n",
      "    'solution-verification',\n",
      "    'solvable-groups',\n",
      "    'special-functions',\n",
      "    'spectral-graph-theory',\n",
      "    'spectral-norm',\n",
      "    'spectral-theory',\n",
      "    'spherical-coordinates',\n",
      "    'square-numbers',\n",
      "    'standard-deviation',\n",
      "    'statistical-inference',\n",
      "    'statistical-mechanics',\n",
      "    'statistics',\n",
      "    'stochastic-calculus',\n",
      "    'stochastic-differential-equations',\n",
      "    'stochastic-integrals',\n",
      "    'stochastic-processes',\n",
      "    'stopping-times',\n",
      "    'string-theory',\n",
      "    'substitution',\n",
      "    'summation',\n",
      "    'sums-of-squares',\n",
      "    'sumset',\n",
      "    'surfaces',\n",
      "    'symmetric-functions',\n",
      "    'symmetric-groups',\n",
      "    'symmetric-matrices',\n",
      "    'symmetric-polynomials',\n",
      "    'symmetry',\n",
      "    'systems-of-equations',\n",
      "    'taylor-expansion',\n",
      "    'teichmueller-theory',\n",
      "    'tensor-decomposition',\n",
      "    'tensor-products',\n",
      "    'tensor-rank',\n",
      "    'tensors',\n",
      "    'terminology',\n",
      "    'tetration',\n",
      "    'tiling',\n",
      "    'topological-groups',\n",
      "    'topos-theory',\n",
      "    'toric-geometry',\n",
      "    'totient-function',\n",
      "    'trace',\n",
      "    'transcendental-numbers',\n",
      "    'triangles',\n",
      "    'triangulation',\n",
      "    'trigonometry',\n",
      "    'type-theory',\n",
      "    'unique-factorization-domains',\n",
      "    'universal-property',\n",
      "    'upper-lower-bounds',\n",
      "    'vector-analysis',\n",
      "    'vector-spaces',\n",
      "    'vieta-jumping',\n",
      "    'visualization',\n",
      "    'voting-theory',\n",
      "    'weak-convergence',\n",
      "    'wreath-product'}\n"
     ]
    }
   ],
   "source": [
    "stags = set()\n",
    "for l in ltags:\n",
    "    for ll in l:\n",
    "        stags.add(ll)\n",
    "print(len(stags))\n",
    "pp.pprint(stags)"
   ]
  },
  {
   "cell_type": "markdown",
   "id": "empirical-prince",
   "metadata": {},
   "source": [
    "# Create recommendations"
   ]
  },
  {
   "cell_type": "code",
   "execution_count": 103,
   "id": "modified-honolulu",
   "metadata": {},
   "outputs": [
    {
     "data": {
      "text/plain": [
       "True"
      ]
     },
     "execution_count": 103,
     "metadata": {},
     "output_type": "execute_result"
    }
   ],
   "source": [
    "any([x in 'Hella' for x in ['a', 'H', 'b']])"
   ]
  },
  {
   "cell_type": "code",
   "execution_count": 104,
   "id": "quiet-cancellation",
   "metadata": {},
   "outputs": [
    {
     "name": "stdout",
     "output_type": "stream",
     "text": [
      "['complex-geometry', 'geometric-topology', 'algebraic-topology', 'order-topology', 'arithmetic-geometry', 'euclidean-geometry', 'toric-geometry', 'combinatorial-geometry', 'hyperbolic-geometry', 'solid-geometry', 'general-topology', 'analytic-geometry', 'geometry', 'algebraic-geometry', 'differential-geometry', 'low-dimensional-topology', 'riemannian-geometry', 'projective-geometry', 'differential-topology', 'affine-geometry']\n"
     ]
    }
   ],
   "source": [
    "topologyTags = ['topology', 'geometry']\n",
    "topologist = [tag for tag in stags if any([myTag in tag for myTag in topologyTags])]\n",
    "print(topologist)"
   ]
  },
  {
   "cell_type": "code",
   "execution_count": 124,
   "id": "dominican-weekend",
   "metadata": {},
   "outputs": [
    {
     "name": "stdout",
     "output_type": "stream",
     "text": [
      "['user', 'title', 'tags', 'votes', 'views']\n",
      "[<class 'str'>, <class 'str'>, <class 'str'>, <class 'int'>, <class 'int'>]\n"
     ]
    }
   ],
   "source": [
    "colNames = data.column_names()\n",
    "print(colNames)\n",
    "colTypes = data.column_types()\n",
    "colTypes[2] = str\n",
    "print(colTypes)"
   ]
  },
  {
   "cell_type": "code",
   "execution_count": 125,
   "id": "celtic-siemens",
   "metadata": {},
   "outputs": [
    {
     "data": {
      "text/html": [
       "<div style=\"max-height:1000px;max-width:1500px;overflow:auto;\"><table frame=\"box\" rules=\"cols\">\n",
       "    <tr>\n",
       "        <th style=\"padding-left: 1em; padding-right: 1em; text-align: center\">user</th>\n",
       "        <th style=\"padding-left: 1em; padding-right: 1em; text-align: center\">title</th>\n",
       "        <th style=\"padding-left: 1em; padding-right: 1em; text-align: center\">tags</th>\n",
       "        <th style=\"padding-left: 1em; padding-right: 1em; text-align: center\">votes</th>\n",
       "        <th style=\"padding-left: 1em; padding-right: 1em; text-align: center\">views</th>\n",
       "    </tr>\n",
       "    <tr>\n",
       "        <td style=\"padding-left: 1em; padding-right: 1em; text-align: center; vertical-align: top\">Alice</td>\n",
       "        <td style=\"padding-left: 1em; padding-right: 1em; text-align: center; vertical-align: top\">Why does this innovative<br>method of subtraction ...</td>\n",
       "        <td style=\"padding-left: 1em; padding-right: 1em; text-align: center; vertical-align: top\">arithmetic</td>\n",
       "        <td style=\"padding-left: 1em; padding-right: 1em; text-align: center; vertical-align: top\">291</td>\n",
       "        <td style=\"padding-left: 1em; padding-right: 1em; text-align: center; vertical-align: top\">291</td>\n",
       "    </tr>\n",
       "    <tr>\n",
       "        <td style=\"padding-left: 1em; padding-right: 1em; text-align: center; vertical-align: top\">t.b.</td>\n",
       "        <td style=\"padding-left: 1em; padding-right: 1em; text-align: center; vertical-align: top\">Does the open mapping<br>theorem imply the Baire ...</td>\n",
       "        <td style=\"padding-left: 1em; padding-right: 1em; text-align: center; vertical-align: top\">functional-analysis</td>\n",
       "        <td style=\"padding-left: 1em; padding-right: 1em; text-align: center; vertical-align: top\">221</td>\n",
       "        <td style=\"padding-left: 1em; padding-right: 1em; text-align: center; vertical-align: top\">221</td>\n",
       "    </tr>\n",
       "    <tr>\n",
       "        <td style=\"padding-left: 1em; padding-right: 1em; text-align: center; vertical-align: top\">t.b.</td>\n",
       "        <td style=\"padding-left: 1em; padding-right: 1em; text-align: center; vertical-align: top\">Does the open mapping<br>theorem imply the Baire ...</td>\n",
       "        <td style=\"padding-left: 1em; padding-right: 1em; text-align: center; vertical-align: top\">set-theory</td>\n",
       "        <td style=\"padding-left: 1em; padding-right: 1em; text-align: center; vertical-align: top\">221</td>\n",
       "        <td style=\"padding-left: 1em; padding-right: 1em; text-align: center; vertical-align: top\">221</td>\n",
       "    </tr>\n",
       "    <tr>\n",
       "        <td style=\"padding-left: 1em; padding-right: 1em; text-align: center; vertical-align: top\">t.b.</td>\n",
       "        <td style=\"padding-left: 1em; padding-right: 1em; text-align: center; vertical-align: top\">Does the open mapping<br>theorem imply the Baire ...</td>\n",
       "        <td style=\"padding-left: 1em; padding-right: 1em; text-align: center; vertical-align: top\">banach-spaces</td>\n",
       "        <td style=\"padding-left: 1em; padding-right: 1em; text-align: center; vertical-align: top\">221</td>\n",
       "        <td style=\"padding-left: 1em; padding-right: 1em; text-align: center; vertical-align: top\">221</td>\n",
       "    </tr>\n",
       "    <tr>\n",
       "        <td style=\"padding-left: 1em; padding-right: 1em; text-align: center; vertical-align: top\">t.b.</td>\n",
       "        <td style=\"padding-left: 1em; padding-right: 1em; text-align: center; vertical-align: top\">Does the open mapping<br>theorem imply the Baire ...</td>\n",
       "        <td style=\"padding-left: 1em; padding-right: 1em; text-align: center; vertical-align: top\">axiom-of-choice</td>\n",
       "        <td style=\"padding-left: 1em; padding-right: 1em; text-align: center; vertical-align: top\">221</td>\n",
       "        <td style=\"padding-left: 1em; padding-right: 1em; text-align: center; vertical-align: top\">221</td>\n",
       "    </tr>\n",
       "    <tr>\n",
       "        <td style=\"padding-left: 1em; padding-right: 1em; text-align: center; vertical-align: top\">t.b.</td>\n",
       "        <td style=\"padding-left: 1em; padding-right: 1em; text-align: center; vertical-align: top\">Does the open mapping<br>theorem imply the Baire ...</td>\n",
       "        <td style=\"padding-left: 1em; padding-right: 1em; text-align: center; vertical-align: top\">baire-category</td>\n",
       "        <td style=\"padding-left: 1em; padding-right: 1em; text-align: center; vertical-align: top\">221</td>\n",
       "        <td style=\"padding-left: 1em; padding-right: 1em; text-align: center; vertical-align: top\">221</td>\n",
       "    </tr>\n",
       "    <tr>\n",
       "        <td style=\"padding-left: 1em; padding-right: 1em; text-align: center; vertical-align: top\">7 revs, 6 users 50%</td>\n",
       "        <td style=\"padding-left: 1em; padding-right: 1em; text-align: center; vertical-align: top\">What is a good complex<br>analysis textbook, ...</td>\n",
       "        <td style=\"padding-left: 1em; padding-right: 1em; text-align: center; vertical-align: top\">complex-analysis</td>\n",
       "        <td style=\"padding-left: 1em; padding-right: 1em; text-align: center; vertical-align: top\">178</td>\n",
       "        <td style=\"padding-left: 1em; padding-right: 1em; text-align: center; vertical-align: top\">178</td>\n",
       "    </tr>\n",
       "    <tr>\n",
       "        <td style=\"padding-left: 1em; padding-right: 1em; text-align: center; vertical-align: top\">7 revs, 6 users 50%</td>\n",
       "        <td style=\"padding-left: 1em; padding-right: 1em; text-align: center; vertical-align: top\">What is a good complex<br>analysis textbook, ...</td>\n",
       "        <td style=\"padding-left: 1em; padding-right: 1em; text-align: center; vertical-align: top\">reference-request</td>\n",
       "        <td style=\"padding-left: 1em; padding-right: 1em; text-align: center; vertical-align: top\">178</td>\n",
       "        <td style=\"padding-left: 1em; padding-right: 1em; text-align: center; vertical-align: top\">178</td>\n",
       "    </tr>\n",
       "    <tr>\n",
       "        <td style=\"padding-left: 1em; padding-right: 1em; text-align: center; vertical-align: top\">7 revs, 6 users 50%</td>\n",
       "        <td style=\"padding-left: 1em; padding-right: 1em; text-align: center; vertical-align: top\">What is a good complex<br>analysis textbook, ...</td>\n",
       "        <td style=\"padding-left: 1em; padding-right: 1em; text-align: center; vertical-align: top\">book-recommendation</td>\n",
       "        <td style=\"padding-left: 1em; padding-right: 1em; text-align: center; vertical-align: top\">178</td>\n",
       "        <td style=\"padding-left: 1em; padding-right: 1em; text-align: center; vertical-align: top\">178</td>\n",
       "    </tr>\n",
       "    <tr>\n",
       "        <td style=\"padding-left: 1em; padding-right: 1em; text-align: center; vertical-align: top\">Robert Z</td>\n",
       "        <td style=\"padding-left: 1em; padding-right: 1em; text-align: center; vertical-align: top\">The Hole in One Pizza</td>\n",
       "        <td style=\"padding-left: 1em; padding-right: 1em; text-align: center; vertical-align: top\">euclidean-geometry</td>\n",
       "        <td style=\"padding-left: 1em; padding-right: 1em; text-align: center; vertical-align: top\">156</td>\n",
       "        <td style=\"padding-left: 1em; padding-right: 1em; text-align: center; vertical-align: top\">156</td>\n",
       "    </tr>\n",
       "</table>\n",
       "[10 rows x 5 columns]<br/>\n",
       "</div>"
      ],
      "text/plain": [
       "Columns:\n",
       "\tuser\tstr\n",
       "\ttitle\tstr\n",
       "\ttags\tstr\n",
       "\tvotes\tint\n",
       "\tviews\tint\n",
       "\n",
       "Rows: 10\n",
       "\n",
       "Data:\n",
       "+---------------------+-------------------------------+---------------------+\n",
       "|         user        |             title             |         tags        |\n",
       "+---------------------+-------------------------------+---------------------+\n",
       "|        Alice        | Why does this innovative m... |      arithmetic     |\n",
       "|         t.b.        | Does the open mapping theo... | functional-analysis |\n",
       "|         t.b.        | Does the open mapping theo... |      set-theory     |\n",
       "|         t.b.        | Does the open mapping theo... |    banach-spaces    |\n",
       "|         t.b.        | Does the open mapping theo... |   axiom-of-choice   |\n",
       "|         t.b.        | Does the open mapping theo... |    baire-category   |\n",
       "| 7 revs, 6 users 50% | What is a good complex ana... |   complex-analysis  |\n",
       "| 7 revs, 6 users 50% | What is a good complex ana... |  reference-request  |\n",
       "| 7 revs, 6 users 50% | What is a good complex ana... | book-recommendation |\n",
       "|       Robert Z      |     The Hole in One Pizza     |  euclidean-geometry |\n",
       "+---------------------+-------------------------------+---------------------+\n",
       "+-------+-------+\n",
       "| votes | views |\n",
       "+-------+-------+\n",
       "|  291  |  291  |\n",
       "|  221  |  221  |\n",
       "|  221  |  221  |\n",
       "|  221  |  221  |\n",
       "|  221  |  221  |\n",
       "|  221  |  221  |\n",
       "|  178  |  178  |\n",
       "|  178  |  178  |\n",
       "|  178  |  178  |\n",
       "|  156  |  156  |\n",
       "+-------+-------+\n",
       "[10 rows x 5 columns]"
      ]
     },
     "execution_count": 125,
     "metadata": {},
     "output_type": "execute_result"
    }
   ],
   "source": [
    "sb = tc.SFrameBuilder(colTypes, colNames)\n",
    "for row in data:\n",
    "    for tag in row['tags']:\n",
    "        sb.append([row['user'], row['title'], tag, row['votes'], row['views']])\n",
    "bigdata = sb.close()\n",
    "bigdata.head()"
   ]
  },
  {
   "cell_type": "code",
   "execution_count": 126,
   "id": "canadian-secondary",
   "metadata": {
    "scrolled": true
   },
   "outputs": [
    {
     "data": {
      "text/html": [
       "<pre>Preparing data set.</pre>"
      ],
      "text/plain": [
       "Preparing data set."
      ]
     },
     "metadata": {},
     "output_type": "display_data"
    },
    {
     "data": {
      "text/html": [
       "<pre>    Data has 2556 observations with 818 users and 495 items.</pre>"
      ],
      "text/plain": [
       "    Data has 2556 observations with 818 users and 495 items."
      ]
     },
     "metadata": {},
     "output_type": "display_data"
    },
    {
     "data": {
      "text/html": [
       "<pre>    Data prepared in: 0.25896s</pre>"
      ],
      "text/plain": [
       "    Data prepared in: 0.25896s"
      ]
     },
     "metadata": {},
     "output_type": "display_data"
    },
    {
     "data": {
      "text/html": [
       "<pre>Training ranking_factorization_recommender for recommendations.</pre>"
      ],
      "text/plain": [
       "Training ranking_factorization_recommender for recommendations."
      ]
     },
     "metadata": {},
     "output_type": "display_data"
    },
    {
     "data": {
      "text/html": [
       "<pre>+--------------------------------+--------------------------------------------------+----------+</pre>"
      ],
      "text/plain": [
       "+--------------------------------+--------------------------------------------------+----------+"
      ]
     },
     "metadata": {},
     "output_type": "display_data"
    },
    {
     "data": {
      "text/html": [
       "<pre>| Parameter                      | Description                                      | Value    |</pre>"
      ],
      "text/plain": [
       "| Parameter                      | Description                                      | Value    |"
      ]
     },
     "metadata": {},
     "output_type": "display_data"
    },
    {
     "data": {
      "text/html": [
       "<pre>+--------------------------------+--------------------------------------------------+----------+</pre>"
      ],
      "text/plain": [
       "+--------------------------------+--------------------------------------------------+----------+"
      ]
     },
     "metadata": {},
     "output_type": "display_data"
    },
    {
     "data": {
      "text/html": [
       "<pre>| num_factors                    | Factor Dimension                                 | 32       |</pre>"
      ],
      "text/plain": [
       "| num_factors                    | Factor Dimension                                 | 32       |"
      ]
     },
     "metadata": {},
     "output_type": "display_data"
    },
    {
     "data": {
      "text/html": [
       "<pre>| regularization                 | L2 Regularization on Factors                     | 1e-09    |</pre>"
      ],
      "text/plain": [
       "| regularization                 | L2 Regularization on Factors                     | 1e-09    |"
      ]
     },
     "metadata": {},
     "output_type": "display_data"
    },
    {
     "data": {
      "text/html": [
       "<pre>| solver                         | Solver used for training                         | adagrad  |</pre>"
      ],
      "text/plain": [
       "| solver                         | Solver used for training                         | adagrad  |"
      ]
     },
     "metadata": {},
     "output_type": "display_data"
    },
    {
     "data": {
      "text/html": [
       "<pre>| linear_regularization          | L2 Regularization on Linear Coefficients         | 1e-09    |</pre>"
      ],
      "text/plain": [
       "| linear_regularization          | L2 Regularization on Linear Coefficients         | 1e-09    |"
      ]
     },
     "metadata": {},
     "output_type": "display_data"
    },
    {
     "data": {
      "text/html": [
       "<pre>| ranking_regularization         | Rank-based Regularization Weight                 | 0.25     |</pre>"
      ],
      "text/plain": [
       "| ranking_regularization         | Rank-based Regularization Weight                 | 0.25     |"
      ]
     },
     "metadata": {},
     "output_type": "display_data"
    },
    {
     "data": {
      "text/html": [
       "<pre>| max_iterations                 | Maximum Number of Iterations                     | 25       |</pre>"
      ],
      "text/plain": [
       "| max_iterations                 | Maximum Number of Iterations                     | 25       |"
      ]
     },
     "metadata": {},
     "output_type": "display_data"
    },
    {
     "data": {
      "text/html": [
       "<pre>+--------------------------------+--------------------------------------------------+----------+</pre>"
      ],
      "text/plain": [
       "+--------------------------------+--------------------------------------------------+----------+"
      ]
     },
     "metadata": {},
     "output_type": "display_data"
    },
    {
     "data": {
      "text/html": [
       "<pre>  Optimizing model using SGD; tuning step size.</pre>"
      ],
      "text/plain": [
       "  Optimizing model using SGD; tuning step size."
      ]
     },
     "metadata": {},
     "output_type": "display_data"
    },
    {
     "data": {
      "text/html": [
       "<pre>  Using 2556 / 2556 points for tuning the step size.</pre>"
      ],
      "text/plain": [
       "  Using 2556 / 2556 points for tuning the step size."
      ]
     },
     "metadata": {},
     "output_type": "display_data"
    },
    {
     "data": {
      "text/html": [
       "<pre>+---------+-------------------+------------------------------------------+</pre>"
      ],
      "text/plain": [
       "+---------+-------------------+------------------------------------------+"
      ]
     },
     "metadata": {},
     "output_type": "display_data"
    },
    {
     "data": {
      "text/html": [
       "<pre>| Attempt | Initial Step Size | Estimated Objective Value                |</pre>"
      ],
      "text/plain": [
       "| Attempt | Initial Step Size | Estimated Objective Value                |"
      ]
     },
     "metadata": {},
     "output_type": "display_data"
    },
    {
     "data": {
      "text/html": [
       "<pre>+---------+-------------------+------------------------------------------+</pre>"
      ],
      "text/plain": [
       "+---------+-------------------+------------------------------------------+"
      ]
     },
     "metadata": {},
     "output_type": "display_data"
    },
    {
     "data": {
      "text/html": [
       "<pre>| 0       | 12.5              | Not Viable                               |</pre>"
      ],
      "text/plain": [
       "| 0       | 12.5              | Not Viable                               |"
      ]
     },
     "metadata": {},
     "output_type": "display_data"
    },
    {
     "data": {
      "text/html": [
       "<pre>| 1       | 3.125             | Not Viable                               |</pre>"
      ],
      "text/plain": [
       "| 1       | 3.125             | Not Viable                               |"
      ]
     },
     "metadata": {},
     "output_type": "display_data"
    },
    {
     "data": {
      "text/html": [
       "<pre>| 2       | 0.78125           | 291.965                                  |</pre>"
      ],
      "text/plain": [
       "| 2       | 0.78125           | 291.965                                  |"
      ]
     },
     "metadata": {},
     "output_type": "display_data"
    },
    {
     "data": {
      "text/html": [
       "<pre>| 3       | 0.390625          | 308.881                                  |</pre>"
      ],
      "text/plain": [
       "| 3       | 0.390625          | 308.881                                  |"
      ]
     },
     "metadata": {},
     "output_type": "display_data"
    },
    {
     "data": {
      "text/html": [
       "<pre>| 4       | 0.195312          | 363.868                                  |</pre>"
      ],
      "text/plain": [
       "| 4       | 0.195312          | 363.868                                  |"
      ]
     },
     "metadata": {},
     "output_type": "display_data"
    },
    {
     "data": {
      "text/html": [
       "<pre>| 5       | 0.0976562         | 426.118                                  |</pre>"
      ],
      "text/plain": [
       "| 5       | 0.0976562         | 426.118                                  |"
      ]
     },
     "metadata": {},
     "output_type": "display_data"
    },
    {
     "data": {
      "text/html": [
       "<pre>+---------+-------------------+------------------------------------------+</pre>"
      ],
      "text/plain": [
       "+---------+-------------------+------------------------------------------+"
      ]
     },
     "metadata": {},
     "output_type": "display_data"
    },
    {
     "data": {
      "text/html": [
       "<pre>| Final   | 0.78125           | 291.965                                  |</pre>"
      ],
      "text/plain": [
       "| Final   | 0.78125           | 291.965                                  |"
      ]
     },
     "metadata": {},
     "output_type": "display_data"
    },
    {
     "data": {
      "text/html": [
       "<pre>+---------+-------------------+------------------------------------------+</pre>"
      ],
      "text/plain": [
       "+---------+-------------------+------------------------------------------+"
      ]
     },
     "metadata": {},
     "output_type": "display_data"
    },
    {
     "data": {
      "text/html": [
       "<pre>Starting Optimization.</pre>"
      ],
      "text/plain": [
       "Starting Optimization."
      ]
     },
     "metadata": {},
     "output_type": "display_data"
    },
    {
     "data": {
      "text/html": [
       "<pre>+---------+--------------+-------------------+-----------------------+-------------+</pre>"
      ],
      "text/plain": [
       "+---------+--------------+-------------------+-----------------------+-------------+"
      ]
     },
     "metadata": {},
     "output_type": "display_data"
    },
    {
     "data": {
      "text/html": [
       "<pre>| Iter.   | Elapsed Time | Approx. Objective | Approx. Training RMSE | Step Size   |</pre>"
      ],
      "text/plain": [
       "| Iter.   | Elapsed Time | Approx. Objective | Approx. Training RMSE | Step Size   |"
      ]
     },
     "metadata": {},
     "output_type": "display_data"
    },
    {
     "data": {
      "text/html": [
       "<pre>+---------+--------------+-------------------+-----------------------+-------------+</pre>"
      ],
      "text/plain": [
       "+---------+--------------+-------------------+-----------------------+-------------+"
      ]
     },
     "metadata": {},
     "output_type": "display_data"
    },
    {
     "data": {
      "text/html": [
       "<pre>| Initial | 263us        | 706.541           | 18.9825               |             |</pre>"
      ],
      "text/plain": [
       "| Initial | 263us        | 706.541           | 18.9825               |             |"
      ]
     },
     "metadata": {},
     "output_type": "display_data"
    },
    {
     "data": {
      "text/html": [
       "<pre>+---------+--------------+-------------------+-----------------------+-------------+</pre>"
      ],
      "text/plain": [
       "+---------+--------------+-------------------+-----------------------+-------------+"
      ]
     },
     "metadata": {},
     "output_type": "display_data"
    },
    {
     "data": {
      "text/html": [
       "<pre>| 1       | 316.899ms    | 796.596           | 15.9663               | 0.78125     |</pre>"
      ],
      "text/plain": [
       "| 1       | 316.899ms    | 796.596           | 15.9663               | 0.78125     |"
      ]
     },
     "metadata": {},
     "output_type": "display_data"
    },
    {
     "data": {
      "text/html": [
       "<pre>| 2       | 360.875ms    | 618.587           | 11.6398               | 0.78125     |</pre>"
      ],
      "text/plain": [
       "| 2       | 360.875ms    | 618.587           | 11.6398               | 0.78125     |"
      ]
     },
     "metadata": {},
     "output_type": "display_data"
    },
    {
     "data": {
      "text/html": [
       "<pre>| 3       | 439.67ms     | 431.122           | 7.80593               | 0.78125     |</pre>"
      ],
      "text/plain": [
       "| 3       | 439.67ms     | 431.122           | 7.80593               | 0.78125     |"
      ]
     },
     "metadata": {},
     "output_type": "display_data"
    },
    {
     "data": {
      "text/html": [
       "<pre>| 4       | 496.457ms    | 372.021           | 7.11772               | 0.78125     |</pre>"
      ],
      "text/plain": [
       "| 4       | 496.457ms    | 372.021           | 7.11772               | 0.78125     |"
      ]
     },
     "metadata": {},
     "output_type": "display_data"
    },
    {
     "data": {
      "text/html": [
       "<pre>| 5       | 565.18ms     | 330.788           | 6.32575               | 0.78125     |</pre>"
      ],
      "text/plain": [
       "| 5       | 565.18ms     | 330.788           | 6.32575               | 0.78125     |"
      ]
     },
     "metadata": {},
     "output_type": "display_data"
    },
    {
     "data": {
      "text/html": [
       "<pre>| 10      | 1.27s        | 251.324           | 6.86016               | 0.78125     |</pre>"
      ],
      "text/plain": [
       "| 10      | 1.27s        | 251.324           | 6.86016               | 0.78125     |"
      ]
     },
     "metadata": {},
     "output_type": "display_data"
    },
    {
     "data": {
      "text/html": [
       "<pre>| 25      | 2.23s        | 133.292           | 6.33598               | 0.78125     |</pre>"
      ],
      "text/plain": [
       "| 25      | 2.23s        | 133.292           | 6.33598               | 0.78125     |"
      ]
     },
     "metadata": {},
     "output_type": "display_data"
    },
    {
     "data": {
      "text/html": [
       "<pre>+---------+--------------+-------------------+-----------------------+-------------+</pre>"
      ],
      "text/plain": [
       "+---------+--------------+-------------------+-----------------------+-------------+"
      ]
     },
     "metadata": {},
     "output_type": "display_data"
    },
    {
     "data": {
      "text/html": [
       "<pre>Optimization Complete: Maximum number of passes through the data reached.</pre>"
      ],
      "text/plain": [
       "Optimization Complete: Maximum number of passes through the data reached."
      ]
     },
     "metadata": {},
     "output_type": "display_data"
    },
    {
     "data": {
      "text/html": [
       "<pre>Computing final objective value and training RMSE.</pre>"
      ],
      "text/plain": [
       "Computing final objective value and training RMSE."
      ]
     },
     "metadata": {},
     "output_type": "display_data"
    },
    {
     "data": {
      "text/html": [
       "<pre>       Final objective value: 126.238</pre>"
      ],
      "text/plain": [
       "       Final objective value: 126.238"
      ]
     },
     "metadata": {},
     "output_type": "display_data"
    },
    {
     "data": {
      "text/html": [
       "<pre>       Final training RMSE: 6.3417</pre>"
      ],
      "text/plain": [
       "       Final training RMSE: 6.3417"
      ]
     },
     "metadata": {},
     "output_type": "display_data"
    }
   ],
   "source": [
    "m = tc.recommender.create(bigdata, user_id='user', item_id='tags', target='votes')"
   ]
  },
  {
   "cell_type": "code",
   "execution_count": 131,
   "id": "electrical-yukon",
   "metadata": {},
   "outputs": [
    {
     "name": "stdout",
     "output_type": "stream",
     "text": [
      "['pi', 'education', 'functions', 'geometry', 'intuition', 'inverse', 'continuity', 'motivation', 'recurrence-relations', 'cw-complexes']\n"
     ]
    }
   ],
   "source": [
    "rec = m.recommend(tc.SArray(['Adam Freymiller']))\n",
    "print(rec['tags'])"
   ]
  },
  {
   "cell_type": "code",
   "execution_count": 132,
   "id": "welcome-effort",
   "metadata": {
    "scrolled": true
   },
   "outputs": [
    {
     "data": {
      "text/html": [
       "<pre>Warning: Ignoring columns title, votes, views;</pre>"
      ],
      "text/plain": [
       "Warning: Ignoring columns title, votes, views;"
      ]
     },
     "metadata": {},
     "output_type": "display_data"
    },
    {
     "data": {
      "text/html": [
       "<pre> To use one of these as a rating column, specify the column name to be used as target</pre>"
      ],
      "text/plain": [
       " To use one of these as a rating column, specify the column name to be used as target"
      ]
     },
     "metadata": {},
     "output_type": "display_data"
    },
    {
     "data": {
      "text/html": [
       "<pre>    and use a method that allows the use of a target.</pre>"
      ],
      "text/plain": [
       "    and use a method that allows the use of a target."
      ]
     },
     "metadata": {},
     "output_type": "display_data"
    },
    {
     "data": {
      "text/html": [
       "<pre>Preparing data set.</pre>"
      ],
      "text/plain": [
       "Preparing data set."
      ]
     },
     "metadata": {},
     "output_type": "display_data"
    },
    {
     "data": {
      "text/html": [
       "<pre>    Data has 2556 observations with 818 users and 495 items.</pre>"
      ],
      "text/plain": [
       "    Data has 2556 observations with 818 users and 495 items."
      ]
     },
     "metadata": {},
     "output_type": "display_data"
    },
    {
     "data": {
      "text/html": [
       "<pre>    Data prepared in: 0.158545s</pre>"
      ],
      "text/plain": [
       "    Data prepared in: 0.158545s"
      ]
     },
     "metadata": {},
     "output_type": "display_data"
    },
    {
     "data": {
      "text/html": [
       "<pre>Training model from provided data.</pre>"
      ],
      "text/plain": [
       "Training model from provided data."
      ]
     },
     "metadata": {},
     "output_type": "display_data"
    },
    {
     "data": {
      "text/html": [
       "<pre>Gathering per-item and per-user statistics.</pre>"
      ],
      "text/plain": [
       "Gathering per-item and per-user statistics."
      ]
     },
     "metadata": {},
     "output_type": "display_data"
    },
    {
     "data": {
      "text/html": [
       "<pre>+--------------------------------+------------+</pre>"
      ],
      "text/plain": [
       "+--------------------------------+------------+"
      ]
     },
     "metadata": {},
     "output_type": "display_data"
    },
    {
     "data": {
      "text/html": [
       "<pre>| Elapsed Time (Item Statistics) | % Complete |</pre>"
      ],
      "text/plain": [
       "| Elapsed Time (Item Statistics) | % Complete |"
      ]
     },
     "metadata": {},
     "output_type": "display_data"
    },
    {
     "data": {
      "text/html": [
       "<pre>+--------------------------------+------------+</pre>"
      ],
      "text/plain": [
       "+--------------------------------+------------+"
      ]
     },
     "metadata": {},
     "output_type": "display_data"
    },
    {
     "data": {
      "text/html": [
       "<pre>| 306.094ms                      | 100        |</pre>"
      ],
      "text/plain": [
       "| 306.094ms                      | 100        |"
      ]
     },
     "metadata": {},
     "output_type": "display_data"
    },
    {
     "data": {
      "text/html": [
       "<pre>+--------------------------------+------------+</pre>"
      ],
      "text/plain": [
       "+--------------------------------+------------+"
      ]
     },
     "metadata": {},
     "output_type": "display_data"
    },
    {
     "data": {
      "text/html": [
       "<pre>Setting up lookup tables.</pre>"
      ],
      "text/plain": [
       "Setting up lookup tables."
      ]
     },
     "metadata": {},
     "output_type": "display_data"
    },
    {
     "data": {
      "text/html": [
       "<pre>Processing data in one pass using dense lookup tables.</pre>"
      ],
      "text/plain": [
       "Processing data in one pass using dense lookup tables."
      ]
     },
     "metadata": {},
     "output_type": "display_data"
    },
    {
     "data": {
      "text/html": [
       "<pre>+-------------------------------------+------------------+-----------------+</pre>"
      ],
      "text/plain": [
       "+-------------------------------------+------------------+-----------------+"
      ]
     },
     "metadata": {},
     "output_type": "display_data"
    },
    {
     "data": {
      "text/html": [
       "<pre>| Elapsed Time (Constructing Lookups) | Total % Complete | Items Processed |</pre>"
      ],
      "text/plain": [
       "| Elapsed Time (Constructing Lookups) | Total % Complete | Items Processed |"
      ]
     },
     "metadata": {},
     "output_type": "display_data"
    },
    {
     "data": {
      "text/html": [
       "<pre>+-------------------------------------+------------------+-----------------+</pre>"
      ],
      "text/plain": [
       "+-------------------------------------+------------------+-----------------+"
      ]
     },
     "metadata": {},
     "output_type": "display_data"
    },
    {
     "data": {
      "text/html": [
       "<pre>| 310.09ms                            | 0                | 0               |</pre>"
      ],
      "text/plain": [
       "| 310.09ms                            | 0                | 0               |"
      ]
     },
     "metadata": {},
     "output_type": "display_data"
    },
    {
     "data": {
      "text/html": [
       "<pre>| 541.065ms                           | 100              | 495             |</pre>"
      ],
      "text/plain": [
       "| 541.065ms                           | 100              | 495             |"
      ]
     },
     "metadata": {},
     "output_type": "display_data"
    },
    {
     "data": {
      "text/html": [
       "<pre>+-------------------------------------+------------------+-----------------+</pre>"
      ],
      "text/plain": [
       "+-------------------------------------+------------------+-----------------+"
      ]
     },
     "metadata": {},
     "output_type": "display_data"
    },
    {
     "data": {
      "text/html": [
       "<pre>Finalizing lookup tables.</pre>"
      ],
      "text/plain": [
       "Finalizing lookup tables."
      ]
     },
     "metadata": {},
     "output_type": "display_data"
    },
    {
     "data": {
      "text/html": [
       "<pre>Generating candidate set for working with new users.</pre>"
      ],
      "text/plain": [
       "Generating candidate set for working with new users."
      ]
     },
     "metadata": {},
     "output_type": "display_data"
    },
    {
     "data": {
      "text/html": [
       "<pre>Finished training in 0.616062s</pre>"
      ],
      "text/plain": [
       "Finished training in 0.616062s"
      ]
     },
     "metadata": {},
     "output_type": "display_data"
    }
   ],
   "source": [
    "m = tc.recommender.create(bigdata, user_id='user', item_id='tags')"
   ]
  },
  {
   "cell_type": "code",
   "execution_count": 133,
   "id": "nominated-aspect",
   "metadata": {},
   "outputs": [
    {
     "name": "stdout",
     "output_type": "stream",
     "text": [
      "['normal-distribution', 'probability-theory', 'probability-distributions', 'random-walk', 'statistical-inference', 'standard-deviation', 'average', 'characteristic-functions', 'numerical-linear-algebra', 'fourier-analysis']\n"
     ]
    }
   ],
   "source": [
    "rec = m.recommend(tc.SArray(['Adam Freymiller']))\n",
    "print(rec['tags'])"
   ]
  },
  {
   "cell_type": "code",
   "execution_count": 134,
   "id": "bearing-rolling",
   "metadata": {},
   "outputs": [
    {
     "data": {
      "text/plain": [
       "False"
      ]
     },
     "execution_count": 134,
     "metadata": {},
     "output_type": "execute_result"
    }
   ],
   "source": [
    "all([vo == vi for vo, vi in zip(data['votes'], data['views'])])"
   ]
  },
  {
   "cell_type": "code",
   "execution_count": 140,
   "id": "concerned-biotechnology",
   "metadata": {
    "scrolled": true
   },
   "outputs": [
    {
     "name": "stdout",
     "output_type": "stream",
     "text": [
      "Applying transform:\n",
      "Class             : AutoVectorizer\n",
      "\n",
      "Model Fields\n",
      "------------\n",
      "Features          : ['user', 'title', 'votes', 'views']\n",
      "Excluded Features : ['tags']\n",
      "\n",
      "Column  Type  Interpretation  Transforms                         Output Type\n",
      "------  ----  --------------  ---------------------------------  -----------\n",
      "user    str   categorical     None                               str        \n",
      "title   str   short_text      3-Character NGram Counts -> TFIDF  dict       \n",
      "votes   int   numerical       None                               int        \n",
      "views   int   numerical       None                               int        \n",
      "\n",
      "\n",
      "Defaulting to brute force instead of ball tree because there are multiple distance components.\n"
     ]
    },
    {
     "data": {
      "text/html": [
       "<pre>Starting brute force nearest neighbors model training.</pre>"
      ],
      "text/plain": [
       "Starting brute force nearest neighbors model training."
      ]
     },
     "metadata": {},
     "output_type": "display_data"
    },
    {
     "data": {
      "text/html": [
       "<pre>Validating distance components.</pre>"
      ],
      "text/plain": [
       "Validating distance components."
      ]
     },
     "metadata": {},
     "output_type": "display_data"
    },
    {
     "data": {
      "text/html": [
       "<pre>Initializing model data.</pre>"
      ],
      "text/plain": [
       "Initializing model data."
      ]
     },
     "metadata": {},
     "output_type": "display_data"
    },
    {
     "data": {
      "text/html": [
       "<pre>Initializing distances.</pre>"
      ],
      "text/plain": [
       "Initializing distances."
      ]
     },
     "metadata": {},
     "output_type": "display_data"
    },
    {
     "data": {
      "text/html": [
       "<pre>Done.</pre>"
      ],
      "text/plain": [
       "Done."
      ]
     },
     "metadata": {},
     "output_type": "display_data"
    },
    {
     "data": {
      "text/html": [
       "<pre>Starting pairwise querying.</pre>"
      ],
      "text/plain": [
       "Starting pairwise querying."
      ]
     },
     "metadata": {},
     "output_type": "display_data"
    },
    {
     "data": {
      "text/html": [
       "<pre>+--------------+---------+-------------+--------------+</pre>"
      ],
      "text/plain": [
       "+--------------+---------+-------------+--------------+"
      ]
     },
     "metadata": {},
     "output_type": "display_data"
    },
    {
     "data": {
      "text/html": [
       "<pre>| Query points | # Pairs | % Complete. | Elapsed Time |</pre>"
      ],
      "text/plain": [
       "| Query points | # Pairs | % Complete. | Elapsed Time |"
      ]
     },
     "metadata": {},
     "output_type": "display_data"
    },
    {
     "data": {
      "text/html": [
       "<pre>+--------------+---------+-------------+--------------+</pre>"
      ],
      "text/plain": [
       "+--------------+---------+-------------+--------------+"
      ]
     },
     "metadata": {},
     "output_type": "display_data"
    },
    {
     "data": {
      "text/html": [
       "<pre>| 1            | 2556    | 0.0391236   | 91.445ms     |</pre>"
      ],
      "text/plain": [
       "| 1            | 2556    | 0.0391236   | 91.445ms     |"
      ]
     },
     "metadata": {},
     "output_type": "display_data"
    },
    {
     "data": {
      "text/html": [
       "<pre>| Done         |         | 100         | 863.152ms    |</pre>"
      ],
      "text/plain": [
       "| Done         |         | 100         | 863.152ms    |"
      ]
     },
     "metadata": {},
     "output_type": "display_data"
    },
    {
     "data": {
      "text/html": [
       "<pre>+--------------+---------+-------------+--------------+</pre>"
      ],
      "text/plain": [
       "+--------------+---------+-------------+--------------+"
      ]
     },
     "metadata": {},
     "output_type": "display_data"
    },
    {
     "data": {
      "text/html": [
       "<pre>Preparing data set.</pre>"
      ],
      "text/plain": [
       "Preparing data set."
      ]
     },
     "metadata": {},
     "output_type": "display_data"
    },
    {
     "data": {
      "text/html": [
       "<pre>    Data has 0 observations with 0 users and 495 items.</pre>"
      ],
      "text/plain": [
       "    Data has 0 observations with 0 users and 495 items."
      ]
     },
     "metadata": {},
     "output_type": "display_data"
    },
    {
     "data": {
      "text/html": [
       "<pre>    Data prepared in: 1.00585s</pre>"
      ],
      "text/plain": [
       "    Data prepared in: 1.00585s"
      ]
     },
     "metadata": {},
     "output_type": "display_data"
    },
    {
     "data": {
      "text/html": [
       "<pre>Loading user-provided nearest items.</pre>"
      ],
      "text/plain": [
       "Loading user-provided nearest items."
      ]
     },
     "metadata": {},
     "output_type": "display_data"
    },
    {
     "data": {
      "text/html": [
       "<pre>Generating candidate set for working with new users.</pre>"
      ],
      "text/plain": [
       "Generating candidate set for working with new users."
      ]
     },
     "metadata": {},
     "output_type": "display_data"
    },
    {
     "data": {
      "text/html": [
       "<pre>Finished training in 0.089273s</pre>"
      ],
      "text/plain": [
       "Finished training in 0.089273s"
      ]
     },
     "metadata": {},
     "output_type": "display_data"
    }
   ],
   "source": [
    "itemcontent = tc.recommender.item_content_recommender.create(bigdata, item_id='tags')"
   ]
  },
  {
   "cell_type": "code",
   "execution_count": 142,
   "id": "liked-israeli",
   "metadata": {
    "scrolled": true
   },
   "outputs": [
    {
     "ename": "ValueError",
     "evalue": "When users are not specified with the model, new_observation_data must be set in order to make recommendations.",
     "output_type": "error",
     "traceback": [
      "\u001b[0;31m---------------------------------------------------------------------------\u001b[0m",
      "\u001b[0;31mValueError\u001b[0m                                Traceback (most recent call last)",
      "\u001b[0;32m<ipython-input-142-bc56f341ca3d>\u001b[0m in \u001b[0;36m<module>\u001b[0;34m\u001b[0m\n\u001b[0;32m----> 1\u001b[0;31m \u001b[0mcontentRec\u001b[0m \u001b[0;34m=\u001b[0m \u001b[0mitemcontent\u001b[0m\u001b[0;34m.\u001b[0m\u001b[0mrecommend\u001b[0m\u001b[0;34m(\u001b[0m\u001b[0mtc\u001b[0m\u001b[0;34m.\u001b[0m\u001b[0mSArray\u001b[0m\u001b[0;34m(\u001b[0m\u001b[0;34m[\u001b[0m\u001b[0;34m'Adam Freymiller'\u001b[0m\u001b[0;34m]\u001b[0m\u001b[0;34m)\u001b[0m\u001b[0;34m)\u001b[0m\u001b[0;34m\u001b[0m\u001b[0;34m\u001b[0m\u001b[0m\n\u001b[0m",
      "\u001b[0;32m/opt/conda/lib/python3.8/site-packages/turicreate/toolkits/recommender/util.py\u001b[0m in \u001b[0;36mrecommend\u001b[0;34m(self, users, k, exclude, items, new_observation_data, new_user_data, new_item_data, exclude_known, diversity, random_seed, verbose)\u001b[0m\n\u001b[1;32m   1294\u001b[0m \u001b[0;34m\u001b[0m\u001b[0m\n\u001b[1;32m   1295\u001b[0m                 \u001b[0;32mif\u001b[0m \u001b[0mnew_observation_data\u001b[0m\u001b[0;34m.\u001b[0m\u001b[0mnum_rows\u001b[0m\u001b[0;34m(\u001b[0m\u001b[0;34m)\u001b[0m \u001b[0;34m==\u001b[0m \u001b[0;36m0\u001b[0m\u001b[0;34m:\u001b[0m\u001b[0;34m\u001b[0m\u001b[0;34m\u001b[0m\u001b[0m\n\u001b[0;32m-> 1296\u001b[0;31m                     raise ValueError(\n\u001b[0m\u001b[1;32m   1297\u001b[0m                         \u001b[0;34m\"When users are not specified with the model, \"\u001b[0m\u001b[0;34m\u001b[0m\u001b[0;34m\u001b[0m\u001b[0m\n\u001b[1;32m   1298\u001b[0m                         \u001b[0;34m\"new_observation_data must be set in order to make recommendations.\"\u001b[0m\u001b[0;34m\u001b[0m\u001b[0;34m\u001b[0m\u001b[0m\n",
      "\u001b[0;31mValueError\u001b[0m: When users are not specified with the model, new_observation_data must be set in order to make recommendations."
     ]
    }
   ],
   "source": [
    "contentRec = itemcontent.recommend(tc.SArray(['Adam Freymiller']))"
   ]
  },
  {
   "cell_type": "code",
   "execution_count": 141,
   "id": "median-stuart",
   "metadata": {
    "scrolled": true
   },
   "outputs": [
    {
     "data": {
      "text/html": [
       "<pre>Warning: Ignoring columns title, votes, views;</pre>"
      ],
      "text/plain": [
       "Warning: Ignoring columns title, votes, views;"
      ]
     },
     "metadata": {},
     "output_type": "display_data"
    },
    {
     "data": {
      "text/html": [
       "<pre> To use one of these as a rating column, specify the column name to be used as target</pre>"
      ],
      "text/plain": [
       " To use one of these as a rating column, specify the column name to be used as target"
      ]
     },
     "metadata": {},
     "output_type": "display_data"
    },
    {
     "data": {
      "text/html": [
       "<pre>    and use a method that allows the use of a target.</pre>"
      ],
      "text/plain": [
       "    and use a method that allows the use of a target."
      ]
     },
     "metadata": {},
     "output_type": "display_data"
    },
    {
     "data": {
      "text/html": [
       "<pre>Preparing data set.</pre>"
      ],
      "text/plain": [
       "Preparing data set."
      ]
     },
     "metadata": {},
     "output_type": "display_data"
    },
    {
     "data": {
      "text/html": [
       "<pre>    Data has 2556 observations with 818 users and 495 items.</pre>"
      ],
      "text/plain": [
       "    Data has 2556 observations with 818 users and 495 items."
      ]
     },
     "metadata": {},
     "output_type": "display_data"
    },
    {
     "data": {
      "text/html": [
       "<pre>    Data prepared in: 0.163328s</pre>"
      ],
      "text/plain": [
       "    Data prepared in: 0.163328s"
      ]
     },
     "metadata": {},
     "output_type": "display_data"
    },
    {
     "data": {
      "text/html": [
       "<pre>Training model from provided data.</pre>"
      ],
      "text/plain": [
       "Training model from provided data."
      ]
     },
     "metadata": {},
     "output_type": "display_data"
    },
    {
     "data": {
      "text/html": [
       "<pre>Gathering per-item and per-user statistics.</pre>"
      ],
      "text/plain": [
       "Gathering per-item and per-user statistics."
      ]
     },
     "metadata": {},
     "output_type": "display_data"
    },
    {
     "data": {
      "text/html": [
       "<pre>+--------------------------------+------------+</pre>"
      ],
      "text/plain": [
       "+--------------------------------+------------+"
      ]
     },
     "metadata": {},
     "output_type": "display_data"
    },
    {
     "data": {
      "text/html": [
       "<pre>| Elapsed Time (Item Statistics) | % Complete |</pre>"
      ],
      "text/plain": [
       "| Elapsed Time (Item Statistics) | % Complete |"
      ]
     },
     "metadata": {},
     "output_type": "display_data"
    },
    {
     "data": {
      "text/html": [
       "<pre>+--------------------------------+------------+</pre>"
      ],
      "text/plain": [
       "+--------------------------------+------------+"
      ]
     },
     "metadata": {},
     "output_type": "display_data"
    },
    {
     "data": {
      "text/html": [
       "<pre>| 250.478ms                      | 100        |</pre>"
      ],
      "text/plain": [
       "| 250.478ms                      | 100        |"
      ]
     },
     "metadata": {},
     "output_type": "display_data"
    },
    {
     "data": {
      "text/html": [
       "<pre>+--------------------------------+------------+</pre>"
      ],
      "text/plain": [
       "+--------------------------------+------------+"
      ]
     },
     "metadata": {},
     "output_type": "display_data"
    },
    {
     "data": {
      "text/html": [
       "<pre>Setting up lookup tables.</pre>"
      ],
      "text/plain": [
       "Setting up lookup tables."
      ]
     },
     "metadata": {},
     "output_type": "display_data"
    },
    {
     "data": {
      "text/html": [
       "<pre>Processing data in one pass using dense lookup tables.</pre>"
      ],
      "text/plain": [
       "Processing data in one pass using dense lookup tables."
      ]
     },
     "metadata": {},
     "output_type": "display_data"
    },
    {
     "data": {
      "text/html": [
       "<pre>+-------------------------------------+------------------+-----------------+</pre>"
      ],
      "text/plain": [
       "+-------------------------------------+------------------+-----------------+"
      ]
     },
     "metadata": {},
     "output_type": "display_data"
    },
    {
     "data": {
      "text/html": [
       "<pre>| Elapsed Time (Constructing Lookups) | Total % Complete | Items Processed |</pre>"
      ],
      "text/plain": [
       "| Elapsed Time (Constructing Lookups) | Total % Complete | Items Processed |"
      ]
     },
     "metadata": {},
     "output_type": "display_data"
    },
    {
     "data": {
      "text/html": [
       "<pre>+-------------------------------------+------------------+-----------------+</pre>"
      ],
      "text/plain": [
       "+-------------------------------------+------------------+-----------------+"
      ]
     },
     "metadata": {},
     "output_type": "display_data"
    },
    {
     "data": {
      "text/html": [
       "<pre>| 264.455ms                           | 0                | 0               |</pre>"
      ],
      "text/plain": [
       "| 264.455ms                           | 0                | 0               |"
      ]
     },
     "metadata": {},
     "output_type": "display_data"
    },
    {
     "data": {
      "text/html": [
       "<pre>| 688.151ms                           | 100              | 495             |</pre>"
      ],
      "text/plain": [
       "| 688.151ms                           | 100              | 495             |"
      ]
     },
     "metadata": {},
     "output_type": "display_data"
    },
    {
     "data": {
      "text/html": [
       "<pre>+-------------------------------------+------------------+-----------------+</pre>"
      ],
      "text/plain": [
       "+-------------------------------------+------------------+-----------------+"
      ]
     },
     "metadata": {},
     "output_type": "display_data"
    },
    {
     "data": {
      "text/html": [
       "<pre>Finalizing lookup tables.</pre>"
      ],
      "text/plain": [
       "Finalizing lookup tables."
      ]
     },
     "metadata": {},
     "output_type": "display_data"
    },
    {
     "data": {
      "text/html": [
       "<pre>Generating candidate set for working with new users.</pre>"
      ],
      "text/plain": [
       "Generating candidate set for working with new users."
      ]
     },
     "metadata": {},
     "output_type": "display_data"
    },
    {
     "data": {
      "text/html": [
       "<pre>Finished training in 0.784466s</pre>"
      ],
      "text/plain": [
       "Finished training in 0.784466s"
      ]
     },
     "metadata": {},
     "output_type": "display_data"
    }
   ],
   "source": [
    "itemsimilarity = tc.recommender.item_similarity_recommender.create(bigdata, 'user', 'tags')"
   ]
  },
  {
   "cell_type": "code",
   "execution_count": 145,
   "id": "single-fight",
   "metadata": {
    "scrolled": true
   },
   "outputs": [
    {
     "name": "stdout",
     "output_type": "stream",
     "text": [
      "['normal-distribution', 'probability-theory', 'probability-distributions', 'random-walk', 'statistical-inference', 'standard-deviation', 'average', 'characteristic-functions', 'numerical-linear-algebra', 'fourier-analysis']\n"
     ]
    },
    {
     "ename": "RuntimeError",
     "evalue": "Column name title does not exist.",
     "output_type": "error",
     "traceback": [
      "\u001b[0;31m---------------------------------------------------------------------------\u001b[0m",
      "\u001b[0;31mRuntimeError\u001b[0m                              Traceback (most recent call last)",
      "\u001b[0;32m/opt/conda/lib/python3.8/site-packages/turicreate/data_structures/sframe.py\u001b[0m in \u001b[0;36mselect_column\u001b[0;34m(self, column_name)\u001b[0m\n\u001b[1;32m   3315\u001b[0m         \u001b[0;32mwith\u001b[0m \u001b[0mcython_context\u001b[0m\u001b[0;34m(\u001b[0m\u001b[0;34m)\u001b[0m\u001b[0;34m:\u001b[0m\u001b[0;34m\u001b[0m\u001b[0;34m\u001b[0m\u001b[0m\n\u001b[0;32m-> 3316\u001b[0;31m             \u001b[0;32mreturn\u001b[0m \u001b[0mSArray\u001b[0m\u001b[0;34m(\u001b[0m\u001b[0mdata\u001b[0m\u001b[0;34m=\u001b[0m\u001b[0;34m[\u001b[0m\u001b[0;34m]\u001b[0m\u001b[0;34m,\u001b[0m \u001b[0m_proxy\u001b[0m\u001b[0;34m=\u001b[0m\u001b[0mself\u001b[0m\u001b[0;34m.\u001b[0m\u001b[0m__proxy__\u001b[0m\u001b[0;34m.\u001b[0m\u001b[0mselect_column\u001b[0m\u001b[0;34m(\u001b[0m\u001b[0mcolumn_name\u001b[0m\u001b[0;34m)\u001b[0m\u001b[0;34m)\u001b[0m\u001b[0;34m\u001b[0m\u001b[0;34m\u001b[0m\u001b[0m\n\u001b[0m\u001b[1;32m   3317\u001b[0m \u001b[0;34m\u001b[0m\u001b[0m\n",
      "\u001b[0;32mcy_sframe.pyx\u001b[0m in \u001b[0;36mturicreate._cython.cy_sframe.UnitySFrameProxy.select_column\u001b[0;34m()\u001b[0m\n",
      "\u001b[0;32mcy_sframe.pyx\u001b[0m in \u001b[0;36mturicreate._cython.cy_sframe.UnitySFrameProxy.select_column\u001b[0;34m()\u001b[0m\n",
      "\u001b[0;31mRuntimeError\u001b[0m: Column name title does not exist.",
      "\nDuring handling of the above exception, another exception occurred:\n",
      "\u001b[0;31mRuntimeError\u001b[0m                              Traceback (most recent call last)",
      "\u001b[0;32m<ipython-input-145-e4b52956d64d>\u001b[0m in \u001b[0;36m<module>\u001b[0;34m\u001b[0m\n\u001b[1;32m      1\u001b[0m \u001b[0msimRec\u001b[0m \u001b[0;34m=\u001b[0m \u001b[0mitemsimilarity\u001b[0m\u001b[0;34m.\u001b[0m\u001b[0mrecommend\u001b[0m\u001b[0;34m(\u001b[0m\u001b[0mtc\u001b[0m\u001b[0;34m.\u001b[0m\u001b[0mSArray\u001b[0m\u001b[0;34m(\u001b[0m\u001b[0;34m[\u001b[0m\u001b[0;34m'Adam Freymiller'\u001b[0m\u001b[0;34m]\u001b[0m\u001b[0;34m)\u001b[0m\u001b[0;34m)\u001b[0m\u001b[0;34m\u001b[0m\u001b[0;34m\u001b[0m\u001b[0m\n\u001b[1;32m      2\u001b[0m \u001b[0mprint\u001b[0m\u001b[0;34m(\u001b[0m\u001b[0msimRec\u001b[0m\u001b[0;34m[\u001b[0m\u001b[0;34m'tags'\u001b[0m\u001b[0;34m]\u001b[0m\u001b[0;34m)\u001b[0m\u001b[0;34m\u001b[0m\u001b[0;34m\u001b[0m\u001b[0m\n\u001b[0;32m----> 3\u001b[0;31m \u001b[0mprint\u001b[0m\u001b[0;34m(\u001b[0m\u001b[0msimRec\u001b[0m\u001b[0;34m[\u001b[0m\u001b[0;34m'title'\u001b[0m\u001b[0;34m]\u001b[0m\u001b[0;34m)\u001b[0m\u001b[0;34m\u001b[0m\u001b[0;34m\u001b[0m\u001b[0m\n\u001b[0m",
      "\u001b[0;32m/opt/conda/lib/python3.8/site-packages/turicreate/data_structures/sframe.py\u001b[0m in \u001b[0;36m__getitem__\u001b[0;34m(self, key)\u001b[0m\n\u001b[1;32m   3822\u001b[0m             \u001b[0;32mif\u001b[0m \u001b[0msix\u001b[0m\u001b[0;34m.\u001b[0m\u001b[0mPY2\u001b[0m \u001b[0;32mand\u001b[0m \u001b[0mtype\u001b[0m\u001b[0;34m(\u001b[0m\u001b[0mkey\u001b[0m\u001b[0;34m)\u001b[0m \u001b[0;34m==\u001b[0m \u001b[0municode\u001b[0m\u001b[0;34m:\u001b[0m\u001b[0;34m\u001b[0m\u001b[0;34m\u001b[0m\u001b[0m\n\u001b[1;32m   3823\u001b[0m                 \u001b[0mkey\u001b[0m \u001b[0;34m=\u001b[0m \u001b[0mkey\u001b[0m\u001b[0;34m.\u001b[0m\u001b[0mencode\u001b[0m\u001b[0;34m(\u001b[0m\u001b[0;34m\"utf-8\"\u001b[0m\u001b[0;34m)\u001b[0m\u001b[0;34m\u001b[0m\u001b[0;34m\u001b[0m\u001b[0m\n\u001b[0;32m-> 3824\u001b[0;31m             \u001b[0;32mreturn\u001b[0m \u001b[0mself\u001b[0m\u001b[0;34m.\u001b[0m\u001b[0mselect_column\u001b[0m\u001b[0;34m(\u001b[0m\u001b[0mkey\u001b[0m\u001b[0;34m)\u001b[0m\u001b[0;34m\u001b[0m\u001b[0;34m\u001b[0m\u001b[0m\n\u001b[0m\u001b[1;32m   3825\u001b[0m         \u001b[0;32melif\u001b[0m \u001b[0mtype\u001b[0m\u001b[0;34m(\u001b[0m\u001b[0mkey\u001b[0m\u001b[0;34m)\u001b[0m \u001b[0;32mis\u001b[0m \u001b[0mtype\u001b[0m\u001b[0;34m:\u001b[0m\u001b[0;34m\u001b[0m\u001b[0;34m\u001b[0m\u001b[0m\n\u001b[1;32m   3826\u001b[0m             \u001b[0;32mreturn\u001b[0m \u001b[0mself\u001b[0m\u001b[0;34m.\u001b[0m\u001b[0mselect_columns\u001b[0m\u001b[0;34m(\u001b[0m\u001b[0;34m[\u001b[0m\u001b[0mkey\u001b[0m\u001b[0;34m]\u001b[0m\u001b[0;34m)\u001b[0m\u001b[0;34m\u001b[0m\u001b[0;34m\u001b[0m\u001b[0m\n",
      "\u001b[0;32m/opt/conda/lib/python3.8/site-packages/turicreate/data_structures/sframe.py\u001b[0m in \u001b[0;36mselect_column\u001b[0;34m(self, column_name)\u001b[0m\n\u001b[1;32m   3314\u001b[0m             \u001b[0;32mraise\u001b[0m \u001b[0mTypeError\u001b[0m\u001b[0;34m(\u001b[0m\u001b[0;34m\"Invalid column_nametype: must be str\"\u001b[0m\u001b[0;34m)\u001b[0m\u001b[0;34m\u001b[0m\u001b[0;34m\u001b[0m\u001b[0m\n\u001b[1;32m   3315\u001b[0m         \u001b[0;32mwith\u001b[0m \u001b[0mcython_context\u001b[0m\u001b[0;34m(\u001b[0m\u001b[0;34m)\u001b[0m\u001b[0;34m:\u001b[0m\u001b[0;34m\u001b[0m\u001b[0;34m\u001b[0m\u001b[0m\n\u001b[0;32m-> 3316\u001b[0;31m             \u001b[0;32mreturn\u001b[0m \u001b[0mSArray\u001b[0m\u001b[0;34m(\u001b[0m\u001b[0mdata\u001b[0m\u001b[0;34m=\u001b[0m\u001b[0;34m[\u001b[0m\u001b[0;34m]\u001b[0m\u001b[0;34m,\u001b[0m \u001b[0m_proxy\u001b[0m\u001b[0;34m=\u001b[0m\u001b[0mself\u001b[0m\u001b[0;34m.\u001b[0m\u001b[0m__proxy__\u001b[0m\u001b[0;34m.\u001b[0m\u001b[0mselect_column\u001b[0m\u001b[0;34m(\u001b[0m\u001b[0mcolumn_name\u001b[0m\u001b[0;34m)\u001b[0m\u001b[0;34m)\u001b[0m\u001b[0;34m\u001b[0m\u001b[0;34m\u001b[0m\u001b[0m\n\u001b[0m\u001b[1;32m   3317\u001b[0m \u001b[0;34m\u001b[0m\u001b[0m\n\u001b[1;32m   3318\u001b[0m     \u001b[0;32mdef\u001b[0m \u001b[0mselect_columns\u001b[0m\u001b[0;34m(\u001b[0m\u001b[0mself\u001b[0m\u001b[0;34m,\u001b[0m \u001b[0mcolumn_names\u001b[0m\u001b[0;34m)\u001b[0m\u001b[0;34m:\u001b[0m\u001b[0;34m\u001b[0m\u001b[0;34m\u001b[0m\u001b[0m\n",
      "\u001b[0;32m/opt/conda/lib/python3.8/site-packages/turicreate/_cython/context.py\u001b[0m in \u001b[0;36m__exit__\u001b[0;34m(self, exc_type, exc_value, traceback)\u001b[0m\n\u001b[1;32m     48\u001b[0m             \u001b[0;32mif\u001b[0m \u001b[0;32mnot\u001b[0m \u001b[0mself\u001b[0m\u001b[0;34m.\u001b[0m\u001b[0mshow_cython_trace\u001b[0m\u001b[0;34m:\u001b[0m\u001b[0;34m\u001b[0m\u001b[0;34m\u001b[0m\u001b[0m\n\u001b[1;32m     49\u001b[0m                 \u001b[0;31m# To hide cython trace, we re-raise from here\u001b[0m\u001b[0;34m\u001b[0m\u001b[0;34m\u001b[0m\u001b[0;34m\u001b[0m\u001b[0m\n\u001b[0;32m---> 50\u001b[0;31m                 \u001b[0;32mraise\u001b[0m \u001b[0mexc_type\u001b[0m\u001b[0;34m(\u001b[0m\u001b[0mexc_value\u001b[0m\u001b[0;34m)\u001b[0m\u001b[0;34m\u001b[0m\u001b[0;34m\u001b[0m\u001b[0m\n\u001b[0m\u001b[1;32m     51\u001b[0m             \u001b[0;32melse\u001b[0m\u001b[0;34m:\u001b[0m\u001b[0;34m\u001b[0m\u001b[0;34m\u001b[0m\u001b[0m\n\u001b[1;32m     52\u001b[0m                 \u001b[0;31m# To show the full trace, we do nothing and let exception propagate\u001b[0m\u001b[0;34m\u001b[0m\u001b[0;34m\u001b[0m\u001b[0;34m\u001b[0m\u001b[0m\n",
      "\u001b[0;31mRuntimeError\u001b[0m: Column name title does not exist."
     ]
    }
   ],
   "source": [
    "simRec = itemsimilarity.recommend(tc.SArray(['Adam Freymiller']))\n",
    "print(simRec['tags'])\n",
    "#print(simRec['title'])"
   ]
  },
  {
   "cell_type": "code",
   "execution_count": 149,
   "id": "gorgeous-moral",
   "metadata": {
    "scrolled": true
   },
   "outputs": [
    {
     "data": {
      "text/html": [
       "<pre>Preparing data set.</pre>"
      ],
      "text/plain": [
       "Preparing data set."
      ]
     },
     "metadata": {},
     "output_type": "display_data"
    },
    {
     "data": {
      "text/html": [
       "<pre>    Data has 2556 observations with 818 users and 936 items.</pre>"
      ],
      "text/plain": [
       "    Data has 2556 observations with 818 users and 936 items."
      ]
     },
     "metadata": {},
     "output_type": "display_data"
    },
    {
     "data": {
      "text/html": [
       "<pre>    Data prepared in: 0.240725s</pre>"
      ],
      "text/plain": [
       "    Data prepared in: 0.240725s"
      ]
     },
     "metadata": {},
     "output_type": "display_data"
    },
    {
     "data": {
      "text/html": [
       "<pre>Training ranking_factorization_recommender for recommendations.</pre>"
      ],
      "text/plain": [
       "Training ranking_factorization_recommender for recommendations."
      ]
     },
     "metadata": {},
     "output_type": "display_data"
    },
    {
     "data": {
      "text/html": [
       "<pre>+--------------------------------+--------------------------------------------------+----------+</pre>"
      ],
      "text/plain": [
       "+--------------------------------+--------------------------------------------------+----------+"
      ]
     },
     "metadata": {},
     "output_type": "display_data"
    },
    {
     "data": {
      "text/html": [
       "<pre>| Parameter                      | Description                                      | Value    |</pre>"
      ],
      "text/plain": [
       "| Parameter                      | Description                                      | Value    |"
      ]
     },
     "metadata": {},
     "output_type": "display_data"
    },
    {
     "data": {
      "text/html": [
       "<pre>+--------------------------------+--------------------------------------------------+----------+</pre>"
      ],
      "text/plain": [
       "+--------------------------------+--------------------------------------------------+----------+"
      ]
     },
     "metadata": {},
     "output_type": "display_data"
    },
    {
     "data": {
      "text/html": [
       "<pre>| num_factors                    | Factor Dimension                                 | 32       |</pre>"
      ],
      "text/plain": [
       "| num_factors                    | Factor Dimension                                 | 32       |"
      ]
     },
     "metadata": {},
     "output_type": "display_data"
    },
    {
     "data": {
      "text/html": [
       "<pre>| regularization                 | L2 Regularization on Factors                     | 1e-09    |</pre>"
      ],
      "text/plain": [
       "| regularization                 | L2 Regularization on Factors                     | 1e-09    |"
      ]
     },
     "metadata": {},
     "output_type": "display_data"
    },
    {
     "data": {
      "text/html": [
       "<pre>| solver                         | Solver used for training                         | adagrad  |</pre>"
      ],
      "text/plain": [
       "| solver                         | Solver used for training                         | adagrad  |"
      ]
     },
     "metadata": {},
     "output_type": "display_data"
    },
    {
     "data": {
      "text/html": [
       "<pre>| linear_regularization          | L2 Regularization on Linear Coefficients         | 1e-09    |</pre>"
      ],
      "text/plain": [
       "| linear_regularization          | L2 Regularization on Linear Coefficients         | 1e-09    |"
      ]
     },
     "metadata": {},
     "output_type": "display_data"
    },
    {
     "data": {
      "text/html": [
       "<pre>| ranking_regularization         | Rank-based Regularization Weight                 | 0.25     |</pre>"
      ],
      "text/plain": [
       "| ranking_regularization         | Rank-based Regularization Weight                 | 0.25     |"
      ]
     },
     "metadata": {},
     "output_type": "display_data"
    },
    {
     "data": {
      "text/html": [
       "<pre>| max_iterations                 | Maximum Number of Iterations                     | 25       |</pre>"
      ],
      "text/plain": [
       "| max_iterations                 | Maximum Number of Iterations                     | 25       |"
      ]
     },
     "metadata": {},
     "output_type": "display_data"
    },
    {
     "data": {
      "text/html": [
       "<pre>+--------------------------------+--------------------------------------------------+----------+</pre>"
      ],
      "text/plain": [
       "+--------------------------------+--------------------------------------------------+----------+"
      ]
     },
     "metadata": {},
     "output_type": "display_data"
    },
    {
     "data": {
      "text/html": [
       "<pre>  Optimizing model using SGD; tuning step size.</pre>"
      ],
      "text/plain": [
       "  Optimizing model using SGD; tuning step size."
      ]
     },
     "metadata": {},
     "output_type": "display_data"
    },
    {
     "data": {
      "text/html": [
       "<pre>  Using 2556 / 2556 points for tuning the step size.</pre>"
      ],
      "text/plain": [
       "  Using 2556 / 2556 points for tuning the step size."
      ]
     },
     "metadata": {},
     "output_type": "display_data"
    },
    {
     "data": {
      "text/html": [
       "<pre>+---------+-------------------+------------------------------------------+</pre>"
      ],
      "text/plain": [
       "+---------+-------------------+------------------------------------------+"
      ]
     },
     "metadata": {},
     "output_type": "display_data"
    },
    {
     "data": {
      "text/html": [
       "<pre>| Attempt | Initial Step Size | Estimated Objective Value                |</pre>"
      ],
      "text/plain": [
       "| Attempt | Initial Step Size | Estimated Objective Value                |"
      ]
     },
     "metadata": {},
     "output_type": "display_data"
    },
    {
     "data": {
      "text/html": [
       "<pre>+---------+-------------------+------------------------------------------+</pre>"
      ],
      "text/plain": [
       "+---------+-------------------+------------------------------------------+"
      ]
     },
     "metadata": {},
     "output_type": "display_data"
    },
    {
     "data": {
      "text/html": [
       "<pre>| 0       | 12.5              | Not Viable                               |</pre>"
      ],
      "text/plain": [
       "| 0       | 12.5              | Not Viable                               |"
      ]
     },
     "metadata": {},
     "output_type": "display_data"
    },
    {
     "data": {
      "text/html": [
       "<pre>| 1       | 3.125             | 278.731                                  |</pre>"
      ],
      "text/plain": [
       "| 1       | 3.125             | 278.731                                  |"
      ]
     },
     "metadata": {},
     "output_type": "display_data"
    },
    {
     "data": {
      "text/html": [
       "<pre>| 2       | 1.5625            | 234.24                                   |</pre>"
      ],
      "text/plain": [
       "| 2       | 1.5625            | 234.24                                   |"
      ]
     },
     "metadata": {},
     "output_type": "display_data"
    },
    {
     "data": {
      "text/html": [
       "<pre>| 3       | 0.78125           | 237.712                                  |</pre>"
      ],
      "text/plain": [
       "| 3       | 0.78125           | 237.712                                  |"
      ]
     },
     "metadata": {},
     "output_type": "display_data"
    },
    {
     "data": {
      "text/html": [
       "<pre>| 4       | 0.390625          | 221.456                                  |</pre>"
      ],
      "text/plain": [
       "| 4       | 0.390625          | 221.456                                  |"
      ]
     },
     "metadata": {},
     "output_type": "display_data"
    },
    {
     "data": {
      "text/html": [
       "<pre>| 5       | 0.195312          | 299.024                                  |</pre>"
      ],
      "text/plain": [
       "| 5       | 0.195312          | 299.024                                  |"
      ]
     },
     "metadata": {},
     "output_type": "display_data"
    },
    {
     "data": {
      "text/html": [
       "<pre>| 6       | 0.0976562         | 358.398                                  |</pre>"
      ],
      "text/plain": [
       "| 6       | 0.0976562         | 358.398                                  |"
      ]
     },
     "metadata": {},
     "output_type": "display_data"
    },
    {
     "data": {
      "text/html": [
       "<pre>| 7       | 0.0488281         | 468.088                                  |</pre>"
      ],
      "text/plain": [
       "| 7       | 0.0488281         | 468.088                                  |"
      ]
     },
     "metadata": {},
     "output_type": "display_data"
    },
    {
     "data": {
      "text/html": [
       "<pre>+---------+-------------------+------------------------------------------+</pre>"
      ],
      "text/plain": [
       "+---------+-------------------+------------------------------------------+"
      ]
     },
     "metadata": {},
     "output_type": "display_data"
    },
    {
     "data": {
      "text/html": [
       "<pre>| Final   | 0.390625          | 221.456                                  |</pre>"
      ],
      "text/plain": [
       "| Final   | 0.390625          | 221.456                                  |"
      ]
     },
     "metadata": {},
     "output_type": "display_data"
    },
    {
     "data": {
      "text/html": [
       "<pre>+---------+-------------------+------------------------------------------+</pre>"
      ],
      "text/plain": [
       "+---------+-------------------+------------------------------------------+"
      ]
     },
     "metadata": {},
     "output_type": "display_data"
    },
    {
     "data": {
      "text/html": [
       "<pre>Starting Optimization.</pre>"
      ],
      "text/plain": [
       "Starting Optimization."
      ]
     },
     "metadata": {},
     "output_type": "display_data"
    },
    {
     "data": {
      "text/html": [
       "<pre>+---------+--------------+-------------------+-----------------------+-------------+</pre>"
      ],
      "text/plain": [
       "+---------+--------------+-------------------+-----------------------+-------------+"
      ]
     },
     "metadata": {},
     "output_type": "display_data"
    },
    {
     "data": {
      "text/html": [
       "<pre>| Iter.   | Elapsed Time | Approx. Objective | Approx. Training RMSE | Step Size   |</pre>"
      ],
      "text/plain": [
       "| Iter.   | Elapsed Time | Approx. Objective | Approx. Training RMSE | Step Size   |"
      ]
     },
     "metadata": {},
     "output_type": "display_data"
    },
    {
     "data": {
      "text/html": [
       "<pre>+---------+--------------+-------------------+-----------------------+-------------+</pre>"
      ],
      "text/plain": [
       "+---------+--------------+-------------------+-----------------------+-------------+"
      ]
     },
     "metadata": {},
     "output_type": "display_data"
    },
    {
     "data": {
      "text/html": [
       "<pre>| Initial | 557us        | 706.541           | 18.9825               |             |</pre>"
      ],
      "text/plain": [
       "| Initial | 557us        | 706.541           | 18.9825               |             |"
      ]
     },
     "metadata": {},
     "output_type": "display_data"
    },
    {
     "data": {
      "text/html": [
       "<pre>+---------+--------------+-------------------+-----------------------+-------------+</pre>"
      ],
      "text/plain": [
       "+---------+--------------+-------------------+-----------------------+-------------+"
      ]
     },
     "metadata": {},
     "output_type": "display_data"
    },
    {
     "data": {
      "text/html": [
       "<pre>| 1       | 309.934ms    | 467.465           | 10.1666               | 0.390625    |</pre>"
      ],
      "text/plain": [
       "| 1       | 309.934ms    | 467.465           | 10.1666               | 0.390625    |"
      ]
     },
     "metadata": {},
     "output_type": "display_data"
    },
    {
     "data": {
      "text/html": [
       "<pre>| 2       | 372.256ms    | 405.039           | 7.9004                | 0.390625    |</pre>"
      ],
      "text/plain": [
       "| 2       | 372.256ms    | 405.039           | 7.9004                | 0.390625    |"
      ]
     },
     "metadata": {},
     "output_type": "display_data"
    },
    {
     "data": {
      "text/html": [
       "<pre>| 3       | 453.13ms     | 351.665           | 6.6454                | 0.390625    |</pre>"
      ],
      "text/plain": [
       "| 3       | 453.13ms     | 351.665           | 6.6454                | 0.390625    |"
      ]
     },
     "metadata": {},
     "output_type": "display_data"
    },
    {
     "data": {
      "text/html": [
       "<pre>| 4       | 529.005ms    | 319.274           | 6.04585               | 0.390625    |</pre>"
      ],
      "text/plain": [
       "| 4       | 529.005ms    | 319.274           | 6.04585               | 0.390625    |"
      ]
     },
     "metadata": {},
     "output_type": "display_data"
    },
    {
     "data": {
      "text/html": [
       "<pre>| 5       | 593.712ms    | 287.093           | 5.46183               | 0.390625    |</pre>"
      ],
      "text/plain": [
       "| 5       | 593.712ms    | 287.093           | 5.46183               | 0.390625    |"
      ]
     },
     "metadata": {},
     "output_type": "display_data"
    },
    {
     "data": {
      "text/html": [
       "<pre>| 10      | 1.22s        | 214.927           | 7.7563                | 0.390625    |</pre>"
      ],
      "text/plain": [
       "| 10      | 1.22s        | 214.927           | 7.7563                | 0.390625    |"
      ]
     },
     "metadata": {},
     "output_type": "display_data"
    },
    {
     "data": {
      "text/html": [
       "<pre>| 25      | 4.00s        | 111.882           | 4.24758               | 0.390625    |</pre>"
      ],
      "text/plain": [
       "| 25      | 4.00s        | 111.882           | 4.24758               | 0.390625    |"
      ]
     },
     "metadata": {},
     "output_type": "display_data"
    },
    {
     "data": {
      "text/html": [
       "<pre>+---------+--------------+-------------------+-----------------------+-------------+</pre>"
      ],
      "text/plain": [
       "+---------+--------------+-------------------+-----------------------+-------------+"
      ]
     },
     "metadata": {},
     "output_type": "display_data"
    },
    {
     "data": {
      "text/html": [
       "<pre>Optimization Complete: Maximum number of passes through the data reached.</pre>"
      ],
      "text/plain": [
       "Optimization Complete: Maximum number of passes through the data reached."
      ]
     },
     "metadata": {},
     "output_type": "display_data"
    },
    {
     "data": {
      "text/html": [
       "<pre>Computing final objective value and training RMSE.</pre>"
      ],
      "text/plain": [
       "Computing final objective value and training RMSE."
      ]
     },
     "metadata": {},
     "output_type": "display_data"
    },
    {
     "data": {
      "text/html": [
       "<pre>       Final objective value: 109.996</pre>"
      ],
      "text/plain": [
       "       Final objective value: 109.996"
      ]
     },
     "metadata": {},
     "output_type": "display_data"
    },
    {
     "data": {
      "text/html": [
       "<pre>       Final training RMSE: 4.23548</pre>"
      ],
      "text/plain": [
       "       Final training RMSE: 4.23548"
      ]
     },
     "metadata": {},
     "output_type": "display_data"
    }
   ],
   "source": [
    "m2 = tc.recommender.create(bigdata, 'user', 'title', target='votes')"
   ]
  },
  {
   "cell_type": "code",
   "execution_count": 152,
   "id": "radio-observation",
   "metadata": {},
   "outputs": [
    {
     "name": "stdout",
     "output_type": "stream",
     "text": [
      "['No continuous function switches $\\\\mathbb{Q}$ and the irrationals', \"Witt's proof of Gelfand-Mazur / Ostrowski's theorem\", 'Infiniteness of non-twin primes.', 'Proving the snake lemma without a diagram chase', 'Product of two Gaussian PDFs is a Gaussian PDF, but Product of two Gaussian Variables is not Gaussian', 'If $F(a_1,\\\\ldots,a_k)=0$ whenever $a_1,\\\\ldots,a_k$ are integers such that $f(x)=x^k-a_1x^{k-1}-\\\\cdots-a_k$ is irreducible, then $F\\\\equiv0$', 'What is so special about $\\\\alpha=-1$ in the integral of $x^\\\\alpha$?', 'Asymptotics for the expected length of the longest streak of heads.', 'Is $\\\\int_{M_{n}(\\\\mathbb{R})} e^{-A^{2}}d\\\\mu$ a convergent integral?', 'Why does separation of variable gives the general solution to a PDE']\n"
     ]
    }
   ],
   "source": [
    "rec2 = m2.recommend(tc.SArray(['Adam Freymiller']))\n",
    "print(rec2['title'])"
   ]
  },
  {
   "cell_type": "code",
   "execution_count": 154,
   "id": "breeding-insurance",
   "metadata": {},
   "outputs": [
    {
     "name": "stdout",
     "output_type": "stream",
     "text": [
      "True\n",
      "True\n",
      "True\n",
      "True\n",
      "True\n",
      "True\n",
      "True\n",
      "True\n",
      "True\n",
      "True\n"
     ]
    }
   ],
   "source": [
    "for t in rec2['title']:\n",
    "    print(t in data['title'])"
   ]
  },
  {
   "cell_type": "code",
   "execution_count": 155,
   "id": "martial-wonder",
   "metadata": {},
   "outputs": [
    {
     "ename": "TypeError",
     "evalue": "'in <string>' requires string as left operand, not list",
     "output_type": "error",
     "traceback": [
      "\u001b[0;31m---------------------------------------------------------------------------\u001b[0m",
      "\u001b[0;31mTypeError\u001b[0m                                 Traceback (most recent call last)",
      "\u001b[0;32m<ipython-input-155-965829e43abf>\u001b[0m in \u001b[0;36m<module>\u001b[0;34m\u001b[0m\n\u001b[0;32m----> 1\u001b[0;31m \u001b[0;34m[\u001b[0m\u001b[0;34m'a'\u001b[0m\u001b[0;34m,\u001b[0m \u001b[0;34m'b'\u001b[0m\u001b[0;34m]\u001b[0m \u001b[0;32min\u001b[0m \u001b[0;34m'aa'\u001b[0m\u001b[0;34m\u001b[0m\u001b[0;34m\u001b[0m\u001b[0m\n\u001b[0m",
      "\u001b[0;31mTypeError\u001b[0m: 'in <string>' requires string as left operand, not list"
     ]
    }
   ],
   "source": [
    "['a', 'b'] in 'aa'"
   ]
  },
  {
   "cell_type": "code",
   "execution_count": 158,
   "id": "frank-bachelor",
   "metadata": {},
   "outputs": [
    {
     "data": {
      "text/plain": [
       "[]"
      ]
     },
     "execution_count": 158,
     "metadata": {},
     "output_type": "execute_result"
    }
   ],
   "source": [
    "l = ['a', 'b']\n",
    "l.remove('a')\n",
    "l.remove('b')\n",
    "l"
   ]
  },
  {
   "cell_type": "code",
   "execution_count": 169,
   "id": "grave-miller",
   "metadata": {
    "scrolled": true
   },
   "outputs": [
    {
     "name": "stdout",
     "output_type": "stream",
     "text": [
      "['No continuous function switches $\\\\mathbb{Q}$ and the irrationals', \"Witt's proof of Gelfand-Mazur / Ostrowski's theorem\", 'Infiniteness of non-twin primes.', 'Proving the snake lemma without a diagram chase', 'Product of two Gaussian PDFs is a Gaussian PDF, but Product of two Gaussian Variables is not Gaussian', 'If $F(a_1,\\\\ldots,a_k)=0$ whenever $a_1,\\\\ldots,a_k$ are integers such that $f(x)=x^k-a_1x^{k-1}-\\\\cdots-a_k$ is irreducible, then $F\\\\equiv0$', 'What is so special about $\\\\alpha=-1$ in the integral of $x^\\\\alpha$?', 'Asymptotics for the expected length of the longest streak of heads.', 'Is $\\\\int_{M_{n}(\\\\mathbb{R})} e^{-A^{2}}d\\\\mu$ a convergent integral?', 'Why does separation of variable gives the general solution to a PDE'] \n",
      "\n",
      "Infiniteness of non-twin primes. ['elementary-number-theory', 'prime-numbers', 'prime-twins']\n",
      "Product of two Gaussian PDFs is a Gaussian PDF, but Product of two Gaussian Variables is not Gaussian ['probability', 'intuition']\n",
      "What is so special about $\\alpha=-1$ in the integral of $x^\\alpha$? ['calculus', 'integration']\n",
      "No continuous function switches $\\mathbb{Q}$ and the irrationals ['real-analysis', 'functions', 'continuity']\n",
      "Proving the snake lemma without a diagram chase ['commutative-algebra', 'category-theory', 'homological-algebra', 'abelian-categories']\n",
      "Why does separation of variable gives the general solution to a PDE ['real-analysis', 'linear-algebra', 'functional-analysis', 'partial-differential-equations']\n",
      "Witt's proof of Gelfand-Mazur / Ostrowski's theorem ['real-analysis', 'complex-analysis', 'functional-analysis', 'ordinary-differential-equations', 'banach-algebras']\n",
      "Asymptotics for the expected length of the longest streak of heads. ['probability', 'asymptotics', 'recurrence-relations', 'generating-functions']\n",
      "Is $\\int_{M_{n}(\\mathbb{R})} e^{-A^{2}}d\\mu$ a convergent integral? ['real-analysis', 'integration', 'matrices', 'improper-integrals', 'gaussian-integral']\n",
      "If $F(a_1,\\ldots,a_k)=0$ whenever $a_1,\\ldots,a_k$ are integers such that $f(x)=x^k-a_1x^{k-1}-\\cdots-a_k$ is irreducible, then $F\\equiv0$ ['abstract-algebra', 'polynomials', 'irreducible-polynomials']\n",
      "\n",
      " Counter({'real-analysis': 4, 'probability': 2, 'integration': 2, 'functional-analysis': 2, 'elementary-number-theory': 1, 'prime-numbers': 1, 'prime-twins': 1, 'intuition': 1, 'calculus': 1, 'functions': 1, 'continuity': 1, 'commutative-algebra': 1, 'category-theory': 1, 'homological-algebra': 1, 'abelian-categories': 1, 'linear-algebra': 1, 'partial-differential-equations': 1, 'complex-analysis': 1, 'ordinary-differential-equations': 1, 'banach-algebras': 1, 'asymptotics': 1, 'recurrence-relations': 1, 'generating-functions': 1, 'matrices': 1, 'improper-integrals': 1, 'gaussian-integral': 1, 'abstract-algebra': 1, 'polynomials': 1, 'irreducible-polynomials': 1})\n"
     ]
    }
   ],
   "source": [
    "queries = list(rec2['title'])\n",
    "print(queries, '\\n')\n",
    "\n",
    "rtags = Counter()\n",
    "\n",
    "for row in data:\n",
    "    if len(queries) == 0:\n",
    "        break\n",
    "    else:\n",
    "        for q in queries:\n",
    "            if q in row['title']:\n",
    "                print(q, row['tags'])\n",
    "                rtags += Counter(row['tags'])\n",
    "                queries.remove(q)\n",
    "print('\\n', rtags)"
   ]
  },
  {
   "cell_type": "code",
   "execution_count": null,
   "id": "wooden-hardware",
   "metadata": {},
   "outputs": [],
   "source": []
  }
 ],
 "metadata": {
  "kernelspec": {
   "display_name": "Python 3",
   "language": "python",
   "name": "python3"
  },
  "language_info": {
   "codemirror_mode": {
    "name": "ipython",
    "version": 3
   },
   "file_extension": ".py",
   "mimetype": "text/x-python",
   "name": "python",
   "nbconvert_exporter": "python",
   "pygments_lexer": "ipython3",
   "version": "3.8.6"
  },
  "toc": {
   "base_numbering": 1,
   "nav_menu": {},
   "number_sections": true,
   "sideBar": true,
   "skip_h1_title": false,
   "title_cell": "Table of Contents",
   "title_sidebar": "Contents",
   "toc_cell": false,
   "toc_position": {},
   "toc_section_display": true,
   "toc_window_display": false
  }
 },
 "nbformat": 4,
 "nbformat_minor": 5
}
